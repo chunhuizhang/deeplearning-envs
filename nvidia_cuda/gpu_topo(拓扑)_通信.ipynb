{
 "cells": [
  {
   "cell_type": "markdown",
   "id": "304efc49",
   "metadata": {},
   "source": [
    "`Using RTX 4000 series which doesn't support faster communication speedups. Ensuring P2P and IB communications are disabled.`"
   ]
  },
  {
   "cell_type": "code",
   "execution_count": 3,
   "id": "15776a97-1e50-4b4a-a4ba-dc34a53a8cee",
   "metadata": {},
   "outputs": [],
   "source": [
    "from IPython.display import Image"
   ]
  },
  {
   "cell_type": "markdown",
   "id": "5df2c9f8-5594-498d-944d-d78a83f9e448",
   "metadata": {},
   "source": [
    "## 拓扑"
   ]
  },
  {
   "cell_type": "markdown",
   "id": "ba9f5e77-8bac-40ff-b43d-169314d5d757",
   "metadata": {},
   "source": [
    "https://juejin.cn/post/7151226884351590431\n",
    "\n",
    "- X： 自身\n",
    "- SYS：通过 PCIe 的连接以及 NUMA 节点之间的 SMP 互连（例如，QPI/UPI）\n",
    "- NODE：通过 PCIe 的连接以及 NUMA 节点内 PCIe 主机桥之间的互连\n",
    "- PHB：通过 PCIe 和 PCIe 主机桥（通常是 CPU）的连接\n",
    "- PXB：通过多个 PCIe 桥互连（不跨 PCIe 主机桥）\n",
    "- PIX：通过最多一个 PCIe 桥互连\n",
    "- NV# ：通过数量为n组的 NVLinks 互连"
   ]
  },
  {
   "cell_type": "code",
   "execution_count": 1,
   "id": "0b03019c-02be-4d37-9db2-705446098077",
   "metadata": {
    "execution": {
     "iopub.execute_input": "2024-08-09T11:58:07.386366Z",
     "iopub.status.busy": "2024-08-09T11:58:07.385745Z",
     "iopub.status.idle": "2024-08-09T11:58:07.573062Z",
     "shell.execute_reply": "2024-08-09T11:58:07.570713Z",
     "shell.execute_reply.started": "2024-08-09T11:58:07.386316Z"
    }
   },
   "outputs": [
    {
     "name": "stdout",
     "output_type": "stream",
     "text": [
      "\t\u001b[4mGPU0\tGPU1\tCPU Affinity\tNUMA Affinity\tGPU NUMA ID\u001b[0m\n",
      "GPU0\t X \tSYS\t0-63\t0\t\tN/A\n",
      "GPU1\tSYS\t X \t0-63\t0\t\tN/A\n",
      "\n",
      "Legend:\n",
      "\n",
      "  X    = Self\n",
      "  SYS  = Connection traversing PCIe as well as the SMP interconnect between NUMA nodes (e.g., QPI/UPI)\n",
      "  NODE = Connection traversing PCIe as well as the interconnect between PCIe Host Bridges within a NUMA node\n",
      "  PHB  = Connection traversing PCIe as well as a PCIe Host Bridge (typically the CPU)\n",
      "  PXB  = Connection traversing multiple PCIe bridges (without traversing the PCIe Host Bridge)\n",
      "  PIX  = Connection traversing at most a single PCIe bridge\n",
      "  NV#  = Connection traversing a bonded set of # NVLinks\n"
     ]
    }
   ],
   "source": [
    "!nvidia-smi topo -m"
   ]
  },
  {
   "cell_type": "markdown",
   "id": "8aac45cc-2f39-4791-9222-ba2f0e5da385",
   "metadata": {},
   "source": [
    "### gpu affinity（亲和性）"
   ]
  },
  {
   "cell_type": "markdown",
   "id": "9864004b-5f08-41b8-87cd-a237005ba6ca",
   "metadata": {},
   "source": [
    "- https://github.com/NVIDIA/gpu_affinity"
   ]
  },
  {
   "cell_type": "markdown",
   "id": "f6f73340-d0d0-4179-94ba-93593eecff94",
   "metadata": {},
   "source": [
    "## GPU 与硬件"
   ]
  },
  {
   "cell_type": "markdown",
   "id": "b2a9eafc-a1d4-4c49-bbfe-4e3a94932b9b",
   "metadata": {},
   "source": [
    "- bus interface：总线接口\n",
    "    - 4090 的 bus interface：PCIe 4.0 x16（可以向下兼容到 x8，不过会有性能的损失）\n",
    "        - PCIe 4.0 是代数；\n",
    "        - x16：则是带宽；\n",
    "        - 4.0 * x8 == 3.0 * x16\n",
    "    - x16 vs. x8 插槽\n",
    "        - 16个数据传输通道，可以提供最大的数据带宽，\n",
    "        - x8 插槽有8个数据传输通道，它的带宽是x16的一半。"
   ]
  },
  {
   "cell_type": "code",
   "execution_count": 6,
   "id": "b283c561-aa31-4b4d-a15d-fc27fc8b2a45",
   "metadata": {},
   "outputs": [
    {
     "data": {
      "text/html": [
       "<img src=\"https://i0.wp.com/www.deskdecode.com/wp-content/uploads/2022/07/PCI-Express-X16-vs.-X8-vs.-X4-vs.-X1-Slot-on-motherboard.jpg\" width=\"400\"/>"
      ],
      "text/plain": [
       "<IPython.core.display.Image object>"
      ]
     },
     "execution_count": 6,
     "metadata": {},
     "output_type": "execute_result"
    }
   ],
   "source": [
    "Image(url='https://i0.wp.com/www.deskdecode.com/wp-content/uploads/2022/07/PCI-Express-X16-vs.-X8-vs.-X4-vs.-X1-Slot-on-motherboard.jpg', width=400)"
   ]
  },
  {
   "cell_type": "code",
   "execution_count": 1,
   "id": "ef88fd20-39bc-430d-a2ef-83b698fed11a",
   "metadata": {},
   "outputs": [
    {
     "name": "stdout",
     "output_type": "stream",
     "text": [
      "03:00.0 VGA compatible controller: ASPEED Technology, Inc. ASPEED Graphics Family (rev 52)\n",
      "18:00.0 VGA compatible controller: NVIDIA Corporation Device 2684 (rev a1)\n",
      "8a:00.0 VGA compatible controller: NVIDIA Corporation Device 2684 (rev a1)\n"
     ]
    }
   ],
   "source": [
    "!lspci | grep -i vga"
   ]
  },
  {
   "cell_type": "markdown",
   "id": "52f231b5-56b9-4871-8829-54544201abb6",
   "metadata": {},
   "source": [
    "- 如何查是 x16 还是 x8\n",
    "    - `!sudo lspci -vvv -s 18:00.0 | grep -i lnkcap`"
   ]
  },
  {
   "cell_type": "code",
   "execution_count": null,
   "id": "ae32f8e5-57d7-4cdd-b23c-d35a2c5f1254",
   "metadata": {},
   "outputs": [],
   "source": []
  }
 ],
 "metadata": {
  "kernelspec": {
   "display_name": "Python 3 (ipykernel)",
   "language": "python",
   "name": "python3"
  },
  "language_info": {
   "codemirror_mode": {
    "name": "ipython",
    "version": 3
   },
   "file_extension": ".py",
   "mimetype": "text/x-python",
   "name": "python",
   "nbconvert_exporter": "python",
   "pygments_lexer": "ipython3",
   "version": "3.10.13"
  },
  "toc": {
   "base_numbering": 1,
   "nav_menu": {},
   "number_sections": true,
   "sideBar": true,
   "skip_h1_title": false,
   "title_cell": "Table of Contents",
   "title_sidebar": "Contents",
   "toc_cell": false,
   "toc_position": {},
   "toc_section_display": true,
   "toc_window_display": false
  }
 },
 "nbformat": 4,
 "nbformat_minor": 5
}
