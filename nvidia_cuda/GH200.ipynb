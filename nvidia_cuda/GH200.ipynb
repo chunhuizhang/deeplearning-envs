{
 "cells": [
  {
   "cell_type": "code",
   "execution_count": 1,
   "id": "f5ccc128",
   "metadata": {
    "ExecuteTime": {
     "end_time": "2024-02-29T13:46:57.226775Z",
     "start_time": "2024-02-29T13:46:57.210854Z"
    }
   },
   "outputs": [],
   "source": [
    "from IPython.display import Image"
   ]
  },
  {
   "cell_type": "markdown",
   "id": "b8497d1d",
   "metadata": {},
   "source": [
    "## NVIDIA GH200 480GB"
   ]
  },
  {
   "cell_type": "code",
   "execution_count": 2,
   "id": "497af658",
   "metadata": {
    "ExecuteTime": {
     "end_time": "2024-02-29T13:47:05.669306Z",
     "start_time": "2024-02-29T13:47:05.653295Z"
    },
    "scrolled": true
   },
   "outputs": [
    {
     "data": {
      "text/html": [
       "<img src=\"../imgs/gh200.jpeg\"/>"
      ],
      "text/plain": [
       "<IPython.core.display.Image object>"
      ]
     },
     "execution_count": 2,
     "metadata": {},
     "output_type": "execute_result"
    }
   ],
   "source": [
    "Image(url='../imgs/gh200.jpeg')"
   ]
  },
  {
   "cell_type": "markdown",
   "id": "89e7fdca",
   "metadata": {},
   "source": [
    "- 480GB的LPDDR5 CPU内存\n",
    "- 96GB的快速HBM3"
   ]
  }
 ],
 "metadata": {
  "kernelspec": {
   "display_name": "Python 3 (ipykernel)",
   "language": "python",
   "name": "python3"
  },
  "language_info": {
   "codemirror_mode": {
    "name": "ipython",
    "version": 3
   },
   "file_extension": ".py",
   "mimetype": "text/x-python",
   "name": "python",
   "nbconvert_exporter": "python",
   "pygments_lexer": "ipython3",
   "version": "3.10.13"
  },
  "toc": {
   "base_numbering": 1,
   "nav_menu": {},
   "number_sections": true,
   "sideBar": true,
   "skip_h1_title": false,
   "title_cell": "Table of Contents",
   "title_sidebar": "Contents",
   "toc_cell": false,
   "toc_position": {},
   "toc_section_display": true,
   "toc_window_display": false
  }
 },
 "nbformat": 4,
 "nbformat_minor": 5
}
