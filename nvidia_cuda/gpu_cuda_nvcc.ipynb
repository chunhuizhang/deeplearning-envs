{
 "cells": [
  {
   "cell_type": "code",
   "execution_count": 2,
   "id": "3443f092",
   "metadata": {
    "ExecuteTime": {
     "end_time": "2024-02-06T12:23:34.402840Z",
     "start_time": "2024-02-06T12:23:34.399348Z"
    }
   },
   "outputs": [],
   "source": [
    "import torch"
   ]
  },
  {
   "cell_type": "code",
   "execution_count": 3,
   "id": "1b437587",
   "metadata": {
    "ExecuteTime": {
     "end_time": "2024-02-06T12:23:35.378210Z",
     "start_time": "2024-02-06T12:23:35.372736Z"
    }
   },
   "outputs": [
    {
     "name": "stdout",
     "output_type": "stream",
     "text": [
      "2.0.1\n",
      "11.8\n"
     ]
    }
   ],
   "source": [
    "# 版本号\n",
    "print(torch.__version__)\n",
    "print(torch.version.cuda)"
   ]
  },
  {
   "cell_type": "code",
   "execution_count": 2,
   "id": "f80cfb18",
   "metadata": {
    "ExecuteTime": {
     "end_time": "2023-06-02T17:04:14.008462Z",
     "start_time": "2023-06-02T17:04:13.973035Z"
    }
   },
   "outputs": [
    {
     "data": {
      "text/plain": [
       "_CudaDeviceProperties(name='NVIDIA GeForce RTX 4090', major=8, minor=9, total_memory=24217MB, multi_processor_count=128)"
      ]
     },
     "execution_count": 2,
     "metadata": {},
     "output_type": "execute_result"
    }
   ],
   "source": [
    "# 设备基本属性\n",
    "torch.cuda.get_device_properties(torch.cuda.current_device())"
   ]
  },
  {
   "cell_type": "code",
   "execution_count": 3,
   "id": "4eaf66c2",
   "metadata": {
    "ExecuteTime": {
     "end_time": "2023-06-02T17:04:43.644780Z",
     "start_time": "2023-06-02T17:04:43.636583Z"
    }
   },
   "outputs": [
    {
     "data": {
      "text/plain": [
       "True"
      ]
     },
     "execution_count": 3,
     "metadata": {},
     "output_type": "execute_result"
    }
   ],
   "source": [
    "# bf16 支持\n",
    "torch.cuda.is_bf16_supported()"
   ]
  },
  {
   "cell_type": "markdown",
   "id": "546d1ab4",
   "metadata": {},
   "source": [
    "## cuda 版本及多版本安装"
   ]
  },
  {
   "cell_type": "markdown",
   "id": "eb5a3fb3",
   "metadata": {},
   "source": [
    "- 三种常见cuda \n",
    "    - nvidia-smi，安装 nvidia driver 后，使用nvidia-smi查看时，显示的 cuda version；\n",
    "    - cuda install：安装 cuda toolkit；（系统级别的 cuda）\n",
    "    - pytorch-cuda=12.1：安装 pytorch cuda 版（环境级别的cuda）；"
   ]
  },
  {
   "cell_type": "markdown",
   "id": "10eb81bb",
   "metadata": {},
   "source": [
    "### drivers"
   ]
  },
  {
   "cell_type": "markdown",
   "id": "d030ca1c",
   "metadata": {},
   "source": [
    "- 版本理应是越快越好，535 和 525；\n",
    "- 最好是用 apt 官方源的驱动；"
   ]
  },
  {
   "cell_type": "markdown",
   "id": "4bfcc100",
   "metadata": {},
   "source": [
    "### 12.2 安装 on ubuntu22.02"
   ]
  },
  {
   "cell_type": "markdown",
   "id": "6b41a0f4",
   "metadata": {},
   "source": [
    "- https://developer.nvidia.com/cuda-downloads"
   ]
  },
  {
   "cell_type": "markdown",
   "id": "1b7f70c4",
   "metadata": {},
   "source": [
    "### 多版本共存及切换"
   ]
  },
  {
   "cell_type": "markdown",
   "id": "40ab479e",
   "metadata": {},
   "source": [
    "- 通过 `.zshrc` 的 3 个环境变量来调控\n",
    "    \n",
    "    - `nvcc` 即在 `CUDA_HOME/bin`下；\n",
    "\n",
    "```\n",
    "export CUDA_HOME=/usr/local/cuda-12.2 \n",
    "export PATH=/usr/local/cuda-12.2/bin:$PATH \n",
    "export LD_LIBRARY_PATH=/usr/local/cuda-12.2/lib64:$LD_LIBRARY_PATH\n",
    "```\n"
   ]
  },
  {
   "cell_type": "markdown",
   "id": "5b52bbc4",
   "metadata": {},
   "source": [
    "## torch 重装"
   ]
  },
  {
   "cell_type": "markdown",
   "id": "388a00bd",
   "metadata": {},
   "source": [
    "- `conda install pytorch torchvision torchaudio pytorch-cuda=12.1 -c pytorch -c nvidia`\n",
    "    - https://pytorch.org/\n",
    "    - https://pytorch.org/get-started/previous-versions/"
   ]
  },
  {
   "cell_type": "markdown",
   "id": "3021621b",
   "metadata": {},
   "source": [
    "## cuda arch list 或者 计算兼容性"
   ]
  },
  {
   "cell_type": "code",
   "execution_count": 1,
   "id": "cc7d08a2",
   "metadata": {
    "ExecuteTime": {
     "end_time": "2023-12-20T14:29:19.247504Z",
     "start_time": "2023-12-20T14:29:17.502908Z"
    }
   },
   "outputs": [
    {
     "name": "stdout",
     "output_type": "stream",
     "text": [
      "(8, 9)\r\n"
     ]
    }
   ],
   "source": [
    "!CUDA_VISIBLE_DEVICES=0 python -c 'import torch; print(torch.cuda.get_device_capability())'"
   ]
  },
  {
   "cell_type": "code",
   "execution_count": 3,
   "id": "ddfed7bb",
   "metadata": {
    "ExecuteTime": {
     "end_time": "2023-12-20T14:31:35.167340Z",
     "start_time": "2023-12-20T14:31:35.161515Z"
    }
   },
   "outputs": [
    {
     "data": {
      "text/plain": [
       "(8, 9)"
      ]
     },
     "execution_count": 3,
     "metadata": {},
     "output_type": "execute_result"
    }
   ],
   "source": [
    "import torch\n",
    "# TORCH_CUDA_ARCH_LIST=\"8.6\"\n",
    "torch.cuda.get_device_capability()"
   ]
  },
  {
   "cell_type": "markdown",
   "id": "44742135",
   "metadata": {},
   "source": [
    "## nvcc"
   ]
  },
  {
   "cell_type": "code",
   "execution_count": 1,
   "id": "e38bcc30",
   "metadata": {
    "ExecuteTime": {
     "end_time": "2024-01-27T04:05:20.616650Z",
     "start_time": "2024-01-27T04:05:20.486152Z"
    }
   },
   "outputs": [
    {
     "name": "stdout",
     "output_type": "stream",
     "text": [
      "compute_35\r\n",
      "compute_37\r\n",
      "compute_50\r\n",
      "compute_52\r\n",
      "compute_53\r\n",
      "compute_60\r\n",
      "compute_61\r\n",
      "compute_62\r\n",
      "compute_70\r\n",
      "compute_72\r\n",
      "compute_75\r\n",
      "compute_80\r\n",
      "compute_86\r\n",
      "compute_87\r\n"
     ]
    }
   ],
   "source": [
    "!nvcc --list-gpu-arch"
   ]
  },
  {
   "cell_type": "markdown",
   "id": "77108dfb",
   "metadata": {},
   "source": [
    "## cuda 开发"
   ]
  },
  {
   "cell_type": "markdown",
   "id": "b790c04d",
   "metadata": {},
   "source": [
    "- cuda kernel 开发\n",
    "    - kernel 特指基于 cuda 的 function（函数），一般由 `__global__` 修饰；"
   ]
  }
 ],
 "metadata": {
  "kernelspec": {
   "display_name": "Python 3 (ipykernel)",
   "language": "python",
   "name": "python3"
  },
  "language_info": {
   "codemirror_mode": {
    "name": "ipython",
    "version": 3
   },
   "file_extension": ".py",
   "mimetype": "text/x-python",
   "name": "python",
   "nbconvert_exporter": "python",
   "pygments_lexer": "ipython3",
   "version": "3.10.13"
  },
  "toc": {
   "base_numbering": 1,
   "nav_menu": {},
   "number_sections": true,
   "sideBar": true,
   "skip_h1_title": false,
   "title_cell": "Table of Contents",
   "title_sidebar": "Contents",
   "toc_cell": false,
   "toc_position": {},
   "toc_section_display": true,
   "toc_window_display": false
  }
 },
 "nbformat": 4,
 "nbformat_minor": 5
}
