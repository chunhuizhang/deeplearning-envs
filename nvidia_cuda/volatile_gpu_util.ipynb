{
 "cells": [
  {
   "cell_type": "markdown",
   "id": "d1fc4378-0479-4d54-94cd-7770dc74afb3",
   "metadata": {},
   "source": [
    "- volatile gpu util: GPU的瞬时利用率"
   ]
  },
  {
   "cell_type": "markdown",
   "id": "bfe6fee0-158d-475f-ac82-3b4873d8a6b1",
   "metadata": {},
   "source": [
    "## gpu util 优化"
   ]
  },
  {
   "cell_type": "markdown",
   "id": "0ef1d65a-ddcb-4294-8c14-591859d8d5a6",
   "metadata": {},
   "source": [
    "- 如果出现 GPU 显存占用很高，模型也在 cuda 上面执行，但训练速度很慢，且 Gpu-Util 很低的情况； 可能原因是 **CPU 的数据加载太慢**，尤其是在多卡服务器中，多个程序同时执行，这个问题会更加严重。\n",
    "    - 此时应该在 PyTorch 的 DataLoader 中设置 `pin_memory=True`，以及 `num_workers` 参数：\n",
    "\n",
    "```\n",
    "from torch.utils.data import DataLoader\n",
    "train_dataloader = DataLoader(dataset, batch_size, pin_memory=True, num_workers=4)\n",
    "```\n",
    "\n",
    "- pin_memory 用于设置是否在 dataloader 返回数据之前将 Tensors 复制到 device/CUDA 中，默认为 False。其作用是**锁页内存**，将数据存储在的固定内存页上，不与硬盘进行内存交换，从而提高将数据从 CPU 传输到 GPU 的效率。\n",
    "- num_workers 用于设置加载数据的多进程的数量，默认为 0。在 windows 系统下可能只能设置为 0，在 linux 中可以设置为大于 1 的数，具体设置与服务器的 CPU 数量、batch_size 等参数有关。\n",
    "    - 实际使用中，在 batch_size=32 时，设置 pin_memory=True 和 num_workers=4 的训练速度是设置 pin_memory=False和 num_workers=0 的 40 倍。"
   ]
  },
  {
   "cell_type": "code",
   "execution_count": 3,
   "id": "82c165b1-d6e5-43fb-b582-6cc75a408724",
   "metadata": {},
   "outputs": [],
   "source": [
    "import os\n",
    "os.environ['http_proxy'] = 'http://127.0.0.1:7890'\n",
    "os.environ['https_proxy'] = 'http://127.0.0.1:7890'"
   ]
  },
  {
   "cell_type": "code",
   "execution_count": 9,
   "id": "5bc0f39d-5922-4e87-84c6-686a6b8338c2",
   "metadata": {},
   "outputs": [
    {
     "name": "stdout",
     "output_type": "stream",
     "text": [
      "Files already downloaded and verified\n",
      "Files already downloaded and verified\n"
     ]
    }
   ],
   "source": [
    "from time import time\n",
    "import multiprocessing as mp\n",
    "from torchvision import datasets\n",
    "from torchvision import transforms\n",
    "from torch.utils.data import DataLoader\n",
    "from tqdm.notebook import tqdm\n",
    "\n",
    "dataset_train = datasets.CIFAR10('./data', train=True, download=True, \n",
    "                             transform=transforms.Compose([transforms.ToTensor()]))\n",
    "\n",
    "dataset_test = datasets.CIFAR10('./data', train=False, download=True, \n",
    "                             transform=transforms.Compose([transforms.ToTensor()]))"
   ]
  },
  {
   "cell_type": "code",
   "execution_count": 12,
   "id": "707eba79-5965-4004-874c-de7c74bf424f",
   "metadata": {},
   "outputs": [
    {
     "data": {
      "application/vnd.jupyter.widget-view+json": {
       "model_id": "303d997688a544c58948978a614d811a",
       "version_major": 2,
       "version_minor": 0
      },
      "text/plain": [
       "  0%|          | 0/2 [00:00<?, ?it/s]"
      ]
     },
     "metadata": {},
     "output_type": "display_data"
    },
    {
     "data": {
      "application/vnd.jupyter.widget-view+json": {
       "model_id": "8840a6029a6741418b7db28638a9e66e",
       "version_major": 2,
       "version_minor": 0
      },
      "text/plain": [
       "  0%|          | 0/3 [00:00<?, ?it/s]"
      ]
     },
     "metadata": {},
     "output_type": "display_data"
    },
    {
     "data": {
      "application/vnd.jupyter.widget-view+json": {
       "model_id": "f2d697311f084fabad6cfe628936021e",
       "version_major": 2,
       "version_minor": 0
      },
      "text/plain": [
       "  0%|          | 0/4 [00:00<?, ?it/s]"
      ]
     },
     "metadata": {},
     "output_type": "display_data"
    },
    {
     "data": {
      "application/vnd.jupyter.widget-view+json": {
       "model_id": "7d5fcf30215b4636b464b8a833b4ded8",
       "version_major": 2,
       "version_minor": 0
      },
      "text/plain": [
       "  0%|          | 0/4 [00:00<?, ?it/s]"
      ]
     },
     "metadata": {},
     "output_type": "display_data"
    },
    {
     "data": {
      "application/vnd.jupyter.widget-view+json": {
       "model_id": "baa4d4ad8cad4f8688d2b01b2ce0ab5f",
       "version_major": 2,
       "version_minor": 0
      },
      "text/plain": [
       "  0%|          | 0/4 [00:00<?, ?it/s]"
      ]
     },
     "metadata": {},
     "output_type": "display_data"
    },
    {
     "data": {
      "application/vnd.jupyter.widget-view+json": {
       "model_id": "9f5fb441adba4b7fb3941f3a9a0c970f",
       "version_major": 2,
       "version_minor": 0
      },
      "text/plain": [
       "  0%|          | 0/3 [00:00<?, ?it/s]"
      ]
     },
     "metadata": {},
     "output_type": "display_data"
    },
    {
     "data": {
      "application/vnd.jupyter.widget-view+json": {
       "model_id": "64b1ab7677bb4db5a96a86a85ef0e3c0",
       "version_major": 2,
       "version_minor": 0
      },
      "text/plain": [
       "  0%|          | 0/4 [00:00<?, ?it/s]"
      ]
     },
     "metadata": {},
     "output_type": "display_data"
    },
    {
     "data": {
      "application/vnd.jupyter.widget-view+json": {
       "model_id": "64c634b3ad36424a8b86f401800abe18",
       "version_major": 2,
       "version_minor": 0
      },
      "text/plain": [
       "  0%|          | 0/4 [00:00<?, ?it/s]"
      ]
     },
     "metadata": {},
     "output_type": "display_data"
    },
    {
     "data": {
      "application/vnd.jupyter.widget-view+json": {
       "model_id": "06c3f61ee68b473380cfe6d30eab10ef",
       "version_major": 2,
       "version_minor": 0
      },
      "text/plain": [
       "  0%|          | 0/4 [00:00<?, ?it/s]"
      ]
     },
     "metadata": {},
     "output_type": "display_data"
    }
   ],
   "source": [
    "results = []\n",
    "for pin_memory in tqdm([False, True]):\n",
    "    for batch_size in tqdm([64,  512,  2048]):\n",
    "        for num_workers in tqdm(range(0, mp.cpu_count(), 16)):  \n",
    "            train_loader = DataLoader(dataset_train, shuffle=True, \n",
    "                                      pin_memory=pin_memory, \n",
    "                                      num_workers=num_workers,\n",
    "                                      batch_size=batch_size,\n",
    "                                     )\n",
    "            \n",
    "            start = time()\n",
    "            for epoch in range(1, 3):\n",
    "                for i, data in enumerate(train_loader, 0):\n",
    "                    pass\n",
    "            end = time()\n",
    "            results.append([pin_memory, batch_size, num_workers, end-start])"
   ]
  },
  {
   "cell_type": "code",
   "execution_count": 13,
   "id": "07a9adb6-db5f-4bb1-a1ab-0903980a88c2",
   "metadata": {},
   "outputs": [
    {
     "data": {
      "text/html": [
       "<div>\n",
       "<style scoped>\n",
       "    .dataframe tbody tr th:only-of-type {\n",
       "        vertical-align: middle;\n",
       "    }\n",
       "\n",
       "    .dataframe tbody tr th {\n",
       "        vertical-align: top;\n",
       "    }\n",
       "\n",
       "    .dataframe thead th {\n",
       "        text-align: right;\n",
       "    }\n",
       "</style>\n",
       "<table border=\"1\" class=\"dataframe\">\n",
       "  <thead>\n",
       "    <tr style=\"text-align: right;\">\n",
       "      <th></th>\n",
       "      <th>pin_memory</th>\n",
       "      <th>batch_size</th>\n",
       "      <th>num_workers</th>\n",
       "      <th>duration</th>\n",
       "    </tr>\n",
       "  </thead>\n",
       "  <tbody>\n",
       "    <tr>\n",
       "      <th>0</th>\n",
       "      <td>False</td>\n",
       "      <td>64</td>\n",
       "      <td>0</td>\n",
       "      <td>7.810005</td>\n",
       "    </tr>\n",
       "    <tr>\n",
       "      <th>1</th>\n",
       "      <td>False</td>\n",
       "      <td>64</td>\n",
       "      <td>16</td>\n",
       "      <td>2.141089</td>\n",
       "    </tr>\n",
       "    <tr>\n",
       "      <th>2</th>\n",
       "      <td>False</td>\n",
       "      <td>64</td>\n",
       "      <td>32</td>\n",
       "      <td>1.844908</td>\n",
       "    </tr>\n",
       "    <tr>\n",
       "      <th>3</th>\n",
       "      <td>False</td>\n",
       "      <td>64</td>\n",
       "      <td>48</td>\n",
       "      <td>1.991111</td>\n",
       "    </tr>\n",
       "    <tr>\n",
       "      <th>4</th>\n",
       "      <td>False</td>\n",
       "      <td>512</td>\n",
       "      <td>0</td>\n",
       "      <td>7.491087</td>\n",
       "    </tr>\n",
       "    <tr>\n",
       "      <th>5</th>\n",
       "      <td>False</td>\n",
       "      <td>512</td>\n",
       "      <td>16</td>\n",
       "      <td>1.264585</td>\n",
       "    </tr>\n",
       "    <tr>\n",
       "      <th>6</th>\n",
       "      <td>False</td>\n",
       "      <td>512</td>\n",
       "      <td>32</td>\n",
       "      <td>1.248658</td>\n",
       "    </tr>\n",
       "    <tr>\n",
       "      <th>7</th>\n",
       "      <td>False</td>\n",
       "      <td>512</td>\n",
       "      <td>48</td>\n",
       "      <td>1.439797</td>\n",
       "    </tr>\n",
       "    <tr>\n",
       "      <th>8</th>\n",
       "      <td>False</td>\n",
       "      <td>2048</td>\n",
       "      <td>0</td>\n",
       "      <td>7.882908</td>\n",
       "    </tr>\n",
       "    <tr>\n",
       "      <th>9</th>\n",
       "      <td>False</td>\n",
       "      <td>2048</td>\n",
       "      <td>16</td>\n",
       "      <td>1.686364</td>\n",
       "    </tr>\n",
       "    <tr>\n",
       "      <th>10</th>\n",
       "      <td>False</td>\n",
       "      <td>2048</td>\n",
       "      <td>32</td>\n",
       "      <td>1.516756</td>\n",
       "    </tr>\n",
       "    <tr>\n",
       "      <th>11</th>\n",
       "      <td>False</td>\n",
       "      <td>2048</td>\n",
       "      <td>48</td>\n",
       "      <td>1.584636</td>\n",
       "    </tr>\n",
       "    <tr>\n",
       "      <th>12</th>\n",
       "      <td>True</td>\n",
       "      <td>64</td>\n",
       "      <td>0</td>\n",
       "      <td>8.700765</td>\n",
       "    </tr>\n",
       "    <tr>\n",
       "      <th>13</th>\n",
       "      <td>True</td>\n",
       "      <td>64</td>\n",
       "      <td>16</td>\n",
       "      <td>1.774577</td>\n",
       "    </tr>\n",
       "    <tr>\n",
       "      <th>14</th>\n",
       "      <td>True</td>\n",
       "      <td>64</td>\n",
       "      <td>32</td>\n",
       "      <td>2.277412</td>\n",
       "    </tr>\n",
       "    <tr>\n",
       "      <th>15</th>\n",
       "      <td>True</td>\n",
       "      <td>64</td>\n",
       "      <td>48</td>\n",
       "      <td>2.731786</td>\n",
       "    </tr>\n",
       "    <tr>\n",
       "      <th>16</th>\n",
       "      <td>True</td>\n",
       "      <td>512</td>\n",
       "      <td>0</td>\n",
       "      <td>7.934228</td>\n",
       "    </tr>\n",
       "    <tr>\n",
       "      <th>17</th>\n",
       "      <td>True</td>\n",
       "      <td>512</td>\n",
       "      <td>16</td>\n",
       "      <td>1.548757</td>\n",
       "    </tr>\n",
       "    <tr>\n",
       "      <th>18</th>\n",
       "      <td>True</td>\n",
       "      <td>512</td>\n",
       "      <td>32</td>\n",
       "      <td>2.032053</td>\n",
       "    </tr>\n",
       "    <tr>\n",
       "      <th>19</th>\n",
       "      <td>True</td>\n",
       "      <td>512</td>\n",
       "      <td>48</td>\n",
       "      <td>2.275297</td>\n",
       "    </tr>\n",
       "    <tr>\n",
       "      <th>20</th>\n",
       "      <td>True</td>\n",
       "      <td>2048</td>\n",
       "      <td>0</td>\n",
       "      <td>8.640471</td>\n",
       "    </tr>\n",
       "    <tr>\n",
       "      <th>21</th>\n",
       "      <td>True</td>\n",
       "      <td>2048</td>\n",
       "      <td>16</td>\n",
       "      <td>1.663776</td>\n",
       "    </tr>\n",
       "    <tr>\n",
       "      <th>22</th>\n",
       "      <td>True</td>\n",
       "      <td>2048</td>\n",
       "      <td>32</td>\n",
       "      <td>1.911311</td>\n",
       "    </tr>\n",
       "    <tr>\n",
       "      <th>23</th>\n",
       "      <td>True</td>\n",
       "      <td>2048</td>\n",
       "      <td>48</td>\n",
       "      <td>2.249292</td>\n",
       "    </tr>\n",
       "  </tbody>\n",
       "</table>\n",
       "</div>"
      ],
      "text/plain": [
       "    pin_memory  batch_size  num_workers  duration\n",
       "0        False          64            0  7.810005\n",
       "1        False          64           16  2.141089\n",
       "2        False          64           32  1.844908\n",
       "3        False          64           48  1.991111\n",
       "4        False         512            0  7.491087\n",
       "5        False         512           16  1.264585\n",
       "6        False         512           32  1.248658\n",
       "7        False         512           48  1.439797\n",
       "8        False        2048            0  7.882908\n",
       "9        False        2048           16  1.686364\n",
       "10       False        2048           32  1.516756\n",
       "11       False        2048           48  1.584636\n",
       "12        True          64            0  8.700765\n",
       "13        True          64           16  1.774577\n",
       "14        True          64           32  2.277412\n",
       "15        True          64           48  2.731786\n",
       "16        True         512            0  7.934228\n",
       "17        True         512           16  1.548757\n",
       "18        True         512           32  2.032053\n",
       "19        True         512           48  2.275297\n",
       "20        True        2048            0  8.640471\n",
       "21        True        2048           16  1.663776\n",
       "22        True        2048           32  1.911311\n",
       "23        True        2048           48  2.249292"
      ]
     },
     "execution_count": 13,
     "metadata": {},
     "output_type": "execute_result"
    }
   ],
   "source": [
    "import pandas as pd\n",
    "df = pd.DataFrame(results, columns=['pin_memory', 'batch_size', 'num_workers', 'duration'])\n",
    "df"
   ]
  }
 ],
 "metadata": {
  "kernelspec": {
   "display_name": "Python 3 (ipykernel)",
   "language": "python",
   "name": "python3"
  },
  "language_info": {
   "codemirror_mode": {
    "name": "ipython",
    "version": 3
   },
   "file_extension": ".py",
   "mimetype": "text/x-python",
   "name": "python",
   "nbconvert_exporter": "python",
   "pygments_lexer": "ipython3",
   "version": "3.10.13"
  }
 },
 "nbformat": 4,
 "nbformat_minor": 5
}
