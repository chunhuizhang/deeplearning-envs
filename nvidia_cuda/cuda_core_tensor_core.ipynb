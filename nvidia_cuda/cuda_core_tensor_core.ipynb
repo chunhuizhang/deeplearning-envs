{
 "cells": [
  {
   "cell_type": "code",
   "execution_count": 7,
   "id": "daedf914-1254-4f4f-bc2b-5bff4a550194",
   "metadata": {
    "execution": {
     "iopub.execute_input": "2024-11-11T14:33:55.188930Z",
     "iopub.status.busy": "2024-11-11T14:33:55.188350Z",
     "iopub.status.idle": "2024-11-11T14:33:55.196986Z",
     "shell.execute_reply": "2024-11-11T14:33:55.195129Z",
     "shell.execute_reply.started": "2024-11-11T14:33:55.188885Z"
    }
   },
   "outputs": [],
   "source": [
    "from IPython.display import Image"
   ]
  },
  {
   "cell_type": "code",
   "execution_count": 1,
   "id": "68b53867-d56c-4247-8e20-26044d9aca73",
   "metadata": {
    "execution": {
     "iopub.execute_input": "2024-11-11T14:31:06.125223Z",
     "iopub.status.busy": "2024-11-11T14:31:06.124622Z",
     "iopub.status.idle": "2024-11-11T14:31:07.650951Z",
     "shell.execute_reply": "2024-11-11T14:31:07.650096Z",
     "shell.execute_reply.started": "2024-11-11T14:31:06.125177Z"
    }
   },
   "outputs": [],
   "source": [
    "import torch"
   ]
  },
  {
   "cell_type": "markdown",
   "id": "a2b33a4d-302d-40ca-b5ed-eba056ba2221",
   "metadata": {},
   "source": [
    "### tf32"
   ]
  },
  {
   "cell_type": "code",
   "execution_count": 8,
   "id": "a9e1ef52-d0ba-40f4-b5a5-035ce6fbe5ca",
   "metadata": {
    "execution": {
     "iopub.execute_input": "2024-11-11T14:34:02.681772Z",
     "iopub.status.busy": "2024-11-11T14:34:02.681190Z",
     "iopub.status.idle": "2024-11-11T14:34:02.693347Z",
     "shell.execute_reply": "2024-11-11T14:34:02.691238Z",
     "shell.execute_reply.started": "2024-11-11T14:34:02.681726Z"
    }
   },
   "outputs": [
    {
     "data": {
      "text/html": [
       "<img src=\"https://api.ibos.cn/v4/weapparticle/accesswximg?aid=86367&url=aHR0cHM6Ly9tbWJpei5xcGljLmNuL21tYml6X3BuZy9yY1Z1ZmlhVDAwVm5ZNTVQTnRnQ2dERVc0UzA5RVJKNERWSUtTRkZyRTZZOXVVUEFqQlJRTkpzc1owMjVjQUR2aFZvU2N5WVRJWnp3bFJnQnNKcmQ3bmcvNjQwP3d4X2ZtdD1wbmcmYW1w;from=appmsg\" width=\"400\"/>"
      ],
      "text/plain": [
       "<IPython.core.display.Image object>"
      ]
     },
     "execution_count": 8,
     "metadata": {},
     "output_type": "execute_result"
    }
   ],
   "source": [
    "Image(url='https://api.ibos.cn/v4/weapparticle/accesswximg?aid=86367&url=aHR0cHM6Ly9tbWJpei5xcGljLmNuL21tYml6X3BuZy9yY1Z1ZmlhVDAwVm5ZNTVQTnRnQ2dERVc0UzA5RVJKNERWSUtTRkZyRTZZOXVVUEFqQlJRTkpzc1owMjVjQUR2aFZvU2N5WVRJWnp3bFJnQnNKcmQ3bmcvNjQwP3d4X2ZtdD1wbmcmYW1w;from=appmsg', width=400)"
   ]
  },
  {
   "cell_type": "markdown",
   "id": "dba29187-8cb7-4308-af69-61db3ba71e7e",
   "metadata": {},
   "source": [
    "- bf16 的问题范围大，但精度小；\n",
    "- fp16 精度大，但范围小；"
   ]
  },
  {
   "cell_type": "code",
   "execution_count": 3,
   "id": "32626fb5-750f-475f-9232-140ba5c820e0",
   "metadata": {
    "execution": {
     "iopub.execute_input": "2024-11-11T14:31:13.814103Z",
     "iopub.status.busy": "2024-11-11T14:31:13.813081Z",
     "iopub.status.idle": "2024-11-11T14:31:13.822733Z",
     "shell.execute_reply": "2024-11-11T14:31:13.821455Z",
     "shell.execute_reply.started": "2024-11-11T14:31:13.814041Z"
    }
   },
   "outputs": [
    {
     "data": {
      "text/plain": [
       "torch.float32"
      ]
     },
     "execution_count": 3,
     "metadata": {},
     "output_type": "execute_result"
    }
   ],
   "source": [
    "torch.randn(5).dtype"
   ]
  },
  {
   "cell_type": "code",
   "execution_count": 9,
   "id": "70860540-9c7c-4eca-9dcb-d4ef2477bcc1",
   "metadata": {
    "execution": {
     "iopub.execute_input": "2024-11-11T14:35:09.718609Z",
     "iopub.status.busy": "2024-11-11T14:35:09.717971Z",
     "iopub.status.idle": "2024-11-11T14:35:09.728356Z",
     "shell.execute_reply": "2024-11-11T14:35:09.726150Z",
     "shell.execute_reply.started": "2024-11-11T14:35:09.718561Z"
    }
   },
   "outputs": [],
   "source": [
    "# Enable TF32 on CUDA\n",
    "torch.backends.cuda.matmul.allow_tf32 = True\n",
    "torch.backends.cudnn.allow_tf32 = True"
   ]
  },
  {
   "cell_type": "code",
   "execution_count": 6,
   "id": "d6047384-9cf4-49cb-8c88-6267e29291f6",
   "metadata": {
    "execution": {
     "iopub.execute_input": "2024-11-11T14:32:28.805513Z",
     "iopub.status.busy": "2024-11-11T14:32:28.805201Z",
     "iopub.status.idle": "2024-11-11T14:32:29.379421Z",
     "shell.execute_reply": "2024-11-11T14:32:29.377360Z",
     "shell.execute_reply.started": "2024-11-11T14:32:28.805491Z"
    }
   },
   "outputs": [
    {
     "ename": "TypeError",
     "evalue": "randn() received an invalid combination of arguments - got (int, dtype=str), but expected one of:\n * (tuple of ints size, *, torch.Generator generator, tuple of names names, torch.dtype dtype = None, torch.layout layout = None, torch.device device = None, bool pin_memory = False, bool requires_grad = False)\n * (tuple of ints size, *, torch.Generator generator, Tensor out = None, torch.dtype dtype = None, torch.layout layout = None, torch.device device = None, bool pin_memory = False, bool requires_grad = False)\n * (tuple of ints size, *, Tensor out = None, torch.dtype dtype = None, torch.layout layout = None, torch.device device = None, bool pin_memory = False, bool requires_grad = False)\n * (tuple of ints size, *, tuple of names names, torch.dtype dtype = None, torch.layout layout = None, torch.device device = None, bool pin_memory = False, bool requires_grad = False)\n",
     "output_type": "error",
     "traceback": [
      "\u001b[0;31m---------------------------------------------------------------------------\u001b[0m",
      "\u001b[0;31mTypeError\u001b[0m                                 Traceback (most recent call last)",
      "Cell \u001b[0;32mIn[6], line 1\u001b[0m\n\u001b[0;32m----> 1\u001b[0m \u001b[43mtorch\u001b[49m\u001b[38;5;241;43m.\u001b[39;49m\u001b[43mrandn\u001b[49m\u001b[43m(\u001b[49m\u001b[38;5;241;43m5\u001b[39;49m\u001b[43m,\u001b[49m\u001b[43m \u001b[49m\u001b[43mdtype\u001b[49m\u001b[38;5;241;43m=\u001b[39;49m\u001b[38;5;124;43m'\u001b[39;49m\u001b[38;5;124;43mtf32\u001b[39;49m\u001b[38;5;124;43m'\u001b[39;49m\u001b[43m)\u001b[49m\u001b[38;5;241m.\u001b[39mdtype\n",
      "\u001b[0;31mTypeError\u001b[0m: randn() received an invalid combination of arguments - got (int, dtype=str), but expected one of:\n * (tuple of ints size, *, torch.Generator generator, tuple of names names, torch.dtype dtype = None, torch.layout layout = None, torch.device device = None, bool pin_memory = False, bool requires_grad = False)\n * (tuple of ints size, *, torch.Generator generator, Tensor out = None, torch.dtype dtype = None, torch.layout layout = None, torch.device device = None, bool pin_memory = False, bool requires_grad = False)\n * (tuple of ints size, *, Tensor out = None, torch.dtype dtype = None, torch.layout layout = None, torch.device device = None, bool pin_memory = False, bool requires_grad = False)\n * (tuple of ints size, *, tuple of names names, torch.dtype dtype = None, torch.layout layout = None, torch.device device = None, bool pin_memory = False, bool requires_grad = False)\n"
     ]
    }
   ],
   "source": [
    "torch.randn(5, dtype='tf32').dtype"
   ]
  },
  {
   "cell_type": "code",
   "execution_count": null,
   "id": "35f8d8ef-bc76-4401-85a1-30cca20ed214",
   "metadata": {},
   "outputs": [],
   "source": []
  }
 ],
 "metadata": {
  "kernelspec": {
   "display_name": "Python 3 (ipykernel)",
   "language": "python",
   "name": "python3"
  },
  "language_info": {
   "codemirror_mode": {
    "name": "ipython",
    "version": 3
   },
   "file_extension": ".py",
   "mimetype": "text/x-python",
   "name": "python",
   "nbconvert_exporter": "python",
   "pygments_lexer": "ipython3",
   "version": "3.10.13"
  }
 },
 "nbformat": 4,
 "nbformat_minor": 5
}
