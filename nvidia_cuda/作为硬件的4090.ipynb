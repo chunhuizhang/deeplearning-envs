{
 "cells": [
  {
   "cell_type": "code",
   "execution_count": 1,
   "id": "dae282e0-e9da-4707-b84b-df22a6c2e5dd",
   "metadata": {},
   "outputs": [],
   "source": [
    "from IPython.display import Image"
   ]
  },
  {
   "cell_type": "markdown",
   "id": "d6f9d127-b4ee-4c82-ab5c-efe2d9ae2361",
   "metadata": {},
   "source": [
    "## 电源接口"
   ]
  },
  {
   "cell_type": "code",
   "execution_count": 6,
   "id": "fdd37523-1e64-44ca-a767-b063d46682cc",
   "metadata": {},
   "outputs": [
    {
     "data": {
      "text/html": [
       "<img src=\"../imgs/4090-pin.jpeg\" width=\"300\"/>"
      ],
      "text/plain": [
       "<IPython.core.display.Image object>"
      ]
     },
     "execution_count": 6,
     "metadata": {},
     "output_type": "execute_result"
    }
   ],
   "source": [
    "Image(url='../imgs/4090-pin.jpeg', width=300)"
   ]
  },
  {
   "cell_type": "code",
   "execution_count": 5,
   "id": "7dd44706-a621-44de-bea3-af88bf231c44",
   "metadata": {},
   "outputs": [
    {
     "data": {
      "text/html": [
       "<img src=\"../imgs/40900-pin2.jpeg\" width=\"300\"/>"
      ],
      "text/plain": [
       "<IPython.core.display.Image object>"
      ]
     },
     "execution_count": 5,
     "metadata": {},
     "output_type": "execute_result"
    }
   ],
   "source": [
    "Image(url='../imgs/40900-pin2.jpeg', width=300)"
   ]
  },
  {
   "cell_type": "markdown",
   "id": "c830c752-af79-49d5-b4f2-ab4e46722afb",
   "metadata": {},
   "source": [
    "- 16pin 12VHPWR\n",
    "    - https://en.wikipedia.org/wiki/16-pin_12VHPWR_connector\n",
    "        - 6*2 +4\n",
    "        - 将图形处理单元 (GPU) 连接到计算机电源的标准（12 个主要的引脚用于提供电力，而另外 4 个较小的引脚用于辅助信号。）\n",
    "    - 16 针 12VHPWR 连接器（其中 HPWR 代表“高功率”）支持向 GPU 提供更高的功率，最高可达 600 瓦，比 8 针连接器的 150 瓦和 6 针连接器的 75 瓦显着增加连接器\n",
    "        - 注意对接时候的母口（female connector），公口（male-connector）"
   ]
  }
 ],
 "metadata": {
  "kernelspec": {
   "display_name": "Python 3 (ipykernel)",
   "language": "python",
   "name": "python3"
  },
  "language_info": {
   "codemirror_mode": {
    "name": "ipython",
    "version": 3
   },
   "file_extension": ".py",
   "mimetype": "text/x-python",
   "name": "python",
   "nbconvert_exporter": "python",
   "pygments_lexer": "ipython3",
   "version": "3.10.13"
  }
 },
 "nbformat": 4,
 "nbformat_minor": 5
}
