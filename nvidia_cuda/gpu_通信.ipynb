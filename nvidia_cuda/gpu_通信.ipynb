{
 "cells": [
  {
   "cell_type": "markdown",
   "id": "304efc49",
   "metadata": {},
   "source": [
    "`Using RTX 4000 series which doesn't support faster communication speedups. Ensuring P2P and IB communications are disabled.`"
   ]
  },
  {
   "cell_type": "markdown",
   "id": "f6f73340-d0d0-4179-94ba-93593eecff94",
   "metadata": {},
   "source": [
    "## GPU 与硬件"
   ]
  },
  {
   "cell_type": "markdown",
   "id": "b2a9eafc-a1d4-4c49-bbfe-4e3a94932b9b",
   "metadata": {},
   "source": [
    "- bus interface：总线接口\n",
    "    - 4090 的 bus interface：PCIe 4.0 x16（可以向下兼容到 x8，不过会有性能的损失）\n",
    "    - x16 vs. x8 插槽\n",
    "        - 16个数据传输通道，可以提供最大的数据带宽，\n",
    "        - x8 插槽有8个数据传输通道，它的带宽是x16的一半。"
   ]
  },
  {
   "cell_type": "code",
   "execution_count": 1,
   "id": "ef88fd20-39bc-430d-a2ef-83b698fed11a",
   "metadata": {},
   "outputs": [
    {
     "name": "stdout",
     "output_type": "stream",
     "text": [
      "03:00.0 VGA compatible controller: ASPEED Technology, Inc. ASPEED Graphics Family (rev 52)\n",
      "18:00.0 VGA compatible controller: NVIDIA Corporation Device 2684 (rev a1)\n",
      "8a:00.0 VGA compatible controller: NVIDIA Corporation Device 2684 (rev a1)\n"
     ]
    }
   ],
   "source": [
    "!lspci | grep -i vga"
   ]
  },
  {
   "cell_type": "markdown",
   "id": "52f231b5-56b9-4871-8829-54544201abb6",
   "metadata": {},
   "source": [
    "- 如何查是 x16 还是 x8\n",
    "    - `!sudo lspci -vvv -s 18:00.0 | grep -i lnkcap`"
   ]
  },
  {
   "cell_type": "code",
   "execution_count": null,
   "id": "ae32f8e5-57d7-4cdd-b23c-d35a2c5f1254",
   "metadata": {},
   "outputs": [],
   "source": []
  }
 ],
 "metadata": {
  "kernelspec": {
   "display_name": "Python 3 (ipykernel)",
   "language": "python",
   "name": "python3"
  },
  "language_info": {
   "codemirror_mode": {
    "name": "ipython",
    "version": 3
   },
   "file_extension": ".py",
   "mimetype": "text/x-python",
   "name": "python",
   "nbconvert_exporter": "python",
   "pygments_lexer": "ipython3",
   "version": "3.10.13"
  },
  "toc": {
   "base_numbering": 1,
   "nav_menu": {},
   "number_sections": true,
   "sideBar": true,
   "skip_h1_title": false,
   "title_cell": "Table of Contents",
   "title_sidebar": "Contents",
   "toc_cell": false,
   "toc_position": {},
   "toc_section_display": true,
   "toc_window_display": false
  }
 },
 "nbformat": 4,
 "nbformat_minor": 5
}
