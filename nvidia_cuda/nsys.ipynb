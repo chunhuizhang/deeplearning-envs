{
 "cells": [
  {
   "cell_type": "code",
   "execution_count": 1,
   "id": "1c092d39",
   "metadata": {
    "ExecuteTime": {
     "end_time": "2024-03-02T09:08:59.712430Z",
     "start_time": "2024-03-02T09:08:59.697157Z"
    }
   },
   "outputs": [],
   "source": [
    "from IPython.display import Image"
   ]
  },
  {
   "cell_type": "markdown",
   "id": "828a6e38",
   "metadata": {},
   "source": [
    "- nvprof => nsys (NVIDIA Nsight Systems)\n",
    "    - nvprof is not supported on devices with compute capability 8.0 and higher."
   ]
  },
  {
   "cell_type": "markdown",
   "id": "73f7bd50",
   "metadata": {},
   "source": [
    "```\n",
    "import torch\n",
    "\n",
    "bz, in_d, out_d = 256, 1024, 2048\n",
    "\n",
    "tensor = torch.randn(bz, in_d).cuda().half()\n",
    "layer = torch.nn.Linear(in_d, out_d).cuda().half()\n",
    "layer(tensor)\n",
    "```"
   ]
  },
  {
   "cell_type": "markdown",
   "id": "98be485f",
   "metadata": {},
   "source": [
    "```\n",
    "nsys profile --stats=true python your_script.py\n",
    "```"
   ]
  },
  {
   "cell_type": "code",
   "execution_count": 2,
   "id": "8c751710",
   "metadata": {
    "ExecuteTime": {
     "end_time": "2024-03-02T09:09:08.944460Z",
     "start_time": "2024-03-02T09:09:08.927749Z"
    }
   },
   "outputs": [
    {
     "data": {
      "text/html": [
       "<img src=\"../imgs/nsys.png\"/>"
      ],
      "text/plain": [
       "<IPython.core.display.Image object>"
      ]
     },
     "execution_count": 2,
     "metadata": {},
     "output_type": "execute_result"
    }
   ],
   "source": [
    "Image(url='../imgs/nsys.png')"
   ]
  }
 ],
 "metadata": {
  "kernelspec": {
   "display_name": "Python 3 (ipykernel)",
   "language": "python",
   "name": "python3"
  },
  "language_info": {
   "codemirror_mode": {
    "name": "ipython",
    "version": 3
   },
   "file_extension": ".py",
   "mimetype": "text/x-python",
   "name": "python",
   "nbconvert_exporter": "python",
   "pygments_lexer": "ipython3",
   "version": "3.10.13"
  },
  "toc": {
   "base_numbering": 1,
   "nav_menu": {},
   "number_sections": true,
   "sideBar": true,
   "skip_h1_title": false,
   "title_cell": "Table of Contents",
   "title_sidebar": "Contents",
   "toc_cell": false,
   "toc_position": {},
   "toc_section_display": true,
   "toc_window_display": false
  }
 },
 "nbformat": 4,
 "nbformat_minor": 5
}
