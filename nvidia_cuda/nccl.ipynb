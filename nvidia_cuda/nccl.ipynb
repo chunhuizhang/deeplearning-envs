{
 "cells": [
  {
   "cell_type": "markdown",
   "id": "d286f579",
   "metadata": {},
   "source": [
    "- https://github.com/NVIDIA/nccl\n",
    "- https://github.com/NVIDIA/nccl-tests"
   ]
  },
  {
   "cell_type": "markdown",
   "id": "3f036528",
   "metadata": {},
   "source": [
    "## nccl"
   ]
  },
  {
   "cell_type": "markdown",
   "id": "a6786d5a",
   "metadata": {},
   "source": [
    "- `NVIDIA Collective Communication Library (NCCL)`\n",
    "\n",
    "```\n",
    "$ cd nccl\n",
    "$ make -j src.build\n",
    "```"
   ]
  },
  {
   "cell_type": "markdown",
   "id": "26487807",
   "metadata": {},
   "source": [
    "- install\n",
    "\n",
    "```\n",
    "$ # Install tools to create debian packages\n",
    "$ sudo apt install build-essential devscripts debhelper fakeroot\n",
    "$ # Build NCCL deb package\n",
    "$ make pkg.debian.build\n",
    "$ ls build/pkg/deb/\n",
    "$ sudo dpkg -i build/pkg/deb/libnccl-dev**\n",
    "```"
   ]
  },
  {
   "cell_type": "markdown",
   "id": "0c3348fb",
   "metadata": {
    "ExecuteTime": {
     "end_time": "2024-01-29T14:24:15.412570Z",
     "start_time": "2024-01-29T14:23:37.938671Z"
    }
   },
   "source": [
    "- 查询 `nccl.h`\n",
    "\n",
    "    ```\n",
    "    sudo dpkg-query -L libnccl-dev\n",
    "    ```"
   ]
  },
  {
   "cell_type": "markdown",
   "id": "c3966a05",
   "metadata": {},
   "source": [
    "## nccl-tests"
   ]
  },
  {
   "cell_type": "markdown",
   "id": "7c438d95",
   "metadata": {},
   "source": [
    "```\n",
    "$ git clone https://github.com/NVIDIA/nccl-tests.git\n",
    "$ cd nccl-tests\n",
    "$ make\n",
    "$ ./build/all_reduce_perf -b 8 -e 256M -f 2 -g <ngpus>\n",
    "```"
   ]
  }
 ],
 "metadata": {
  "kernelspec": {
   "display_name": "Python 3 (ipykernel)",
   "language": "python",
   "name": "python3"
  },
  "language_info": {
   "codemirror_mode": {
    "name": "ipython",
    "version": 3
   },
   "file_extension": ".py",
   "mimetype": "text/x-python",
   "name": "python",
   "nbconvert_exporter": "python",
   "pygments_lexer": "ipython3",
   "version": "3.10.13"
  },
  "toc": {
   "base_numbering": 1,
   "nav_menu": {},
   "number_sections": true,
   "sideBar": true,
   "skip_h1_title": false,
   "title_cell": "Table of Contents",
   "title_sidebar": "Contents",
   "toc_cell": false,
   "toc_position": {},
   "toc_section_display": true,
   "toc_window_display": false
  }
 },
 "nbformat": 4,
 "nbformat_minor": 5
}
