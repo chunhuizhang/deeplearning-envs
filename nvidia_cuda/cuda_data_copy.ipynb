{
 "cells": [
  {
   "cell_type": "code",
   "execution_count": 1,
   "id": "cf9018b3",
   "metadata": {
    "ExecuteTime": {
     "end_time": "2024-01-29T13:54:28.246067Z",
     "start_time": "2024-01-29T13:54:26.920911Z"
    },
    "scrolled": true
   },
   "outputs": [
    {
     "name": "stdout",
     "output_type": "stream",
     "text": [
      "True\r\n"
     ]
    }
   ],
   "source": [
    "!python -c \"import torch;print(torch.cuda.can_device_access_peer(0, 1))\""
   ]
  },
  {
   "cell_type": "markdown",
   "id": "9cd47e8a",
   "metadata": {},
   "source": [
    "## gpu to gpu vs. gpu to cpu to gpu"
   ]
  },
  {
   "cell_type": "markdown",
   "id": "b2aaa9b2",
   "metadata": {},
   "source": [
    "- https://github.com/pytorch/pytorch/issues/84803"
   ]
  },
  {
   "cell_type": "code",
   "execution_count": 11,
   "id": "6903bdab",
   "metadata": {
    "ExecuteTime": {
     "end_time": "2024-01-29T14:04:06.584735Z",
     "start_time": "2024-01-29T14:04:06.574736Z"
    }
   },
   "outputs": [
    {
     "data": {
      "text/plain": [
       "'2.0.1'"
      ]
     },
     "execution_count": 11,
     "metadata": {},
     "output_type": "execute_result"
    }
   ],
   "source": [
    "import torch\n",
    "torch.__version__"
   ]
  },
  {
   "cell_type": "code",
   "execution_count": 12,
   "id": "c59d2130",
   "metadata": {
    "ExecuteTime": {
     "end_time": "2024-01-29T14:04:16.132885Z",
     "start_time": "2024-01-29T14:04:16.123743Z"
    }
   },
   "outputs": [
    {
     "data": {
      "text/plain": [
       "'11.8'"
      ]
     },
     "execution_count": 12,
     "metadata": {},
     "output_type": "execute_result"
    }
   ],
   "source": [
    "torch.version.cuda"
   ]
  },
  {
   "cell_type": "code",
   "execution_count": 13,
   "id": "cb18a238",
   "metadata": {
    "ExecuteTime": {
     "end_time": "2024-01-29T14:05:04.623846Z",
     "start_time": "2024-01-29T14:05:04.474376Z"
    }
   },
   "outputs": [
    {
     "name": "stdout",
     "output_type": "stream",
     "text": [
      "nvcc: NVIDIA (R) Cuda compiler driver\r\n",
      "Copyright (c) 2005-2023 NVIDIA Corporation\r\n",
      "Built on Wed_Nov_22_10:17:15_PST_2023\r\n",
      "Cuda compilation tools, release 12.3, V12.3.107\r\n",
      "Build cuda_12.3.r12.3/compiler.33567101_0\r\n"
     ]
    }
   ],
   "source": [
    "!nvcc --version"
   ]
  },
  {
   "cell_type": "markdown",
   "id": "32d1ff9e",
   "metadata": {},
   "source": [
    "### gpu => gpu"
   ]
  },
  {
   "cell_type": "code",
   "execution_count": 3,
   "id": "6c2b5458",
   "metadata": {
    "ExecuteTime": {
     "end_time": "2024-01-29T13:55:02.889941Z",
     "start_time": "2024-01-29T13:55:02.853000Z"
    }
   },
   "outputs": [
    {
     "data": {
      "text/plain": [
       "tensor([1], device='cuda:0')"
      ]
     },
     "execution_count": 3,
     "metadata": {},
     "output_type": "execute_result"
    }
   ],
   "source": [
    "import torch\n",
    "x = torch.tensor([1], device=0)\n",
    "x"
   ]
  },
  {
   "cell_type": "code",
   "execution_count": 4,
   "id": "8bf35f07",
   "metadata": {
    "ExecuteTime": {
     "end_time": "2024-01-29T13:55:11.470484Z",
     "start_time": "2024-01-29T13:55:11.333614Z"
    }
   },
   "outputs": [
    {
     "data": {
      "text/plain": [
       "tensor([0], device='cuda:1')"
      ]
     },
     "execution_count": 4,
     "metadata": {},
     "output_type": "execute_result"
    }
   ],
   "source": [
    "x.to(1)"
   ]
  },
  {
   "cell_type": "code",
   "execution_count": 5,
   "id": "492169a7",
   "metadata": {
    "ExecuteTime": {
     "end_time": "2024-01-29T13:55:33.245665Z",
     "start_time": "2024-01-29T13:55:33.147916Z"
    }
   },
   "outputs": [
    {
     "data": {
      "text/plain": [
       "tensor([0., 0.], device='cuda:1')"
      ]
     },
     "execution_count": 5,
     "metadata": {},
     "output_type": "execute_result"
    }
   ],
   "source": [
    "x = torch.tensor([1.0, 2.0], device=0)\n",
    "x.to(1)"
   ]
  },
  {
   "cell_type": "markdown",
   "id": "b008683a",
   "metadata": {},
   "source": [
    "### gpu => cpu => gpu"
   ]
  },
  {
   "cell_type": "code",
   "execution_count": 7,
   "id": "3d44c872",
   "metadata": {
    "ExecuteTime": {
     "end_time": "2024-01-29T13:56:43.409900Z",
     "start_time": "2024-01-29T13:56:43.314497Z"
    }
   },
   "outputs": [
    {
     "data": {
      "text/plain": [
       "tensor([1., 2.], device='cuda:0')"
      ]
     },
     "execution_count": 7,
     "metadata": {},
     "output_type": "execute_result"
    }
   ],
   "source": [
    "x"
   ]
  },
  {
   "cell_type": "code",
   "execution_count": 6,
   "id": "b8f7bf44",
   "metadata": {
    "ExecuteTime": {
     "end_time": "2024-01-29T13:56:16.538715Z",
     "start_time": "2024-01-29T13:56:16.410583Z"
    }
   },
   "outputs": [
    {
     "data": {
      "text/plain": [
       "tensor([1., 2.], device='cuda:1')"
      ]
     },
     "execution_count": 6,
     "metadata": {},
     "output_type": "execute_result"
    }
   ],
   "source": [
    "x.to('cpu').to(1)"
   ]
  },
  {
   "cell_type": "code",
   "execution_count": null,
   "id": "5d419ce0",
   "metadata": {},
   "outputs": [],
   "source": []
  }
 ],
 "metadata": {
  "kernelspec": {
   "display_name": "Python 3 (ipykernel)",
   "language": "python",
   "name": "python3"
  },
  "language_info": {
   "codemirror_mode": {
    "name": "ipython",
    "version": 3
   },
   "file_extension": ".py",
   "mimetype": "text/x-python",
   "name": "python",
   "nbconvert_exporter": "python",
   "pygments_lexer": "ipython3",
   "version": "3.10.13"
  },
  "toc": {
   "base_numbering": 1,
   "nav_menu": {},
   "number_sections": true,
   "sideBar": true,
   "skip_h1_title": false,
   "title_cell": "Table of Contents",
   "title_sidebar": "Contents",
   "toc_cell": false,
   "toc_position": {},
   "toc_section_display": true,
   "toc_window_display": false
  }
 },
 "nbformat": 4,
 "nbformat_minor": 5
}
