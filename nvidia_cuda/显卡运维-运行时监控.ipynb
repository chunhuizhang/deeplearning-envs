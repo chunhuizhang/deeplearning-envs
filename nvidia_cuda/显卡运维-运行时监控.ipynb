{
 "cells": [
  {
   "cell_type": "markdown",
   "id": "968facb9-25ab-4a5e-ad69-dca6469318df",
   "metadata": {},
   "source": [
    "### 温度"
   ]
  },
  {
   "cell_type": "markdown",
   "id": "688ca8de-cb18-4113-b9bb-5bfde5cc49f2",
   "metadata": {},
   "source": [
    "- 65°C 到 85°C 之间。\n",
    "- NVIDIA RTX 30系列显卡的最大温度为93°C，GTX 10系列显卡的最大温度为94°C，RTX 20系列显卡的最大温度为88°C。"
   ]
  }
 ],
 "metadata": {
  "kernelspec": {
   "display_name": "Python 3 (ipykernel)",
   "language": "python",
   "name": "python3"
  },
  "language_info": {
   "codemirror_mode": {
    "name": "ipython",
    "version": 3
   },
   "file_extension": ".py",
   "mimetype": "text/x-python",
   "name": "python",
   "nbconvert_exporter": "python",
   "pygments_lexer": "ipython3",
   "version": "3.10.13"
  }
 },
 "nbformat": 4,
 "nbformat_minor": 5
}
