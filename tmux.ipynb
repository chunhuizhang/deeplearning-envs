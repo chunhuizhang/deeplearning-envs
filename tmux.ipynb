{
 "cells": [
  {
   "cell_type": "markdown",
   "id": "9c749866",
   "metadata": {},
   "source": [
    "## basics"
   ]
  },
  {
   "cell_type": "markdown",
   "id": "0c4a17d9",
   "metadata": {},
   "source": [
    "- 终端复用器（terminal multiplexer）\n",
    "- 安装：sudo apt-get install tmux\n",
    "- 进入 tmux 模式：terminal 中输入 tmux 回车\n",
    "  - Ctrl +b：激活控制台\n",
    "    - \"：上下\n",
    "    - %：左右\n",
    "    - o：切换窗口；\n",
    "    - x：关闭当前窗口；"
   ]
  },
  {
   "cell_type": "markdown",
   "id": "30f7353f",
   "metadata": {},
   "source": [
    "## advanced"
   ]
  },
  {
   "cell_type": "markdown",
   "id": "a55c2ef2",
   "metadata": {},
   "source": [
    "- 设置鼠标触摸板支持\n",
    "    - `tmux set mouse on`"
   ]
  }
 ],
 "metadata": {
  "kernelspec": {
   "display_name": "Python 3 (ipykernel)",
   "language": "python",
   "name": "python3"
  },
  "language_info": {
   "codemirror_mode": {
    "name": "ipython",
    "version": 3
   },
   "file_extension": ".py",
   "mimetype": "text/x-python",
   "name": "python",
   "nbconvert_exporter": "python",
   "pygments_lexer": "ipython3",
   "version": "3.10.9"
  },
  "toc": {
   "base_numbering": 1,
   "nav_menu": {},
   "number_sections": true,
   "sideBar": true,
   "skip_h1_title": false,
   "title_cell": "Table of Contents",
   "title_sidebar": "Contents",
   "toc_cell": false,
   "toc_position": {},
   "toc_section_display": true,
   "toc_window_display": false
  }
 },
 "nbformat": 4,
 "nbformat_minor": 5
}
