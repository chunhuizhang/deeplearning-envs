{
 "cells": [
  {
   "cell_type": "markdown",
   "id": "9c749866",
   "metadata": {},
   "source": [
    "## basics"
   ]
  },
  {
   "cell_type": "markdown",
   "id": "0c4a17d9",
   "metadata": {},
   "source": [
    "- 终端复用器（terminal multiplexer）\n",
    "- 安装：`sudo apt-get install tmux`\n",
    "    - `tmux -V`\n",
    "- 进入 tmux 模式：terminal 中输入 tmux 回车\n",
    "  - Ctrl +b：激活控制台\n",
    "    - \"：上下\n",
    "    - %：左右\n",
    "    - o：切换窗口；\n",
    "    - x：关闭当前窗口；"
   ]
  },
  {
   "cell_type": "code",
   "execution_count": 1,
   "id": "1460b890-f8e9-4e43-88df-fca941914886",
   "metadata": {
    "execution": {
     "iopub.execute_input": "2024-08-28T15:18:03.849819Z",
     "iopub.status.busy": "2024-08-28T15:18:03.849133Z",
     "iopub.status.idle": "2024-08-28T15:18:03.985839Z",
     "shell.execute_reply": "2024-08-28T15:18:03.983739Z",
     "shell.execute_reply.started": "2024-08-28T15:18:03.849769Z"
    }
   },
   "outputs": [
    {
     "name": "stdout",
     "output_type": "stream",
     "text": [
      "tmux 3.2a\n"
     ]
    }
   ],
   "source": [
    "!tmux -V"
   ]
  },
  {
   "cell_type": "markdown",
   "id": "743496d3-1c1d-468d-b0de-42d365147eb3",
   "metadata": {},
   "source": [
    "### session 会话管理"
   ]
  },
  {
   "cell_type": "markdown",
   "id": "042f8006-6da4-480e-9321-415279da9d51",
   "metadata": {},
   "source": [
    "- 创建会话：`tmux new -s 0827`\n",
    "    - 比如启动某服务\n",
    "- 退出会话：`ctrl + b` -> `d`（detatch）\n",
    "- 进入会话：`tmux attach -t 0827`\n",
    "    - -t：target\n",
    "- 查看会话：\n",
    "    - `tmux ls`"
   ]
  },
  {
   "cell_type": "markdown",
   "id": "30f7353f",
   "metadata": {},
   "source": [
    "## advanced"
   ]
  },
  {
   "cell_type": "markdown",
   "id": "a55c2ef2",
   "metadata": {},
   "source": [
    "- 设置鼠标触摸板支持\n",
    "    - `tmux set mouse on`\n",
    "- `tmux attach -t 3`"
   ]
  }
 ],
 "metadata": {
  "kernelspec": {
   "display_name": "Python 3 (ipykernel)",
   "language": "python",
   "name": "python3"
  },
  "language_info": {
   "codemirror_mode": {
    "name": "ipython",
    "version": 3
   },
   "file_extension": ".py",
   "mimetype": "text/x-python",
   "name": "python",
   "nbconvert_exporter": "python",
   "pygments_lexer": "ipython3",
   "version": "3.10.0"
  },
  "toc": {
   "base_numbering": 1,
   "nav_menu": {},
   "number_sections": true,
   "sideBar": true,
   "skip_h1_title": false,
   "title_cell": "Table of Contents",
   "title_sidebar": "Contents",
   "toc_cell": false,
   "toc_position": {},
   "toc_section_display": true,
   "toc_window_display": false
  }
 },
 "nbformat": 4,
 "nbformat_minor": 5
}
