{
 "cells": [
  {
   "cell_type": "markdown",
   "id": "188368ad",
   "metadata": {},
   "source": [
    "## nvlink"
   ]
  },
  {
   "cell_type": "markdown",
   "id": "c35c3032",
   "metadata": {},
   "source": [
    "- 3090 与 A100 nvlink 可以通用；\n",
    "- 3090 只能两两相连\n",
    "    - 卡A只能跟卡B相连\n",
    "    - 卡A如果跟卡B相连，就不能再跟卡C相连\n",
    "- A100 可以4卡相连\n"
   ]
  }
 ],
 "metadata": {
  "kernelspec": {
   "display_name": "Python 3 (ipykernel)",
   "language": "python",
   "name": "python3"
  },
  "language_info": {
   "codemirror_mode": {
    "name": "ipython",
    "version": 3
   },
   "file_extension": ".py",
   "mimetype": "text/x-python",
   "name": "python",
   "nbconvert_exporter": "python",
   "pygments_lexer": "ipython3",
   "version": "3.10.9"
  },
  "toc": {
   "base_numbering": 1,
   "nav_menu": {},
   "number_sections": true,
   "sideBar": true,
   "skip_h1_title": false,
   "title_cell": "Table of Contents",
   "title_sidebar": "Contents",
   "toc_cell": false,
   "toc_position": {},
   "toc_section_display": true,
   "toc_window_display": false
  }
 },
 "nbformat": 4,
 "nbformat_minor": 5
}
