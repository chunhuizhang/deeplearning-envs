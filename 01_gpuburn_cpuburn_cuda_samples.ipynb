{
 "cells": [
  {
   "cell_type": "markdown",
   "id": "127ffd66",
   "metadata": {},
   "source": [
    "## 1. gpuburn"
   ]
  },
  {
   "cell_type": "markdown",
   "id": "33222c4e",
   "metadata": {},
   "source": [
    "## 2. gpuburn"
   ]
  },
  {
   "cell_type": "markdown",
   "id": "56c3229d",
   "metadata": {},
   "source": [
    "## 3. cuda-samples"
   ]
  },
  {
   "cell_type": "code",
   "execution_count": null,
   "id": "bdfc713d",
   "metadata": {},
   "outputs": [],
   "source": []
  }
 ],
 "metadata": {
  "kernelspec": {
   "display_name": "Python 3 (ipykernel)",
   "language": "python",
   "name": "python3"
  },
  "language_info": {
   "codemirror_mode": {
    "name": "ipython",
    "version": 3
   },
   "file_extension": ".py",
   "mimetype": "text/x-python",
   "name": "python",
   "nbconvert_exporter": "python",
   "pygments_lexer": "ipython3",
   "version": "3.10.9"
  }
 },
 "nbformat": 4,
 "nbformat_minor": 5
}
