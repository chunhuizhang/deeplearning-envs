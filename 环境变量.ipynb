{
 "cells": [
  {
   "cell_type": "markdown",
   "id": "654b098b",
   "metadata": {},
   "source": [
    "## cuda "
   ]
  },
  {
   "cell_type": "markdown",
   "id": "f9df0b2b",
   "metadata": {},
   "source": [
    "```\n",
    "export LD_LIBRARY_PATH=/usr/local/cuda-11.7/lib64:/usr/local/cuda-11.7/extras/CUPTI/lib64\n",
    "export CUDA_HOME=/usr/local/cuda-11.7\n",
    "export PATH=$PATH:$LD_LIBRARY_PATH:$CUDA_HOME:$CUDA_HOME/bin\n",
    "```"
   ]
  },
  {
   "cell_type": "markdown",
   "id": "a1637974",
   "metadata": {},
   "source": [
    "- `libcudart`: cuda runtime"
   ]
  },
  {
   "cell_type": "code",
   "execution_count": 4,
   "id": "301cae12",
   "metadata": {
    "ExecuteTime": {
     "end_time": "2023-12-12T14:58:23.776565Z",
     "start_time": "2023-12-12T14:58:23.771910Z"
    }
   },
   "outputs": [
    {
     "data": {
      "text/plain": [
       "'/home/whaow/anaconda3/lib/python3.10/site-packages/torch/__init__.py'"
      ]
     },
     "execution_count": 4,
     "metadata": {},
     "output_type": "execute_result"
    }
   ],
   "source": [
    "# 查看 pytorch cuda 版本自带的 runtime\n",
    "import torch\n",
    "# /home/whaow/anaconda3/lib/python3.10/site-packages/torch/lib\n",
    "torch.__file__"
   ]
  },
  {
   "cell_type": "markdown",
   "id": "25d553fd",
   "metadata": {},
   "source": [
    "- 查找特定版本的 cudart\n",
    "    - `find . -name \"libcudart.so.10.2\"`\n",
    "    - `find / -iname \"libcudart.so.*\" 2>/dev/null`"
   ]
  },
  {
   "cell_type": "markdown",
   "id": "22c38e0d",
   "metadata": {},
   "source": [
    "## Huggingface"
   ]
  },
  {
   "cell_type": "markdown",
   "id": "ef12f8dd",
   "metadata": {},
   "source": [
    "```\n",
    "export HF_HOME='/media/whaow/.cache/huggingface'\n",
    "```"
   ]
  }
 ],
 "metadata": {
  "kernelspec": {
   "display_name": "Python 3 (ipykernel)",
   "language": "python",
   "name": "python3"
  },
  "language_info": {
   "codemirror_mode": {
    "name": "ipython",
    "version": 3
   },
   "file_extension": ".py",
   "mimetype": "text/x-python",
   "name": "python",
   "nbconvert_exporter": "python",
   "pygments_lexer": "ipython3",
   "version": "3.10.13"
  },
  "toc": {
   "base_numbering": 1,
   "nav_menu": {},
   "number_sections": true,
   "sideBar": true,
   "skip_h1_title": false,
   "title_cell": "Table of Contents",
   "title_sidebar": "Contents",
   "toc_cell": false,
   "toc_position": {},
   "toc_section_display": true,
   "toc_window_display": false
  }
 },
 "nbformat": 4,
 "nbformat_minor": 5
}
