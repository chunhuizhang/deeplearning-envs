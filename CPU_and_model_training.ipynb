{
 "cells": [
  {
   "cell_type": "markdown",
   "id": "c4a8bfc4-0c18-41ae-bd66-d7b0dd37f445",
   "metadata": {},
   "source": [
    "## cpu 核心数及线程数"
   ]
  },
  {
   "cell_type": "markdown",
   "id": "6d90a95e-1a5b-4187-9346-1bb0b0a494da",
   "metadata": {},
   "source": [
    "- https://huggingface.co/learn/nlp-course/zh-CN/chapter5/3"
   ]
  },
  {
   "cell_type": "code",
   "execution_count": 3,
   "id": "1a6a7bab-5315-4b66-9f25-a536bee6506c",
   "metadata": {},
   "outputs": [
    {
     "data": {
      "text/plain": [
       "64"
      ]
     },
     "execution_count": 3,
     "metadata": {},
     "output_type": "execute_result"
    }
   ],
   "source": [
    "import os\n",
    "os.cpu_count()"
   ]
  },
  {
   "cell_type": "markdown",
   "id": "32f33a71-47c4-45a6-a129-c3fb71c793ba",
   "metadata": {},
   "source": [
    "- `dataset.map(num_proc=os.cpu_count())`\n",
    "    - num__proc 默认为 None，内部处理为 1\n",
    "    - 可显著地加快数据集预处理（tokenize）的速度；\n",
    "\n",
    "```\n",
    "# 对 1,652,614 条样本做 tokenize 的预处理\n",
    "train_dataset = train_dataset.map(self.tokenize_row, num_proc=self.dataset_num_proc)\n",
    "```"
   ]
  }
 ],
 "metadata": {
  "kernelspec": {
   "display_name": "Python 3 (ipykernel)",
   "language": "python",
   "name": "python3"
  },
  "language_info": {
   "codemirror_mode": {
    "name": "ipython",
    "version": 3
   },
   "file_extension": ".py",
   "mimetype": "text/x-python",
   "name": "python",
   "nbconvert_exporter": "python",
   "pygments_lexer": "ipython3",
   "version": "3.10.13"
  }
 },
 "nbformat": 4,
 "nbformat_minor": 5
}
