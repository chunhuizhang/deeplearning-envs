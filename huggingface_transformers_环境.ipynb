{
 "cells": [
  {
   "cell_type": "code",
   "execution_count": 1,
   "id": "745a8c72",
   "metadata": {
    "ExecuteTime": {
     "end_time": "2023-11-27T23:56:33.240536Z",
     "start_time": "2023-11-27T23:56:33.233441Z"
    }
   },
   "outputs": [],
   "source": [
    "import os\n",
    "os.environ[\"http_proxy\"] = \"http://127.0.0.1:7890\"\n",
    "os.environ[\"https_proxy\"] = \"http://127.0.0.1:7890\""
   ]
  },
  {
   "cell_type": "markdown",
   "id": "ce04ba5c",
   "metadata": {},
   "source": [
    "## 源码安装"
   ]
  },
  {
   "cell_type": "code",
   "execution_count": 1,
   "id": "64327d90",
   "metadata": {
    "ExecuteTime": {
     "end_time": "2023-12-21T13:18:55.041616Z",
     "start_time": "2023-12-21T13:18:55.036233Z"
    }
   },
   "outputs": [],
   "source": [
    "#!pip install git+https://github.com/huggingface/transformers.git"
   ]
  },
  {
   "cell_type": "markdown",
   "id": "21e217ca",
   "metadata": {
    "ExecuteTime": {
     "end_time": "2023-11-28T00:02:34.012758Z",
     "start_time": "2023-11-28T00:02:34.007264Z"
    }
   },
   "source": [
    "- 或者下载（git clone）下来之后，\n",
    "    - `pip install -e .`：Python 会在 site-packages 目录中创建一个链接指向你的项目目录。\n",
    "    - `python setup.py install`：会把项目安装到Python的 site-packages 目录中。与可编辑模式不同，这种方式会复制文件，而不是创建链接。"
   ]
  },
  {
   "cell_type": "code",
   "execution_count": 3,
   "id": "80aa3ac2",
   "metadata": {
    "ExecuteTime": {
     "end_time": "2023-11-27T23:59:38.011007Z",
     "start_time": "2023-11-27T23:59:36.596970Z"
    }
   },
   "outputs": [
    {
     "name": "stderr",
     "output_type": "stream",
     "text": [
      "/home/whaow/anaconda3/lib/python3.10/site-packages/tqdm/auto.py:21: TqdmWarning: IProgress not found. Please update jupyter and ipywidgets. See https://ipywidgets.readthedocs.io/en/stable/user_install.html\n",
      "  from .autonotebook import tqdm as notebook_tqdm\n"
     ]
    }
   ],
   "source": [
    "import transformers "
   ]
  },
  {
   "cell_type": "code",
   "execution_count": 4,
   "id": "316bd7d5",
   "metadata": {
    "ExecuteTime": {
     "end_time": "2023-11-28T00:02:29.238770Z",
     "start_time": "2023-11-28T00:02:29.231941Z"
    }
   },
   "outputs": [
    {
     "data": {
      "text/plain": [
       "'4.36.0.dev0'"
      ]
     },
     "execution_count": 4,
     "metadata": {},
     "output_type": "execute_result"
    }
   ],
   "source": [
    "transformers.__version__"
   ]
  },
  {
   "cell_type": "markdown",
   "id": "ab691765",
   "metadata": {},
   "source": [
    "## apex"
   ]
  },
  {
   "cell_type": "markdown",
   "id": "710e0c50",
   "metadata": {},
   "source": [
    "- 源码安装\n",
    "    - `git clone git@github.com:NVIDIA/apex.git`\n",
    "    - `cd apex`\n",
    "    - `pip install -v --no-cache-dir --global-option=\"--cpp_ext\" --global-option=\"--cuda_ext\" ./`\n",
    "    - 如果出现 `ModuleNotFoundError: No module named 'packaging'`\n",
    "        - 尝试 `git checkout 22.04-dev` (https://github.com/NVIDIA/apex/issues/1737)\n",
    "    "
   ]
  },
  {
   "cell_type": "markdown",
   "id": "694bb7c0",
   "metadata": {},
   "source": [
    "```\n",
    "from torch._six import string_classes as string_classes \n",
    "ModuleNotFoundError: No module named 'torch._six'\n",
    "```\n",
    "\n",
    "- 定位到源码位置，做如下修改：\n",
    "\n",
    "    ```\n",
    "    # if isinstance(root, torch._six.string_classes):\n",
    "        # ...\n",
    "\n",
    "    if isinstance(root, str): \n",
    "        ...\n",
    "    ```"
   ]
  },
  {
   "cell_type": "markdown",
   "id": "1348a216",
   "metadata": {},
   "source": [
    "## deepspeed"
   ]
  },
  {
   "cell_type": "markdown",
   "id": "e0e5cddf",
   "metadata": {},
   "source": [
    "- `Installed CUDA version 12.1 does not match the version torch was compiled with 11.8`\n",
    "    - https://github.com/microsoft/DeepSpeed/issues/3223\n",
    "    - 注释掉相关抛异常代码即可；"
   ]
  }
 ],
 "metadata": {
  "kernelspec": {
   "display_name": "Python 3 (ipykernel)",
   "language": "python",
   "name": "python3"
  },
  "language_info": {
   "codemirror_mode": {
    "name": "ipython",
    "version": 3
   },
   "file_extension": ".py",
   "mimetype": "text/x-python",
   "name": "python",
   "nbconvert_exporter": "python",
   "pygments_lexer": "ipython3",
   "version": "3.10.13"
  },
  "toc": {
   "base_numbering": 1,
   "nav_menu": {},
   "number_sections": true,
   "sideBar": true,
   "skip_h1_title": false,
   "title_cell": "Table of Contents",
   "title_sidebar": "Contents",
   "toc_cell": false,
   "toc_position": {},
   "toc_section_display": true,
   "toc_window_display": false
  }
 },
 "nbformat": 4,
 "nbformat_minor": 5
}
