{
 "cells": [
  {
   "cell_type": "markdown",
   "id": "973439e1",
   "metadata": {},
   "source": [
    "- 单位\n",
    "    - K：10^3, 1e3, 千，thousand\n",
    "    - M: 10^6, 1e6, 百万，million\n",
    "    - G: 10^9, 1e9, 10亿，billion\n",
    "    - T: 10^12, 1e12, 万亿，trillion\n",
    "- TFLOPS, TFLOPs\n",
    "    - TFLOPs：复数概念，多少个浮点数运算\n",
    "    - TFLOPS：速度概念，每秒多少个浮点数运算\n",
    "- transformer layer: BERT, GPT2, T5\n",
    "    - (multi head attn) + ffn\n",
    "    - multi head attn\n",
    "        - 兼容 self attention 和 cross attention\n",
    "        - 而 cross attn 只出现在 encoder + decoder 都有的情况\n",
    "- 参考（李沐大神）\n",
    "    - https://www.bilibili.com/video/BV1LT411F77M\n",
    "    - https://github.com/mli/transformers-benchmarks/blob/main/micro_bench.ipynb"
   ]
  },
  {
   "cell_type": "markdown",
   "id": "c836970f",
   "metadata": {},
   "source": [
    "# Mirco-Benchmarking for Transformers\n",
    "\n",
    "This notebook benchmarks the most time consuming components in BERT, GPT-2 and T5 to help you understand its performance. Let's first check our libraries and hardware. If your GPUs are recent models, please make sure your CUDA version is also recent, which may greatly affect the performance."
   ]
  },
  {
   "cell_type": "code",
   "execution_count": 1,
   "id": "63b75c42",
   "metadata": {
    "ExecuteTime": {
     "end_time": "2023-05-10T13:39:16.425720Z",
     "start_time": "2023-05-10T13:39:15.152884Z"
    },
    "scrolled": true
   },
   "outputs": [
    {
     "name": "stdout",
     "output_type": "stream",
     "text": [
      "Pytorch version\t: 2.0.0+cu118\n",
      "CUDA version\t: 11.8\n",
      "GPU\t\t: NVIDIA GeForce RTX 4090\n"
     ]
    }
   ],
   "source": [
    "import torch\n",
    "\n",
    "print('Pytorch version\\t:', torch.__version__)\n",
    "print('CUDA version\\t:', torch.version.cuda)\n",
    "print('GPU\\t\\t:',torch.cuda.get_device_name())"
   ]
  },
  {
   "cell_type": "markdown",
   "id": "a9bcfd53",
   "metadata": {},
   "source": [
    "Let's first define a `walltime` method to benchmark Pytorch statements by at least 3 seconds. "
   ]
  },
  {
   "cell_type": "code",
   "execution_count": 2,
   "id": "e53dca65",
   "metadata": {
    "ExecuteTime": {
     "end_time": "2023-05-10T13:39:41.028386Z",
     "start_time": "2023-05-10T13:39:39.800766Z"
    }
   },
   "outputs": [],
   "source": [
    "import inspect\n",
    "from collections import defaultdict\n",
    "import pandas as pd\n",
    "from torch.utils import benchmark \n",
    "\n",
    "pd.options.display.precision = 3\n",
    "\n",
    "def var_dict(*args):\n",
    "    callers_local_vars = inspect.currentframe().f_back.f_locals.items()\n",
    "    return dict([(name, val) for name, val in callers_local_vars if val is arg][0] \n",
    "                for arg in args)\n",
    "\n",
    "def walltime(stmt, arg_dict, duration=3):\n",
    "    return benchmark.Timer(stmt=stmt, globals=arg_dict).blocked_autorange(\n",
    "        min_run_time=duration).median"
   ]
  },
  {
   "cell_type": "markdown",
   "id": "b09d79ab",
   "metadata": {},
   "source": [
    "Last install huggingface from source code."
   ]
  },
  {
   "cell_type": "code",
   "execution_count": 4,
   "id": "a5f71a01",
   "metadata": {
    "ExecuteTime": {
     "end_time": "2023-05-10T13:40:51.754258Z",
     "start_time": "2023-05-10T13:40:37.869779Z"
    }
   },
   "outputs": [],
   "source": [
    "# 安装最新版本的 transformer（最新版本，源码安装）\n",
    "from IPython.display import clear_output\n",
    "\n",
    "!git clone git@github.com:huggingface/transformers.git\n",
    "!cd transformers; pip install .\n",
    "\n",
    "clear_output()"
   ]
  },
  {
   "cell_type": "code",
   "execution_count": 5,
   "id": "58f15d48",
   "metadata": {
    "ExecuteTime": {
     "end_time": "2023-05-10T13:41:18.339239Z",
     "start_time": "2023-05-10T13:41:18.185694Z"
    }
   },
   "outputs": [
    {
     "name": "stdout",
     "output_type": "stream",
     "text": [
      "4.30.0.dev0\n"
     ]
    }
   ],
   "source": [
    "import transformers\n",
    "print(transformers.__version__)"
   ]
  },
  {
   "cell_type": "markdown",
   "id": "f72fb575",
   "metadata": {},
   "source": [
    "## Matrix Multiplication\n",
    "\n",
    "Matrix multiplication is the most used operator in Transformers. Its performance is crucial. Let's test the [TFLOPS](https://en.wikipedia.org/wiki/FLOPS) we can achieve on square matrices. "
   ]
  },
  {
   "cell_type": "markdown",
   "id": "4a0201a0",
   "metadata": {},
   "source": [
    "- TFLOPS：每s运行了多少次 tf（浮点运算），速度概念\n",
    "    - TFLOPs：复数的概念\n",
    "- $c_{n\\cdot n}=a_{n\\cdot n}\\cdot b_{n\\cdot n}$\n",
    "    - 我们从结果（$c_{n\\cdot n}$）出发，它的每一个位置（entry），都是由 $n$ 次乘法 + $n$ 次加法（准确地说是 $n-1$ 次加法）组成（矢量内积）\n",
    "        - n+(n-1) = 2n-1 == 2n\n",
    "    - $(n+n)\\cdot n\\cdot n=2n^3$\n",
    "- 更高的 tflops：更大的矩阵乘法，float32 => float16\n",
    "- float16\n",
    "    - cuBLAS，使用 tensor cores；"
   ]
  },
  {
   "cell_type": "code",
   "execution_count": 6,
   "id": "9709395e",
   "metadata": {
    "ExecuteTime": {
     "end_time": "2023-05-10T13:47:22.430421Z",
     "start_time": "2023-05-10T13:43:41.628901Z"
    },
    "scrolled": false
   },
   "outputs": [
    {
     "name": "stderr",
     "output_type": "stream",
     "text": [
      "100%|████████████████████████████████████████████████████████████████████████████████████████████████████████████████████████████████████| 7/7 [03:40<00:00, 31.54s/it]\n"
     ]
    },
    {
     "data": {
      "text/html": [
       "<div>\n",
       "<style scoped>\n",
       "    .dataframe tbody tr th:only-of-type {\n",
       "        vertical-align: middle;\n",
       "    }\n",
       "\n",
       "    .dataframe tbody tr th {\n",
       "        vertical-align: top;\n",
       "    }\n",
       "\n",
       "    .dataframe thead th {\n",
       "        text-align: right;\n",
       "    }\n",
       "</style>\n",
       "<table border=\"1\" class=\"dataframe\">\n",
       "  <thead>\n",
       "    <tr style=\"text-align: right;\">\n",
       "      <th></th>\n",
       "      <th>n=128</th>\n",
       "      <th>n=512</th>\n",
       "      <th>n=2048</th>\n",
       "      <th>n=4096</th>\n",
       "      <th>n=8192</th>\n",
       "      <th>n=16384</th>\n",
       "      <th>n=32768</th>\n",
       "    </tr>\n",
       "  </thead>\n",
       "  <tbody>\n",
       "    <tr>\n",
       "      <th>torch.float32</th>\n",
       "      <td>0.592</td>\n",
       "      <td>24.036</td>\n",
       "      <td>53.795</td>\n",
       "      <td>49.005</td>\n",
       "      <td>52.182</td>\n",
       "      <td>51.423</td>\n",
       "      <td>45.631</td>\n",
       "    </tr>\n",
       "    <tr>\n",
       "      <th>torch.float16</th>\n",
       "      <td>0.573</td>\n",
       "      <td>35.177</td>\n",
       "      <td>164.255</td>\n",
       "      <td>166.949</td>\n",
       "      <td>156.083</td>\n",
       "      <td>173.988</td>\n",
       "      <td>172.340</td>\n",
       "    </tr>\n",
       "  </tbody>\n",
       "</table>\n",
       "</div>"
      ],
      "text/plain": [
       "               n=128   n=512   n=2048   n=4096   n=8192  n=16384  n=32768\n",
       "torch.float32  0.592  24.036   53.795   49.005   52.182   51.423   45.631\n",
       "torch.float16  0.573  35.177  164.255  166.949  156.083  173.988  172.340"
      ]
     },
     "execution_count": 6,
     "metadata": {},
     "output_type": "execute_result"
    }
   ],
   "source": [
    "# dict of dict\n",
    "from tqdm import tqdm\n",
    "matmul_tflops = defaultdict(lambda: {})\n",
    "for n in tqdm([128, 512, 2*1024, 4*1024, 8*1024, 16*1024, 32*1024]):\n",
    "    for dtype in (torch.float32, torch.float16):\n",
    "        a = torch.randn(n, n, dtype=dtype).cuda()\n",
    "        b = torch.randn(n, n, dtype=dtype).cuda()   \n",
    "        t = walltime('a @ b', var_dict(a, b))\n",
    "        matmul_tflops[f'n={n}'][dtype] = 2*n**3 / t / 1e12\n",
    "        del a, b\n",
    "        \n",
    "pd.DataFrame(matmul_tflops)"
   ]
  },
  {
   "cell_type": "code",
   "execution_count": 13,
   "id": "26669333",
   "metadata": {
    "ExecuteTime": {
     "end_time": "2023-04-11T15:37:33.721259Z",
     "start_time": "2023-04-11T15:37:33.465063Z"
    }
   },
   "outputs": [
    {
     "data": {
      "text/plain": [
       "<matplotlib.legend.Legend at 0x7f7d43b3caf0>"
      ]
     },
     "execution_count": 13,
     "metadata": {},
     "output_type": "execute_result"
    },
    {
     "data": {
      "image/png": "[encoded data removed]",
      "text/plain": [
       "<Figure size 640x480 with 1 Axes>"
      ]
     },
     "metadata": {},
     "output_type": "display_data"
    }
   ],
   "source": [
    "import matplotlib.pyplot as plt\n",
    "xs = [128, 512, 2*1024, 4*1024, 8*1024, 16*1024, 32*1024]\n",
    "plt.plot(xs, list(map(lambda x: matmul_tflops[f'n={x}'][torch.float32], xs)))\n",
    "plt.plot(xs, list(map(lambda x: matmul_tflops[f'n={x}'][torch.float16], xs)))\n",
    "plt.legend(['float32', 'float16'])"
   ]
  },
  {
   "cell_type": "code",
   "execution_count": 10,
   "id": "1e1c2eb6",
   "metadata": {
    "ExecuteTime": {
     "end_time": "2023-05-10T13:49:13.516112Z",
     "start_time": "2023-05-10T13:49:13.508479Z"
    }
   },
   "outputs": [
    {
     "name": "stdout",
     "output_type": "stream",
     "text": [
      "torch.float32 1.279127829560586\n",
      "torch.float16 2.1397053397938857\n"
     ]
    }
   ],
   "source": [
    "print('torch.float32', 53.795/42.056)\n",
    "print('torch.float16', 173.988/81.314)"
   ]
  },
  {
   "cell_type": "markdown",
   "id": "157d3ac3",
   "metadata": {},
   "source": [
    "You can see that the performance increases with the matrix size. If your GPU has [Tensor Cores](https://www.nvidia.com/en-us/data-center/tensor-cores/), you will see a big performance jump when switching from 32-bit floating points to 16-bit floating points.\n",
    "\n",
    "Next you can find the theory TFLOPS of your GPU from Wikipedia, for example, [Nvidia Tesla](https://en.wikipedia.org/wiki/Ampere_(microarchitecture)), [Nvidia Quadro](https://en.wikipedia.org/wiki/Quadro), [RTX 40xx](https://en.wikipedia.org/wiki/GeForce_40_series), [RTX 30xx](https://en.wikipedia.org/wiki/GeForce_30_series), and [RTX 20xx](https://en.wikipedia.org/wiki/GeForce_20_series). Here we list several cards, with their memory information.\n",
    "\n",
    "| Model       | Memory (GB) | Memory Bandwidth (GB/sec) | FP32 TFLOPS | FP16 TFLOPS |\n",
    "| ----------- | ----------- | ------------------------- | ----------- | ----------- |\n",
    "| A100        | 80          | 2039                      | 19.5        | 312         |\n",
    "| V100        | 16          | 900                       | 15.7        | 125         |\n",
    "| A6000       | 48          | 768                       | 38          | 150         |\n",
    "| RTX 3090 TI | 24          | 1008                      | 40          | 160         |\n",
    "| RTX 4090    | 24          | 1008                      | 82          | 330         |\n",
    "\n",
    "\n",
    "If the best TFLOPS number you got is still far away from the theory TFLOPS of your GPU, the performance is likely bottlenecked by the memory bandwidth. To illustrate it, let's benchmark a simple elemental-wise multiplication to show both its TFLOPS with memory bandwidth. "
   ]
  },
  {
   "cell_type": "markdown",
   "id": "ce4e85c6",
   "metadata": {},
   "source": [
    "- 深度学习中的按元素（element wise）运算：\n",
    "    - 一个layer的输出，经过 activate function；\n",
    "    - 权重的更新；"
   ]
  },
  {
   "cell_type": "code",
   "execution_count": 22,
   "id": "ef74628e",
   "metadata": {
    "ExecuteTime": {
     "end_time": "2023-05-10T15:30:09.808674Z",
     "start_time": "2023-05-10T15:29:48.284417Z"
    }
   },
   "outputs": [
    {
     "data": {
      "text/html": [
       "<div>\n",
       "<style scoped>\n",
       "    .dataframe tbody tr th:only-of-type {\n",
       "        vertical-align: middle;\n",
       "    }\n",
       "\n",
       "    .dataframe tbody tr th {\n",
       "        vertical-align: top;\n",
       "    }\n",
       "\n",
       "    .dataframe thead th {\n",
       "        text-align: right;\n",
       "    }\n",
       "</style>\n",
       "<table border=\"1\" class=\"dataframe\">\n",
       "  <thead>\n",
       "    <tr style=\"text-align: right;\">\n",
       "      <th></th>\n",
       "      <th>65536</th>\n",
       "      <th>262144</th>\n",
       "      <th>1048576</th>\n",
       "      <th>4194304</th>\n",
       "      <th>16777216</th>\n",
       "      <th>67108864</th>\n",
       "    </tr>\n",
       "  </thead>\n",
       "  <tbody>\n",
       "    <tr>\n",
       "      <th>TFLOPS</th>\n",
       "      <td>0.009</td>\n",
       "      <td>0.043</td>\n",
       "      <td>0.173</td>\n",
       "      <td>0.472</td>\n",
       "      <td>0.115</td>\n",
       "      <td>0.115</td>\n",
       "    </tr>\n",
       "    <tr>\n",
       "      <th>GB/s</th>\n",
       "      <td>70.541</td>\n",
       "      <td>343.917</td>\n",
       "      <td>1385.415</td>\n",
       "      <td>3777.138</td>\n",
       "      <td>920.339</td>\n",
       "      <td>921.202</td>\n",
       "    </tr>\n",
       "  </tbody>\n",
       "</table>\n",
       "</div>"
      ],
      "text/plain": [
       "        65536     262144    1048576   4194304   16777216  67108864\n",
       "TFLOPS     0.009     0.043     0.173     0.472     0.115     0.115\n",
       "GB/s      70.541   343.917  1385.415  3777.138   920.339   921.202"
      ]
     },
     "execution_count": 22,
     "metadata": {},
     "output_type": "execute_result"
    }
   ],
   "source": [
    "vector = defaultdict(lambda: {})\n",
    "# *4\n",
    "for n in [1024*64, 1024*256, 1024*1024, 1024*1024*4, 1024*1024*16, 1024*1024*64]:\n",
    "    a = torch.randn(n).cuda()\n",
    "    t = walltime('a * 1.2', var_dict(a))\n",
    "    vector[n]['TFLOPS'] = n / t / 1e12\n",
    "    # float32: 4 Byte;\n",
    "    # 读写：两个操作；\n",
    "    vector[n]['GB/s'] = (4*2) * n / t / 1e9\n",
    "    \n",
    "pd.DataFrame(vector)"
   ]
  },
  {
   "cell_type": "markdown",
   "id": "f30245ea",
   "metadata": {},
   "source": [
    "You can see that even for large vectors, the TFLOPS is far far way from GPU peak performance, while the bandwidth may be quite close to its theoretical number.\n",
    "\n",
    "The matrix multiplication performance is a main topic in HPC. There are a large number of research papers. Unfortunately the backend library, cuBLAS, is not open sourced. You may check [cutlass](https://github.com/NVIDIA/cutlass), which claimed similar performance as cuBLAS, for some implementation details.\n"
   ]
  },
  {
   "cell_type": "markdown",
   "id": "8f832506",
   "metadata": {},
   "source": [
    "## BERT Layer\n",
    "\n",
    "The main body of a Transformer model is a stacking of Transformer blocks. Let's benchmark the performance of a single block. In BERT, it is often called a BERT layer. Let's construct one such layer from the [BERT large model](https://huggingface.co/bert-large-uncased). We use 16-bit floating points for better performance. "
   ]
  },
  {
   "cell_type": "code",
   "execution_count": 13,
   "id": "4245b00d",
   "metadata": {
    "ExecuteTime": {
     "end_time": "2023-05-10T14:00:12.415947Z",
     "start_time": "2023-05-10T14:00:11.142383Z"
    }
   },
   "outputs": [],
   "source": [
    "from transformers import AutoConfig, BertLayer\n",
    "\n",
    "config = AutoConfig.from_pretrained(\"bert-large-uncased\")\n",
    "layer = BertLayer(config).half().cuda()"
   ]
  },
  {
   "cell_type": "code",
   "execution_count": 23,
   "id": "1dfe1ce9",
   "metadata": {
    "ExecuteTime": {
     "end_time": "2023-05-10T15:31:28.394605Z",
     "start_time": "2023-05-10T15:31:28.386741Z"
    }
   },
   "outputs": [
    {
     "data": {
      "text/plain": [
       "BertConfig {\n",
       "  \"_name_or_path\": \"bert-large-uncased\",\n",
       "  \"architectures\": [\n",
       "    \"BertForMaskedLM\"\n",
       "  ],\n",
       "  \"attention_probs_dropout_prob\": 0.1,\n",
       "  \"classifier_dropout\": null,\n",
       "  \"gradient_checkpointing\": false,\n",
       "  \"hidden_act\": \"gelu\",\n",
       "  \"hidden_dropout_prob\": 0.1,\n",
       "  \"hidden_size\": 1024,\n",
       "  \"initializer_range\": 0.02,\n",
       "  \"intermediate_size\": 4096,\n",
       "  \"layer_norm_eps\": 1e-12,\n",
       "  \"max_position_embeddings\": 512,\n",
       "  \"model_type\": \"bert\",\n",
       "  \"num_attention_heads\": 16,\n",
       "  \"num_hidden_layers\": 24,\n",
       "  \"pad_token_id\": 0,\n",
       "  \"position_embedding_type\": \"absolute\",\n",
       "  \"transformers_version\": \"4.30.0.dev0\",\n",
       "  \"type_vocab_size\": 2,\n",
       "  \"use_cache\": true,\n",
       "  \"vocab_size\": 30522\n",
       "}"
      ]
     },
     "execution_count": 23,
     "metadata": {},
     "output_type": "execute_result"
    }
   ],
   "source": [
    "config"
   ]
  },
  {
   "cell_type": "code",
   "execution_count": 20,
   "id": "91da8378",
   "metadata": {
    "ExecuteTime": {
     "end_time": "2023-05-10T14:36:14.727557Z",
     "start_time": "2023-05-10T14:36:14.720213Z"
    }
   },
   "outputs": [
    {
     "name": "stdout",
     "output_type": "stream",
     "text": [
      "1024\n"
     ]
    }
   ],
   "source": [
    "# multihead attention: 64*16\n",
    "print(config.hidden_size)"
   ]
  },
  {
   "cell_type": "markdown",
   "id": "8ec6d136",
   "metadata": {},
   "source": [
    "Then define a function to benchmark both forward and forward with backward performance using different sequence lengths and batch sizes. "
   ]
  },
  {
   "cell_type": "markdown",
   "id": "60ebc3fb",
   "metadata": {},
   "source": [
    "- input_shape: (b, s, h)\n",
    "- ffn：\n",
    "    - 两层 mlp，h=>4h=>h\n",
    "        - h->4h\n",
    "            - (b, h)\\*(h, 4h) => (b, 4h)\n",
    "            - (b\\*4h)(2\\*h) == 8\\*b\\*h\\*h\n",
    "        - 4h->h\n",
    "            - (b, 4h)\\*(4h, h) => (b, h)\n",
    "            - (b\\*h)\\*(2\\*4\\*h) == 8\\*b\\*h\\*h\n",
    "        - 16\\*b\\*h\\*h\n",
    "        - 16\\*b\\*s\\*h\\*h\n",
    "- attn：假如有 n 个头，每个头的维度：h/n（Q，K，V）\n",
    "    - 三步\n",
    "       - 第一步先做投影，\n",
    "           - Q: (s, h) * (h, h/n) ==> (s, h/n)\n",
    "               - s\\*(h/n)\\*(2h)\n",
    "           - K: (s, h) * (h, h/n) ==> (s, h/n)\n",
    "               - s\\*(h/n)\\*(2h)\n",
    "           - V: (s, h) * (h, h/n) ==> (s, h/n)\n",
    "               - s\\*(h/n)\\*(2h)\n",
    "           - s\\*(h/n)\\*(2h)\\*3 = 6\\*(h\\*h/n)\\*s\n",
    "       - 再计算 attn_score: (Q\\*K^T)\\*V\n",
    "           - (s, h/n) \\* (h/n, s) => (s, s)\n",
    "               - s\\*s*(2h/n)\n",
    "           - (s,s)\\*(s, h/n) => (s, h/n)\n",
    "               - (s\\*h/n)*(2s)\n",
    "           - s\\*s\\*(2h/n) + (s\\*h/n)\\*(2s) = 4\\*(h/n)\\*s\\*s\n",
    "       - n个(h/n) concat 为 h，做一次投影 (s, h) => (s, h)\n",
    "           - (6\\*(h\\*h/n)\\*s + 4\\*(h/n)\\*s\\*s) * n = 6\\*s\\*h\\*h + 4\\*h\\*s\\*s\n",
    "           - (s, h) \\* (h, h) => (s, h) \n",
    "               - s\\*h\\*(2\\*h) = 2\\*s\\*h\\*h\n",
    "       - 6\\*s\\*h\\*h + 4\\*h\\*s\\*s + 2\\*s\\*h\\*h = 8\\*s\\*h\\*h + 4\\*h\\*s\\*s\n",
    "       "
   ]
  },
  {
   "cell_type": "code",
   "execution_count": 16,
   "id": "9fdd1ed1",
   "metadata": {
    "ExecuteTime": {
     "end_time": "2023-04-11T15:48:17.535774Z",
     "start_time": "2023-04-11T15:48:17.527977Z"
    }
   },
   "outputs": [],
   "source": [
    "def layer_benchmark(layer, hidden_size, seq_lens, batch_sizes, cross_attention=False):\n",
    "    h = hidden_size\n",
    "    results = defaultdict(lambda: {})    \n",
    "    encoder_state = 'encoder_hidden_states=X' if cross_attention else ''\n",
    "    for s in seq_lens:\n",
    "        for b in batch_sizes:            \n",
    "            ffn = 16*b*s*h*h / 1e12  # TFLOPs for the Feed-Forward Network\n",
    "            atten = (4*b*h*s*s + 8*b*s*h*h) / 1e12  # TFLOPs for attention            \n",
    "            forward = ffn + (2 if cross_attention else 1) * atten\n",
    "            \n",
    "            X = torch.randn(b, s, h).half().cuda()\n",
    "            results[f'batch={b}'][f'fwd seq_len={s}'] = forward / walltime(\n",
    "                f'layer(X, {encoder_state})', var_dict(layer, X))\n",
    "            results[f'batch={b}'][f'fwd+bwd seq_len={s}'] = 3 * forward / walltime(\n",
    "                f'layer(X, {encoder_state})[0].sum().backward()', var_dict(layer, X))            \n",
    "    return pd.DataFrame(results)"
   ]
  },
  {
   "cell_type": "markdown",
   "id": "3639975b",
   "metadata": {},
   "source": [
    "In BERT pre-training, we often train with a sequence of 128 (stage 1) or 512 (stage 2). Let's test its performance. "
   ]
  },
  {
   "cell_type": "code",
   "execution_count": 17,
   "id": "13754beb",
   "metadata": {
    "ExecuteTime": {
     "end_time": "2023-04-11T15:50:08.388493Z",
     "start_time": "2023-04-11T15:48:22.895119Z"
    },
    "scrolled": true
   },
   "outputs": [
    {
     "data": {
      "text/html": [
       "<div>\n",
       "<style scoped>\n",
       "    .dataframe tbody tr th:only-of-type {\n",
       "        vertical-align: middle;\n",
       "    }\n",
       "\n",
       "    .dataframe tbody tr th {\n",
       "        vertical-align: top;\n",
       "    }\n",
       "\n",
       "    .dataframe thead th {\n",
       "        text-align: right;\n",
       "    }\n",
       "</style>\n",
       "<table border=\"1\" class=\"dataframe\">\n",
       "  <thead>\n",
       "    <tr style=\"text-align: right;\">\n",
       "      <th></th>\n",
       "      <th>batch=2</th>\n",
       "      <th>batch=4</th>\n",
       "      <th>batch=8</th>\n",
       "      <th>batch=16</th>\n",
       "      <th>batch=32</th>\n",
       "      <th>batch=64</th>\n",
       "      <th>batch=128</th>\n",
       "    </tr>\n",
       "  </thead>\n",
       "  <tbody>\n",
       "    <tr>\n",
       "      <th>fwd seq_len=128</th>\n",
       "      <td>11.511</td>\n",
       "      <td>13.321</td>\n",
       "      <td>45.993</td>\n",
       "      <td>53.099</td>\n",
       "      <td>107.170</td>\n",
       "      <td>110.394</td>\n",
       "      <td>97.590</td>\n",
       "    </tr>\n",
       "    <tr>\n",
       "      <th>fwd+bwd seq_len=128</th>\n",
       "      <td>3.129</td>\n",
       "      <td>6.341</td>\n",
       "      <td>12.523</td>\n",
       "      <td>25.068</td>\n",
       "      <td>49.649</td>\n",
       "      <td>99.831</td>\n",
       "      <td>102.060</td>\n",
       "    </tr>\n",
       "    <tr>\n",
       "      <th>fwd seq_len=512</th>\n",
       "      <td>29.852</td>\n",
       "      <td>82.675</td>\n",
       "      <td>76.396</td>\n",
       "      <td>73.583</td>\n",
       "      <td>71.270</td>\n",
       "      <td>68.964</td>\n",
       "      <td>69.280</td>\n",
       "    </tr>\n",
       "    <tr>\n",
       "      <th>fwd+bwd seq_len=512</th>\n",
       "      <td>13.490</td>\n",
       "      <td>26.978</td>\n",
       "      <td>53.157</td>\n",
       "      <td>80.533</td>\n",
       "      <td>76.346</td>\n",
       "      <td>78.427</td>\n",
       "      <td>78.398</td>\n",
       "    </tr>\n",
       "  </tbody>\n",
       "</table>\n",
       "</div>"
      ],
      "text/plain": [
       "                     batch=2  batch=4  batch=8  batch=16  batch=32  batch=64  \\\n",
       "fwd seq_len=128       11.511   13.321   45.993    53.099   107.170   110.394   \n",
       "fwd+bwd seq_len=128    3.129    6.341   12.523    25.068    49.649    99.831   \n",
       "fwd seq_len=512       29.852   82.675   76.396    73.583    71.270    68.964   \n",
       "fwd+bwd seq_len=512   13.490   26.978   53.157    80.533    76.346    78.427   \n",
       "\n",
       "                     batch=128  \n",
       "fwd seq_len=128         97.590  \n",
       "fwd+bwd seq_len=128    102.060  \n",
       "fwd seq_len=512         69.280  \n",
       "fwd+bwd seq_len=512     78.398  "
      ]
     },
     "execution_count": 17,
     "metadata": {},
     "output_type": "execute_result"
    }
   ],
   "source": [
    "layer_benchmark(layer, config.hidden_size, [128, 512], [2, 4, 8, 16, 32, 64, 128])"
   ]
  },
  {
   "cell_type": "code",
   "execution_count": 24,
   "id": "c19e1a44",
   "metadata": {
    "ExecuteTime": {
     "end_time": "2023-05-10T15:40:16.674248Z",
     "start_time": "2023-05-10T15:40:16.664885Z"
    }
   },
   "outputs": [
    {
     "data": {
      "text/plain": [
       "1.9542911768871265"
      ]
     },
     "execution_count": 24,
     "metadata": {},
     "output_type": "execute_result"
    }
   ],
   "source": [
    "110.394/56.488"
   ]
  },
  {
   "cell_type": "markdown",
   "id": "fc66dab5",
   "metadata": {},
   "source": [
    "No surprise that a large batch size helps. But the best number is below the matrix multiplication TFLOPS. Let's find why.\n",
    "\n",
    "We first benchmark the first dense layer in the Feed-Forward Network (FFN) in the layer. "
   ]
  },
  {
   "cell_type": "code",
   "execution_count": 26,
   "id": "584ead2b",
   "metadata": {
    "ExecuteTime": {
     "end_time": "2023-05-10T15:40:50.553770Z",
     "start_time": "2023-05-10T15:40:50.543257Z"
    }
   },
   "outputs": [
    {
     "data": {
      "text/plain": [
       "Linear(in_features=1024, out_features=4096, bias=True)"
      ]
     },
     "execution_count": 26,
     "metadata": {},
     "output_type": "execute_result"
    }
   ],
   "source": [
    "# ffn 中的其中一层 mlp, h=>4h\n",
    "layer.intermediate.dense"
   ]
  },
  {
   "cell_type": "code",
   "execution_count": 29,
   "id": "4ecfe68f",
   "metadata": {
    "ExecuteTime": {
     "end_time": "2023-04-11T15:56:32.543187Z",
     "start_time": "2023-04-11T15:56:28.579208Z"
    }
   },
   "outputs": [
    {
     "data": {
      "text/plain": [
       "'Dense layer TFLOPS: 160.980'"
      ]
     },
     "execution_count": 29,
     "metadata": {},
     "output_type": "execute_result"
    }
   ],
   "source": [
    "h, b, s = config.hidden_size, 64, 128\n",
    "X = torch.randn(b, s, h).half().cuda()\n",
    "\n",
    "'Dense layer TFLOPS: %.3f' % (8*b*s*h*h / 1e12 / walltime(    \n",
    "    'layer.intermediate.dense(X)', var_dict(layer, X)))"
   ]
  },
  {
   "cell_type": "markdown",
   "id": "80d31432",
   "metadata": {},
   "source": [
    "The number is pretty good. Then run this dense layer with the GeLU activation."
   ]
  },
  {
   "cell_type": "code",
   "execution_count": 21,
   "id": "efc7665c",
   "metadata": {
    "ExecuteTime": {
     "end_time": "2023-05-10T14:36:31.809254Z",
     "start_time": "2023-05-10T14:36:31.800112Z"
    }
   },
   "outputs": [
    {
     "data": {
      "text/plain": [
       "BertIntermediate(\n",
       "  (dense): Linear(in_features=1024, out_features=4096, bias=True)\n",
       "  (intermediate_act_fn): GELUActivation()\n",
       ")"
      ]
     },
     "execution_count": 21,
     "metadata": {},
     "output_type": "execute_result"
    }
   ],
   "source": [
    "# ffn 中的其中一层 mlp\n",
    "layer.intermediate"
   ]
  },
  {
   "cell_type": "code",
   "execution_count": 30,
   "id": "57fb2656",
   "metadata": {
    "ExecuteTime": {
     "end_time": "2023-04-11T15:56:54.020838Z",
     "start_time": "2023-04-11T15:56:50.117131Z"
    }
   },
   "outputs": [
    {
     "data": {
      "text/plain": [
       "'Dense+Activation TFLOPS: 126.240'"
      ]
     },
     "execution_count": 30,
     "metadata": {},
     "output_type": "execute_result"
    }
   ],
   "source": [
    "'Dense+Activation TFLOPS: %.3f' % (8*b*s*h*h / 1e12 / walltime(\n",
    "    'layer.intermediate(X)', var_dict(layer, X)))"
   ]
  },
  {
   "cell_type": "markdown",
   "id": "7c6950e5",
   "metadata": {},
   "source": [
    "Even the activation function has a ignorable complexity, it brings down the TFLOPS. We pointed out the reason before, the elemental-wise operation of the activation function is bounded by the memory bandwidth.\n",
    "\n",
    "Now test the whole FFN."
   ]
  },
  {
   "cell_type": "code",
   "execution_count": 31,
   "id": "c2770aff",
   "metadata": {
    "ExecuteTime": {
     "end_time": "2023-04-11T15:57:22.399093Z",
     "start_time": "2023-04-11T15:57:19.217411Z"
    }
   },
   "outputs": [
    {
     "data": {
      "text/plain": [
       "'FFN TFLOPS: 135.765'"
      ]
     },
     "execution_count": 31,
     "metadata": {},
     "output_type": "execute_result"
    }
   ],
   "source": [
    "ffn = 16*b*s*h*h / 1e12\n",
    "'FFN TFLOPS: %.3f'%(ffn / walltime(\n",
    "    'layer.output(layer.intermediate(X),X)', var_dict(layer, X)))"
   ]
  },
  {
   "cell_type": "markdown",
   "id": "bfe03c6b",
   "metadata": {},
   "source": [
    "The other part in the BERT layer is the multi-head self-attention."
   ]
  },
  {
   "cell_type": "code",
   "execution_count": 32,
   "id": "810add3d",
   "metadata": {
    "ExecuteTime": {
     "end_time": "2023-04-11T15:57:29.209553Z",
     "start_time": "2023-04-11T15:57:26.062729Z"
    },
    "scrolled": true
   },
   "outputs": [
    {
     "data": {
      "text/plain": [
       "'Attention TFLOPS: 81.950'"
      ]
     },
     "execution_count": 32,
     "metadata": {},
     "output_type": "execute_result"
    }
   ],
   "source": [
    "att = (4*b*h*s*s + 8*b*s*h*h) / 1e12\n",
    "'Attention TFLOPS: %.3f'%(\n",
    "    att / walltime('layer.attention(X)', var_dict(layer, X)))"
   ]
  },
  {
   "cell_type": "markdown",
   "id": "24b6d5d0",
   "metadata": {},
   "source": [
    "Even though the main computation part of the attention block is still matrix multiplication, it has more memory bounded operators compared to FFN. So you see a lower TFLOPS."
   ]
  },
  {
   "cell_type": "code",
   "execution_count": 33,
   "id": "50edaac4",
   "metadata": {
    "ExecuteTime": {
     "end_time": "2023-04-11T15:57:49.815328Z",
     "start_time": "2023-04-11T15:57:49.807729Z"
    },
    "scrolled": true
   },
   "outputs": [
    {
     "data": {
      "text/plain": [
       "0.53125"
      ]
     },
     "execution_count": 33,
     "metadata": {},
     "output_type": "execute_result"
    }
   ],
   "source": [
    "att / ffn"
   ]
  },
  {
   "cell_type": "markdown",
   "id": "7f6fc072",
   "metadata": {},
   "source": [
    "The ratio of complexity between attention and FFN depends on the BERT configuration. The overall performance is a weighted sum between the FLOPS of these two components."
   ]
  },
  {
   "cell_type": "markdown",
   "id": "20680c24",
   "metadata": {},
   "source": [
    "## GPT-2 Block\n",
    "\n",
    "Next let's evaluate `gpt2-medium`, which has a similar architecture has `bert-large`, i.e. 24 layers with a 1024 hidden size. GPT2 is trained with a 1024 sequence length."
   ]
  },
  {
   "cell_type": "code",
   "execution_count": 34,
   "id": "41b59ff0",
   "metadata": {
    "ExecuteTime": {
     "end_time": "2023-04-11T15:59:23.590267Z",
     "start_time": "2023-04-11T15:57:56.201822Z"
    },
    "scrolled": true
   },
   "outputs": [
    {
     "data": {
      "application/vnd.jupyter.widget-view+json": {
       "model_id": "2a533006246d4411a4f95b25e7bbb753",
       "version_major": 2,
       "version_minor": 0
      },
      "text/plain": [
       "Downloading (…)lve/main/config.json:   0%|          | 0.00/718 [00:00<?, ?B/s]"
      ]
     },
     "metadata": {},
     "output_type": "display_data"
    },
    {
     "data": {
      "text/html": [
       "<div>\n",
       "<style scoped>\n",
       "    .dataframe tbody tr th:only-of-type {\n",
       "        vertical-align: middle;\n",
       "    }\n",
       "\n",
       "    .dataframe tbody tr th {\n",
       "        vertical-align: top;\n",
       "    }\n",
       "\n",
       "    .dataframe thead th {\n",
       "        text-align: right;\n",
       "    }\n",
       "</style>\n",
       "<table border=\"1\" class=\"dataframe\">\n",
       "  <thead>\n",
       "    <tr style=\"text-align: right;\">\n",
       "      <th></th>\n",
       "      <th>batch=2</th>\n",
       "      <th>batch=4</th>\n",
       "      <th>batch=8</th>\n",
       "      <th>batch=16</th>\n",
       "      <th>batch=32</th>\n",
       "      <th>batch=64</th>\n",
       "    </tr>\n",
       "  </thead>\n",
       "  <tbody>\n",
       "    <tr>\n",
       "      <th>fwd seq_len=512</th>\n",
       "      <td>25.072</td>\n",
       "      <td>49.734</td>\n",
       "      <td>56.900</td>\n",
       "      <td>49.412</td>\n",
       "      <td>48.346</td>\n",
       "      <td>47.935</td>\n",
       "    </tr>\n",
       "    <tr>\n",
       "      <th>fwd+bwd seq_len=512</th>\n",
       "      <td>12.614</td>\n",
       "      <td>25.118</td>\n",
       "      <td>49.785</td>\n",
       "      <td>54.885</td>\n",
       "      <td>53.958</td>\n",
       "      <td>54.169</td>\n",
       "    </tr>\n",
       "    <tr>\n",
       "      <th>fwd seq_len=1024</th>\n",
       "      <td>44.208</td>\n",
       "      <td>43.629</td>\n",
       "      <td>39.372</td>\n",
       "      <td>38.740</td>\n",
       "      <td>38.568</td>\n",
       "      <td>38.427</td>\n",
       "    </tr>\n",
       "    <tr>\n",
       "      <th>fwd+bwd seq_len=1024</th>\n",
       "      <td>27.067</td>\n",
       "      <td>44.980</td>\n",
       "      <td>44.579</td>\n",
       "      <td>43.975</td>\n",
       "      <td>44.094</td>\n",
       "      <td>44.113</td>\n",
       "    </tr>\n",
       "  </tbody>\n",
       "</table>\n",
       "</div>"
      ],
      "text/plain": [
       "                      batch=2  batch=4  batch=8  batch=16  batch=32  batch=64\n",
       "fwd seq_len=512        25.072   49.734   56.900    49.412    48.346    47.935\n",
       "fwd+bwd seq_len=512    12.614   25.118   49.785    54.885    53.958    54.169\n",
       "fwd seq_len=1024       44.208   43.629   39.372    38.740    38.568    38.427\n",
       "fwd+bwd seq_len=1024   27.067   44.980   44.579    43.975    44.094    44.113"
      ]
     },
     "execution_count": 34,
     "metadata": {},
     "output_type": "execute_result"
    }
   ],
   "source": [
    "from transformers.models.gpt2.modeling_gpt2 import GPT2Block\n",
    "\n",
    "config = AutoConfig.from_pretrained(\"gpt2-medium\")\n",
    "layer = GPT2Block(config, layer_idx=0).half().cuda()\n",
    "layer_benchmark(layer, config.n_embd, [512, 1024], [2, 4, 8, 16, 32, 64])"
   ]
  },
  {
   "cell_type": "code",
   "execution_count": 27,
   "id": "30023c0c",
   "metadata": {
    "ExecuteTime": {
     "end_time": "2023-05-10T15:43:49.240692Z",
     "start_time": "2023-05-10T15:43:49.230310Z"
    }
   },
   "outputs": [
    {
     "data": {
      "text/plain": [
       "1.5548572209318212"
      ]
     },
     "execution_count": 27,
     "metadata": {},
     "output_type": "execute_result"
    }
   ],
   "source": [
    "56.900/36.595"
   ]
  },
  {
   "cell_type": "markdown",
   "id": "07d8984e",
   "metadata": {},
   "source": [
    "You can see that, despite GPT-2 and BERT has the same complexity, GPT-2 has slightly worse TFLOPS when using the same batch size and sequence length. Also using a larger sequence length 1024 further harms the performance."
   ]
  },
  {
   "cell_type": "markdown",
   "id": "e41d9229",
   "metadata": {},
   "source": [
    "## T5 Layer\n",
    "\n",
    "T5 has both encoder and decoder, let's first benchmark the decoder, whose performance is similar to BERT."
   ]
  },
  {
   "cell_type": "code",
   "execution_count": 35,
   "id": "1160220f",
   "metadata": {
    "ExecuteTime": {
     "end_time": "2023-04-11T16:00:46.218081Z",
     "start_time": "2023-04-11T15:59:55.596166Z"
    }
   },
   "outputs": [
    {
     "data": {
      "application/vnd.jupyter.widget-view+json": {
       "model_id": "4899874efb1a4f1f9341935403b85b5a",
       "version_major": 2,
       "version_minor": 0
      },
      "text/plain": [
       "Downloading (…)lve/main/config.json:   0%|          | 0.00/1.21k [00:00<?, ?B/s]"
      ]
     },
     "metadata": {},
     "output_type": "display_data"
    },
    {
     "data": {
      "text/html": [
       "<div>\n",
       "<style scoped>\n",
       "    .dataframe tbody tr th:only-of-type {\n",
       "        vertical-align: middle;\n",
       "    }\n",
       "\n",
       "    .dataframe tbody tr th {\n",
       "        vertical-align: top;\n",
       "    }\n",
       "\n",
       "    .dataframe thead th {\n",
       "        text-align: right;\n",
       "    }\n",
       "</style>\n",
       "<table border=\"1\" class=\"dataframe\">\n",
       "  <thead>\n",
       "    <tr style=\"text-align: right;\">\n",
       "      <th></th>\n",
       "      <th>batch=2</th>\n",
       "      <th>batch=4</th>\n",
       "      <th>batch=8</th>\n",
       "      <th>batch=16</th>\n",
       "      <th>batch=32</th>\n",
       "      <th>batch=64</th>\n",
       "      <th>batch=128</th>\n",
       "    </tr>\n",
       "  </thead>\n",
       "  <tbody>\n",
       "    <tr>\n",
       "      <th>fwd seq_len=512</th>\n",
       "      <td>19.052</td>\n",
       "      <td>50.302</td>\n",
       "      <td>47.720</td>\n",
       "      <td>45.154</td>\n",
       "      <td>43.313</td>\n",
       "      <td>41.821</td>\n",
       "      <td>41.524</td>\n",
       "    </tr>\n",
       "    <tr>\n",
       "      <th>fwd+bwd seq_len=512</th>\n",
       "      <td>10.798</td>\n",
       "      <td>21.681</td>\n",
       "      <td>41.511</td>\n",
       "      <td>52.429</td>\n",
       "      <td>49.602</td>\n",
       "      <td>49.603</td>\n",
       "      <td>49.468</td>\n",
       "    </tr>\n",
       "  </tbody>\n",
       "</table>\n",
       "</div>"
      ],
      "text/plain": [
       "                     batch=2  batch=4  batch=8  batch=16  batch=32  batch=64  \\\n",
       "fwd seq_len=512       19.052   50.302   47.720    45.154    43.313    41.821   \n",
       "fwd+bwd seq_len=512   10.798   21.681   41.511    52.429    49.602    49.603   \n",
       "\n",
       "                     batch=128  \n",
       "fwd seq_len=512         41.524  \n",
       "fwd+bwd seq_len=512     49.468  "
      ]
     },
     "execution_count": 35,
     "metadata": {},
     "output_type": "execute_result"
    }
   ],
   "source": [
    "from transformers.models.t5.modeling_t5 import T5Block\n",
    "\n",
    "config = AutoConfig.from_pretrained(\"t5-large\")\n",
    "config.use_cache = False\n",
    "config.is_decoder = False\n",
    "config.is_encoder_decoder = False\n",
    "\n",
    "encoder = T5Block(config).half().cuda()\n",
    "layer_benchmark(encoder, config.d_model, [512], [2, 4, 8, 16, 32, 64, 128])"
   ]
  },
  {
   "cell_type": "markdown",
   "id": "86e6e76c",
   "metadata": {},
   "source": [
    "The decoder has an additional cross attention, which increases the time complexity and also hurts TFLOPS."
   ]
  },
  {
   "cell_type": "code",
   "execution_count": 36,
   "id": "34db39b1",
   "metadata": {
    "ExecuteTime": {
     "end_time": "2023-04-11T16:01:44.690262Z",
     "start_time": "2023-04-11T16:00:56.210528Z"
    }
   },
   "outputs": [
    {
     "data": {
      "text/html": [
       "<div>\n",
       "<style scoped>\n",
       "    .dataframe tbody tr th:only-of-type {\n",
       "        vertical-align: middle;\n",
       "    }\n",
       "\n",
       "    .dataframe tbody tr th {\n",
       "        vertical-align: top;\n",
       "    }\n",
       "\n",
       "    .dataframe thead th {\n",
       "        text-align: right;\n",
       "    }\n",
       "</style>\n",
       "<table border=\"1\" class=\"dataframe\">\n",
       "  <thead>\n",
       "    <tr style=\"text-align: right;\">\n",
       "      <th></th>\n",
       "      <th>batch=2</th>\n",
       "      <th>batch=4</th>\n",
       "      <th>batch=8</th>\n",
       "      <th>batch=16</th>\n",
       "      <th>batch=32</th>\n",
       "      <th>batch=64</th>\n",
       "      <th>batch=128</th>\n",
       "    </tr>\n",
       "  </thead>\n",
       "  <tbody>\n",
       "    <tr>\n",
       "      <th>fwd seq_len=512</th>\n",
       "      <td>29.277</td>\n",
       "      <td>40.767</td>\n",
       "      <td>38.341</td>\n",
       "      <td>36.989</td>\n",
       "      <td>35.458</td>\n",
       "      <td>34.330</td>\n",
       "      <td>34.084</td>\n",
       "    </tr>\n",
       "    <tr>\n",
       "      <th>fwd+bwd seq_len=512</th>\n",
       "      <td>9.257</td>\n",
       "      <td>18.400</td>\n",
       "      <td>36.701</td>\n",
       "      <td>42.897</td>\n",
       "      <td>40.398</td>\n",
       "      <td>40.718</td>\n",
       "      <td>40.643</td>\n",
       "    </tr>\n",
       "  </tbody>\n",
       "</table>\n",
       "</div>"
      ],
      "text/plain": [
       "                     batch=2  batch=4  batch=8  batch=16  batch=32  batch=64  \\\n",
       "fwd seq_len=512       29.277   40.767   38.341    36.989    35.458    34.330   \n",
       "fwd+bwd seq_len=512    9.257   18.400   36.701    42.897    40.398    40.718   \n",
       "\n",
       "                     batch=128  \n",
       "fwd seq_len=512         34.084  \n",
       "fwd+bwd seq_len=512     40.643  "
      ]
     },
     "execution_count": 36,
     "metadata": {},
     "output_type": "execute_result"
    }
   ],
   "source": [
    "config.is_decoder = True\n",
    "decoder = T5Block(config).half().cuda()\n",
    "layer_benchmark(decoder, config.d_model, [512], [2, 4, 8, 16, 32, 64, 128], cross_attention=True)"
   ]
  },
  {
   "cell_type": "markdown",
   "id": "b329888f",
   "metadata": {},
   "source": [
    "## Conclusion\n",
    "\n",
    "To conclude, to achieve the best performance for a Transformer layer, you need to use a fast data type and a large batch size. For further improvement, we may need to rewrite the code. For example, [fusing](https://pytorch.org/tutorials/recipes/recipes/tuning_guide.html#fuse-pointwise-operations) multiple kernels into a single one. "
   ]
  }
 ],
 "metadata": {
  "kernelspec": {
   "display_name": "Python 3 (ipykernel)",
   "language": "python",
   "name": "python3"
  },
  "language_info": {
   "codemirror_mode": {
    "name": "ipython",
    "version": 3
   },
   "file_extension": ".py",
   "mimetype": "text/x-python",
   "name": "python",
   "nbconvert_exporter": "python",
   "pygments_lexer": "ipython3",
   "version": "3.10.9"
  },
  "toc": {
   "base_numbering": 1,
   "nav_menu": {},
   "number_sections": true,
   "sideBar": true,
   "skip_h1_title": false,
   "title_cell": "Table of Contents",
   "title_sidebar": "Contents",
   "toc_cell": false,
   "toc_position": {
    "height": "calc(100% - 180px)",
    "left": "10px",
    "top": "150px",
    "width": "336px"
   },
   "toc_section_display": true,
   "toc_window_display": true
  },
  "vscode": {
   "interpreter": {
    "hash": "b0fa6594d8f4cbf19f97940f81e996739fb7646882a419484c72d19e05852a7e"
   }
  }
 },
 "nbformat": 4,
 "nbformat_minor": 5
}
