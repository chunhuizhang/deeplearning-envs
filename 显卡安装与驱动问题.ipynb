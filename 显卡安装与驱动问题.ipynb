{
 "cells": [
  {
   "cell_type": "markdown",
   "id": "279d5e72",
   "metadata": {},
   "source": [
    "- nvcc\n",
    "    - 有可能的路径是 `~/anaconda3/bin/nvcc`"
   ]
  },
  {
   "cell_type": "markdown",
   "id": "c0133b94",
   "metadata": {},
   "source": [
    "## 显卡是否在槽位（显卡有没有掉）"
   ]
  },
  {
   "cell_type": "code",
   "execution_count": 1,
   "id": "82282be9",
   "metadata": {
    "ExecuteTime": {
     "end_time": "2024-01-26T12:29:53.517774Z",
     "start_time": "2024-01-26T12:29:53.369120Z"
    }
   },
   "outputs": [
    {
     "name": "stdout",
     "output_type": "stream",
     "text": [
      "18:00.0 VGA compatible controller: NVIDIA Corporation Device 2684 (rev a1)\r\n",
      "18:00.1 Audio device: NVIDIA Corporation Device 22ba (rev a1)\r\n",
      "8a:00.0 VGA compatible controller: NVIDIA Corporation Device 2684 (rev a1)\r\n",
      "8a:00.1 Audio device: NVIDIA Corporation Device 22ba (rev a1)\r\n"
     ]
    }
   ],
   "source": [
    "!lspci | grep -i nvidia"
   ]
  },
  {
   "cell_type": "markdown",
   "id": "17c073c3",
   "metadata": {},
   "source": [
    "- 一共2个GPU，每个GPU都有一个相应的VGA兼容控制器和一个音频设备。\n",
    "    - NVIDIA Corporation Device 2684: 4090\n",
    "        - NVIDIA Corporation Device 2204: 3090\n",
    "    - https://admin.pci-ids.ucw.cz//mods/PC/10de/\n",
    "- 18:00.0: PCI 总线（bus）\n",
    "- rev al: rev，revision，硬件的修订标识符\n",
    "    - `rev ff`: 有时并不表示传统意义上的硬件版本或修订\n",
    "        - 硬件故障或通信问题\n",
    "        - 设备未正确安装或识别\n",
    "        - 备处于省电模式或未激活状态"
   ]
  },
  {
   "cell_type": "markdown",
   "id": "d50320b0",
   "metadata": {},
   "source": [
    "## 驱动安装"
   ]
  },
  {
   "cell_type": "markdown",
   "id": "010b3b4c",
   "metadata": {},
   "source": [
    "- software update\n",
    "    - `sudo systemctl disable --now unattended-upgrades`\n",
    "- sudo apt install nvidia-driver-xxx\n",
    "    - `ubuntu-drivers devices`\n",
    "- 安装包安装：`xx.run`"
   ]
  },
  {
   "cell_type": "markdown",
   "id": "3c964200",
   "metadata": {},
   "source": [
    "## NVIDIA-SMI has failed because it couldn't communicate with the NVIDIA driver. Make sure that the latest NVIDIA driver is installed and running."
   ]
  },
  {
   "cell_type": "markdown",
   "id": "a1c02a58",
   "metadata": {},
   "source": [
    "- 运行 `nvidia-smi` 命令时报错；"
   ]
  }
 ],
 "metadata": {
  "kernelspec": {
   "display_name": "Python 3 (ipykernel)",
   "language": "python",
   "name": "python3"
  },
  "language_info": {
   "codemirror_mode": {
    "name": "ipython",
    "version": 3
   },
   "file_extension": ".py",
   "mimetype": "text/x-python",
   "name": "python",
   "nbconvert_exporter": "python",
   "pygments_lexer": "ipython3",
   "version": "3.10.13"
  },
  "toc": {
   "base_numbering": 1,
   "nav_menu": {},
   "number_sections": true,
   "sideBar": true,
   "skip_h1_title": false,
   "title_cell": "Table of Contents",
   "title_sidebar": "Contents",
   "toc_cell": false,
   "toc_position": {},
   "toc_section_display": true,
   "toc_window_display": false
  }
 },
 "nbformat": 4,
 "nbformat_minor": 5
}
