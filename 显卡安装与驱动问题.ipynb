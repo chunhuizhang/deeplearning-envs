{
 "cells": [
  {
   "cell_type": "markdown",
   "id": "279d5e72",
   "metadata": {},
   "source": [
    "- nvcc\n",
    "    - 有可能的路径是 `~/anaconda3/bin/nvcc`"
   ]
  },
  {
   "cell_type": "markdown",
   "id": "6f18aa45",
   "metadata": {},
   "source": [
    "## 驱动安装"
   ]
  },
  {
   "cell_type": "markdown",
   "id": "3c964200",
   "metadata": {},
   "source": [
    "## NVIDIA-SMI has failed because it couldn't communicate with the NVIDIA driver. Make sure that the latest NVIDIA driver is installed and running."
   ]
  },
  {
   "cell_type": "markdown",
   "id": "a1c02a58",
   "metadata": {},
   "source": [
    "- 运行 `nvidia-smi` 命令时报错；"
   ]
  }
 ],
 "metadata": {
  "kernelspec": {
   "display_name": "Python 3 (ipykernel)",
   "language": "python",
   "name": "python3"
  },
  "language_info": {
   "codemirror_mode": {
    "name": "ipython",
    "version": 3
   },
   "file_extension": ".py",
   "mimetype": "text/x-python",
   "name": "python",
   "nbconvert_exporter": "python",
   "pygments_lexer": "ipython3",
   "version": "3.10.13"
  },
  "toc": {
   "base_numbering": 1,
   "nav_menu": {},
   "number_sections": true,
   "sideBar": true,
   "skip_h1_title": false,
   "title_cell": "Table of Contents",
   "title_sidebar": "Contents",
   "toc_cell": false,
   "toc_position": {},
   "toc_section_display": true,
   "toc_window_display": false
  }
 },
 "nbformat": 4,
 "nbformat_minor": 5
}
