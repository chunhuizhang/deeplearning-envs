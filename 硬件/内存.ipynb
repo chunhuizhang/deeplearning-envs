{
 "cells": [
  {
   "cell_type": "markdown",
   "id": "fe43d187-e27a-45ae-8a0e-16a8e49e937f",
   "metadata": {},
   "source": [
    "- 内存的非对称双通道，笔记本电脑一般两个内存通道\n",
    "    - 比如一根16gb内存跟一根8gb内存，\n",
    "    - 如果想16gb升级成24gb\n",
    "        - 原厂一根16gb，然后再买一个 8gb\n",
    "        - 如果原厂是两根8gb，则需要买一根16gb替换其中一根8gb"
   ]
  }
 ],
 "metadata": {
  "kernelspec": {
   "display_name": "Python 3 (ipykernel)",
   "language": "python",
   "name": "python3"
  },
  "language_info": {
   "codemirror_mode": {
    "name": "ipython",
    "version": 3
   },
   "file_extension": ".py",
   "mimetype": "text/x-python",
   "name": "python",
   "nbconvert_exporter": "python",
   "pygments_lexer": "ipython3",
   "version": "3.10.13"
  }
 },
 "nbformat": 4,
 "nbformat_minor": 5
}
