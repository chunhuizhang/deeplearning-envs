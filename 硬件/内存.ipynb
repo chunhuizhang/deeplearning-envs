{
 "cells": [
  {
   "cell_type": "markdown",
   "id": "12b58050-f18f-4555-8862-fb78d739a994",
   "metadata": {},
   "source": [
    "### 内存带宽，内存位宽"
   ]
  },
  {
   "cell_type": "markdown",
   "id": "effb4344-ebf1-46f9-b1fe-78558f41397c",
   "metadata": {},
   "source": [
    "- 内存带宽计算公式：\n",
    "    - 内存带宽 = 频率 * 位宽/8\n",
    "- 内存频率：MT/s 与 Gbps\n",
    "    - MT/s：Mega Transfers per Second\n",
    "        - MT/s 表示每秒的传输次数。\n",
    "            - 如果每次传输传输 1 位的数据，那么 1 MT/s = 1 Mbps。\n",
    "            - 如果每次传输传输的是 8 位（即 1 字节）的数据，那么 1 MT/s = 8 Mbps。\n",
    "    - Gbps：Gigabits per Second"
   ]
  },
  {
   "cell_type": "markdown",
   "id": "dad35a7c-1a9d-4123-bcc2-f1ebe89d65f3",
   "metadata": {},
   "source": [
    "- NVIDIA GeForce RTX 4090：\n",
    "    - 显存类型：24 GB GDDR6X。\n",
    "    - 显存位宽：384 位。\n",
    "    - 显存频率：21 Gbps。\n",
    "- M4 series\n",
    "    - https://en.wikipedia.org/wiki/Apple_M4\n",
    "    - M4：LPDDR5X 7500 MT/s \n",
    "        -  内存位宽：64bit*2 = 128位 (16\\*8)\n",
    "            -  2表示的RAM的双通道；\n",
    "        -  内存带宽计算：\n",
    "            -  7500*64*2/8/1000 = 120GB/s\n",
    "    - M4 pro/max：LPDDR5X 8533 MT/s\n",
    "        - M4 pro：\n",
    "            - 内存位宽：64bit * 4 = 256bits (16 \\* 16)\n",
    "                - 4 表示的 RAM 的4通道\n",
    "            -  内存带宽\n",
    "                -  8533 * 64 * 4 / 8 / 1000 = 273GB/s\n",
    "        - M4 max：\n",
    "            - 内存位宽：128 * {3, 4}  = {**384**, 512}bits (24 * 16, 32 * 16)\n",
    "                - 3 表示的 RAM 的 3 通道（3颗粒）；\n",
    "            - 内存带宽：\n",
    "                - 8533 * 128 * 3 / 8 / 1000 = 410 GB/s\n",
    "                - 8533 * 128 * 4 / 8 / 1000 = 546 GB/s"
   ]
  },
  {
   "cell_type": "code",
   "execution_count": 2,
   "id": "b7bfa75f-cc5c-4820-8071-b5c27f40900f",
   "metadata": {
    "execution": {
     "iopub.execute_input": "2024-11-02T03:45:56.901920Z",
     "iopub.status.busy": "2024-11-02T03:45:56.901285Z",
     "iopub.status.idle": "2024-11-02T03:45:56.913411Z",
     "shell.execute_reply": "2024-11-02T03:45:56.911309Z",
     "shell.execute_reply.started": "2024-11-02T03:45:56.901874Z"
    }
   },
   "outputs": [
    {
     "data": {
      "text/plain": [
       "'1008.0GB/s'"
      ]
     },
     "execution_count": 2,
     "metadata": {},
     "output_type": "execute_result"
    }
   ],
   "source": [
    "f'{21 * 384 / 8}GB/s'"
   ]
  },
  {
   "cell_type": "code",
   "execution_count": 3,
   "id": "3051d62c-5528-42ba-96b5-687d314da67a",
   "metadata": {
    "execution": {
     "iopub.execute_input": "2024-11-02T05:26:25.459150Z",
     "iopub.status.busy": "2024-11-02T05:26:25.458533Z",
     "iopub.status.idle": "2024-11-02T05:26:25.470879Z",
     "shell.execute_reply": "2024-11-02T05:26:25.468746Z",
     "shell.execute_reply.started": "2024-11-02T05:26:25.459104Z"
    }
   },
   "outputs": [
    {
     "data": {
      "text/plain": [
       "120.0"
      ]
     },
     "execution_count": 3,
     "metadata": {},
     "output_type": "execute_result"
    }
   ],
   "source": [
    "7500 * 64*2 / 8 / 1000"
   ]
  },
  {
   "cell_type": "code",
   "execution_count": 4,
   "id": "fb445058-495c-4fd1-b6c1-6ba0b25f96d6",
   "metadata": {
    "execution": {
     "iopub.execute_input": "2024-11-02T05:30:00.322434Z",
     "iopub.status.busy": "2024-11-02T05:30:00.321815Z",
     "iopub.status.idle": "2024-11-02T05:30:00.335076Z",
     "shell.execute_reply": "2024-11-02T05:30:00.332952Z",
     "shell.execute_reply.started": "2024-11-02T05:30:00.322388Z"
    }
   },
   "outputs": [
    {
     "data": {
      "text/plain": [
       "273.056"
      ]
     },
     "execution_count": 4,
     "metadata": {},
     "output_type": "execute_result"
    }
   ],
   "source": [
    "8533 * 64 * 4 / 8 / 1000"
   ]
  },
  {
   "cell_type": "code",
   "execution_count": 6,
   "id": "9fb1800b-012c-48b5-8630-ff317fe7f818",
   "metadata": {
    "execution": {
     "iopub.execute_input": "2024-11-02T05:32:34.593270Z",
     "iopub.status.busy": "2024-11-02T05:32:34.592624Z",
     "iopub.status.idle": "2024-11-02T05:32:34.605681Z",
     "shell.execute_reply": "2024-11-02T05:32:34.603569Z",
     "shell.execute_reply.started": "2024-11-02T05:32:34.593225Z"
    }
   },
   "outputs": [
    {
     "data": {
      "text/plain": [
       "409.584"
      ]
     },
     "execution_count": 6,
     "metadata": {},
     "output_type": "execute_result"
    }
   ],
   "source": [
    "8533 * 128 * 3 / 8 / 1000"
   ]
  },
  {
   "cell_type": "code",
   "execution_count": 8,
   "id": "27d262c0-275b-46e7-9726-b96c1f278e5d",
   "metadata": {
    "execution": {
     "iopub.execute_input": "2024-11-02T05:33:56.193448Z",
     "iopub.status.busy": "2024-11-02T05:33:56.192824Z",
     "iopub.status.idle": "2024-11-02T05:33:56.206455Z",
     "shell.execute_reply": "2024-11-02T05:33:56.204285Z",
     "shell.execute_reply.started": "2024-11-02T05:33:56.193401Z"
    }
   },
   "outputs": [
    {
     "data": {
      "text/plain": [
       "512"
      ]
     },
     "execution_count": 8,
     "metadata": {},
     "output_type": "execute_result"
    }
   ],
   "source": [
    "128 * 4"
   ]
  },
  {
   "cell_type": "code",
   "execution_count": 7,
   "id": "cd64d17d-aec9-46d2-a7ee-0f01f96be243",
   "metadata": {
    "execution": {
     "iopub.execute_input": "2024-11-02T05:33:33.048098Z",
     "iopub.status.busy": "2024-11-02T05:33:33.047486Z",
     "iopub.status.idle": "2024-11-02T05:33:33.059866Z",
     "shell.execute_reply": "2024-11-02T05:33:33.058073Z",
     "shell.execute_reply.started": "2024-11-02T05:33:33.048052Z"
    }
   },
   "outputs": [
    {
     "data": {
      "text/plain": [
       "546.112"
      ]
     },
     "execution_count": 7,
     "metadata": {},
     "output_type": "execute_result"
    }
   ],
   "source": [
    "8533 * 128 * 4 / 8 / 1000"
   ]
  },
  {
   "cell_type": "markdown",
   "id": "d22f94ae-bff6-48a3-816f-fefa85f3cbc9",
   "metadata": {},
   "source": [
    "### 内存通道"
   ]
  },
  {
   "cell_type": "markdown",
   "id": "fe43d187-e27a-45ae-8a0e-16a8e49e937f",
   "metadata": {},
   "source": [
    "- 内存的非对称双通道，笔记本电脑一般两个内存通道（双通道内存）\n",
    "    - 比如一根16gb内存跟一根8gb内存，\n",
    "    - 如果想16gb升级成24gb\n",
    "        - 原厂一根16gb，然后再买一个 8gb\n",
    "        - 如果原厂是两根8gb，则需要买一根16gb替换其中一根8gb"
   ]
  },
  {
   "cell_type": "markdown",
   "id": "711be624-4c66-4289-93d7-7118c115c82d",
   "metadata": {},
   "source": [
    "### segment fault (core dump)"
   ]
  },
  {
   "cell_type": "markdown",
   "id": "043d4dd5-5fec-4b6d-a8b7-feddd535b6c7",
   "metadata": {},
   "source": [
    "\"Segment fault (core dumped)\" 是程序运行时的一个错误，通常发生在程序试图访问未被允许的内存区域时。它是由操作系统通过内存保护机制检测到的，并终止程序执行，同时产生一个内存转储文件（即 core dump），用于调试。"
   ]
  }
 ],
 "metadata": {
  "kernelspec": {
   "display_name": "Python 3 (ipykernel)",
   "language": "python",
   "name": "python3"
  },
  "language_info": {
   "codemirror_mode": {
    "name": "ipython",
    "version": 3
   },
   "file_extension": ".py",
   "mimetype": "text/x-python",
   "name": "python",
   "nbconvert_exporter": "python",
   "pygments_lexer": "ipython3",
   "version": "3.10.13"
  }
 },
 "nbformat": 4,
 "nbformat_minor": 5
}
