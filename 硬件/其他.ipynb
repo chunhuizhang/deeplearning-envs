{
 "cells": [
  {
   "cell_type": "code",
   "execution_count": 1,
   "id": "bfdd1dbd-cd3d-46f7-a9d4-abd1adc8ebd0",
   "metadata": {
    "execution": {
     "iopub.execute_input": "2024-07-16T13:28:28.361008Z",
     "iopub.status.busy": "2024-07-16T13:28:28.360447Z",
     "iopub.status.idle": "2024-07-16T13:28:28.371074Z",
     "shell.execute_reply": "2024-07-16T13:28:28.369378Z",
     "shell.execute_reply.started": "2024-07-16T13:28:28.360960Z"
    }
   },
   "outputs": [],
   "source": [
    "from IPython.display import Image"
   ]
  },
  {
   "cell_type": "markdown",
   "id": "b4edad22-100e-409f-8eed-6034594f42cb",
   "metadata": {},
   "source": [
    "### 针脚（pins）"
   ]
  },
  {
   "cell_type": "markdown",
   "id": "edfccf84-a886-4bf6-aaf7-659ef7e5d202",
   "metadata": {},
   "source": [
    "- 电信号传输和电力供应\n",
    "    - HDMI 连接器有 19 个针脚，用于传输视频、音频和控制信号。"
   ]
  },
  {
   "cell_type": "code",
   "execution_count": 5,
   "id": "59fdd766-cf44-499f-934d-f52462cde51f",
   "metadata": {
    "execution": {
     "iopub.execute_input": "2024-07-16T13:28:57.817396Z",
     "iopub.status.busy": "2024-07-16T13:28:57.816841Z",
     "iopub.status.idle": "2024-07-16T13:28:57.830517Z",
     "shell.execute_reply": "2024-07-16T13:28:57.828415Z",
     "shell.execute_reply.started": "2024-07-16T13:28:57.817353Z"
    }
   },
   "outputs": [
    {
     "data": {
      "text/html": [
       "<img src=\"https://upload.wikimedia.org/wikipedia/commons/9/94/HDMI_Connector_Pins.jpg\" width=\"400\"/>"
      ],
      "text/plain": [
       "<IPython.core.display.Image object>"
      ]
     },
     "execution_count": 5,
     "metadata": {},
     "output_type": "execute_result"
    }
   ],
   "source": [
    "Image(url='https://upload.wikimedia.org/wikipedia/commons/9/94/HDMI_Connector_Pins.jpg', width=400)"
   ]
  },
  {
   "cell_type": "code",
   "execution_count": null,
   "id": "47e57a17-4670-4aa9-aa5a-8f088983b8c6",
   "metadata": {},
   "outputs": [],
   "source": []
  }
 ],
 "metadata": {
  "kernelspec": {
   "display_name": "Python 3 (ipykernel)",
   "language": "python",
   "name": "python3"
  },
  "language_info": {
   "codemirror_mode": {
    "name": "ipython",
    "version": 3
   },
   "file_extension": ".py",
   "mimetype": "text/x-python",
   "name": "python",
   "nbconvert_exporter": "python",
   "pygments_lexer": "ipython3",
   "version": "3.10.13"
  }
 },
 "nbformat": 4,
 "nbformat_minor": 5
}
