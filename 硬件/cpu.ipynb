{
 "cells": [
  {
   "cell_type": "markdown",
   "id": "074c9116-ee13-458e-a4d0-7461b19d2050",
   "metadata": {},
   "source": [
    "### AMD"
   ]
  },
  {
   "cell_type": "markdown",
   "id": "94b61eb3-9bba-4799-b4d9-934aeb00d4aa",
   "metadata": {},
   "source": [
    "- 9554 vs. 9654"
   ]
  }
 ],
 "metadata": {
  "kernelspec": {
   "display_name": "Python 3 (ipykernel)",
   "language": "python",
   "name": "python3"
  },
  "language_info": {
   "codemirror_mode": {
    "name": "ipython",
    "version": 3
   },
   "file_extension": ".py",
   "mimetype": "text/x-python",
   "name": "python",
   "nbconvert_exporter": "python",
   "pygments_lexer": "ipython3",
   "version": "3.10.13"
  }
 },
 "nbformat": 4,
 "nbformat_minor": 5
}
