{
 "cells": [
  {
   "cell_type": "markdown",
   "id": "074c9116-ee13-458e-a4d0-7461b19d2050",
   "metadata": {},
   "source": [
    "### AMD（Advanced Micro Devices）与 Intel"
   ]
  },
  {
   "cell_type": "markdown",
   "id": "94b61eb3-9bba-4799-b4d9-934aeb00d4aa",
   "metadata": {},
   "source": [
    "> 核心和线程；\n",
    "\n",
    "- EPYC（霄龙)：以其高核心数量而闻名；  \n",
    "    - 9554 vs. 9654\n",
    "        - 9554：64核，128线程；\n",
    "        - 9654：96核，192线程；\n",
    "- Intel：Xeon（至强）\n",
    "    - Platinum：8336C，32核，64线程；"
   ]
  }
 ],
 "metadata": {
  "kernelspec": {
   "display_name": "Python 3 (ipykernel)",
   "language": "python",
   "name": "python3"
  },
  "language_info": {
   "codemirror_mode": {
    "name": "ipython",
    "version": 3
   },
   "file_extension": ".py",
   "mimetype": "text/x-python",
   "name": "python",
   "nbconvert_exporter": "python",
   "pygments_lexer": "ipython3",
   "version": "3.10.13"
  }
 },
 "nbformat": 4,
 "nbformat_minor": 5
}
