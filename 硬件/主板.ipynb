{
 "cells": [
  {
   "cell_type": "markdown",
   "id": "01e8f7fa-d0d6-485d-b122-428e0f63b829",
   "metadata": {},
   "source": [
    "- `sudo dmidecode -t baseboard`\n",
    "    - 查看自己的主板型号以及 onboard device"
   ]
  },
  {
   "cell_type": "markdown",
   "id": "ff9dd538-a7a9-4ba3-a0bb-c42049b384b6",
   "metadata": {},
   "source": [
    "## 内存条"
   ]
  },
  {
   "cell_type": "markdown",
   "id": "0673f26d-abd6-4299-b604-a4578c50ef39",
   "metadata": {},
   "source": [
    "- `sudo dmidecode -t memory`\n",
    "- `sudo lshw -short -C memory`\n",
    "    - 查看支持几个内存条及已经安装了几个内存条；"
   ]
  }
 ],
 "metadata": {
  "kernelspec": {
   "display_name": "Python 3 (ipykernel)",
   "language": "python",
   "name": "python3"
  },
  "language_info": {
   "codemirror_mode": {
    "name": "ipython",
    "version": 3
   },
   "file_extension": ".py",
   "mimetype": "text/x-python",
   "name": "python",
   "nbconvert_exporter": "python",
   "pygments_lexer": "ipython3",
   "version": "3.10.13"
  }
 },
 "nbformat": 4,
 "nbformat_minor": 5
}
