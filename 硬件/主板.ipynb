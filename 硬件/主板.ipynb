{
 "cells": [
  {
   "cell_type": "markdown",
   "id": "01e8f7fa-d0d6-485d-b122-428e0f63b829",
   "metadata": {},
   "source": [
    "- `sudo dmidecode -t baseboard`\n",
    "    - 查看自己的主板型号以及 onboard device"
   ]
  },
  {
   "cell_type": "code",
   "execution_count": 1,
   "id": "ea9dfa10-1503-4db2-8d09-97e806a6c138",
   "metadata": {
    "execution": {
     "iopub.execute_input": "2024-07-16T13:15:27.372450Z",
     "iopub.status.busy": "2024-07-16T13:15:27.371888Z",
     "iopub.status.idle": "2024-07-16T13:15:27.382094Z",
     "shell.execute_reply": "2024-07-16T13:15:27.380348Z",
     "shell.execute_reply.started": "2024-07-16T13:15:27.372404Z"
    }
   },
   "outputs": [],
   "source": [
    "from IPython.display import Image"
   ]
  },
  {
   "cell_type": "code",
   "execution_count": 3,
   "id": "4410c6dc-ec93-421f-8cf1-5dee01c72773",
   "metadata": {
    "execution": {
     "iopub.execute_input": "2024-07-16T13:19:39.468185Z",
     "iopub.status.busy": "2024-07-16T13:19:39.467571Z",
     "iopub.status.idle": "2024-07-16T13:19:39.479862Z",
     "shell.execute_reply": "2024-07-16T13:19:39.477747Z",
     "shell.execute_reply.started": "2024-07-16T13:19:39.468139Z"
    }
   },
   "outputs": [
    {
     "data": {
      "text/html": [
       "<img src=\"https://www.supermicro.com/files_SYS/images/Motherboard/X12DPG-QT6.png\" width=\"500\"/>"
      ],
      "text/plain": [
       "<IPython.core.display.Image object>"
      ]
     },
     "execution_count": 3,
     "metadata": {},
     "output_type": "execute_result"
    }
   ],
   "source": [
    "# https://www.supermicro.com/zh_tw/products/motherboard/x12dpg-qt6\n",
    "Image(url='https://www.supermicro.com/files_SYS/images/Motherboard/X12DPG-QT6.png', width=500)"
   ]
  },
  {
   "cell_type": "markdown",
   "id": "92d42505-1d82-4559-a818-c03cc84922e4",
   "metadata": {},
   "source": [
    "- CPU插槽：图中有两个大块区域带有黄色警告标签，这是两个CPU插槽，用于安装服务器级的多核处理器。通常情况下，这种主板支持双路处理器。\n",
    "- 内存插槽：这些蓝色和黑色的长条插槽是内存插槽（DIMM插槽）。这种主板一般支持大量的内存，以满足服务器和数据中心的高性能需求。\n",
    "    - 每个CPU插槽周围有8个内存插槽。\n",
    "- PCIe插槽：图中的多个黑色插槽是PCIe插槽，用于安装扩展卡，如显卡、网卡和存储控制器。\n",
    "    - 1 PCIe 4.0 x8,\n",
    "    - 6 PCIe 4.0 x16\n"
   ]
  },
  {
   "cell_type": "markdown",
   "id": "ff9dd538-a7a9-4ba3-a0bb-c42049b384b6",
   "metadata": {},
   "source": [
    "## 内存条"
   ]
  },
  {
   "cell_type": "markdown",
   "id": "0673f26d-abd6-4299-b604-a4578c50ef39",
   "metadata": {},
   "source": [
    "- `sudo dmidecode -t memory`\n",
    "- `sudo lshw -short -C memory`\n",
    "    - 查看支持几个内存条及已经安装了几个内存条；"
   ]
  }
 ],
 "metadata": {
  "kernelspec": {
   "display_name": "Python 3 (ipykernel)",
   "language": "python",
   "name": "python3"
  },
  "language_info": {
   "codemirror_mode": {
    "name": "ipython",
    "version": 3
   },
   "file_extension": ".py",
   "mimetype": "text/x-python",
   "name": "python",
   "nbconvert_exporter": "python",
   "pygments_lexer": "ipython3",
   "version": "3.10.0"
  }
 },
 "nbformat": 4,
 "nbformat_minor": 5
}
