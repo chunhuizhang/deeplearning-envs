{
 "cells": [
  {
   "cell_type": "markdown",
   "id": "6d575da0-43b8-418b-b889-bb70ee494ace",
   "metadata": {},
   "source": [
    "### 外接键盘"
   ]
  },
  {
   "cell_type": "markdown",
   "id": "a9d38564-a9ec-45dc-961b-d53710605e32",
   "metadata": {},
   "source": [
    "- 连击问题\n",
    "    - 系统设置层面，可以通过降低 `key repeat rate` 和调高 `delay until repeat` 来缓解；"
   ]
  }
 ],
 "metadata": {
  "kernelspec": {
   "display_name": "Python 3 (ipykernel)",
   "language": "python",
   "name": "python3"
  },
  "language_info": {
   "codemirror_mode": {
    "name": "ipython",
    "version": 3
   },
   "file_extension": ".py",
   "mimetype": "text/x-python",
   "name": "python",
   "nbconvert_exporter": "python",
   "pygments_lexer": "ipython3",
   "version": "3.10.13"
  }
 },
 "nbformat": 4,
 "nbformat_minor": 5
}
