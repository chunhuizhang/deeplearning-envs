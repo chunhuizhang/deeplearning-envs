{
 "cells": [
  {
   "cell_type": "markdown",
   "id": "636d0ce3-82b2-4945-80b8-486a4a83cb5b",
   "metadata": {},
   "source": [
    "- 硬指标\n",
    "    - 硬件缓存：128MB/256MB\n",
    "        - 硬盘缓存对写入小文件有加成；\n",
    "    - 硬盘转速\n",
    "        - 7200 rpm/5400 rpm\n",
    "        - SSD 没有机械转速。"
   ]
  },
  {
   "cell_type": "markdown",
   "id": "5b6dc1d1",
   "metadata": {},
   "source": [
    "- 两大评估指标\n",
    "    - 顺序读写（大文件，seq），随机读写（大量的小文件，rnd）\n",
    "- 990pro（2023年10月，4TB），最好加一个散热片"
   ]
  },
  {
   "cell_type": "markdown",
   "id": "ebcd6007-c371-4a21-95f8-96089e046059",
   "metadata": {},
   "source": [
    "### ubuntu 硬盘设备查看"
   ]
  },
  {
   "cell_type": "markdown",
   "id": "a999ead8-7f19-45a2-8923-061dafad6b58",
   "metadata": {},
   "source": [
    "- `lsblk`\n",
    "    - 列出所有块设备的基本信息。\n",
    "    - sda => `/dev/sda`\n",
    "- `sudo smartctl -i /dev/nvme0n1`：固态硬盘\n",
    "    - Samsung SSD 990 PRO 2TB\n",
    "- `sudo smartctl -i /dev/sda`: 机械硬盘\n",
    "    - 品牌：Seagate Exos X16\n",
    "    - Rotation Rate: 7200 rpm"
   ]
  },
  {
   "cell_type": "code",
   "execution_count": 1,
   "id": "c5a472f5-d60e-43f2-a9a0-a79576dec96a",
   "metadata": {
    "execution": {
     "iopub.execute_input": "2024-12-26T12:37:35.635130Z",
     "iopub.status.busy": "2024-12-26T12:37:35.633954Z",
     "iopub.status.idle": "2024-12-26T12:37:35.768498Z",
     "shell.execute_reply": "2024-12-26T12:37:35.766914Z",
     "shell.execute_reply.started": "2024-12-26T12:37:35.635054Z"
    }
   },
   "outputs": [
    {
     "name": "stdout",
     "output_type": "stream",
     "text": [
      "NAME        MAJ:MIN RM   SIZE RO TYPE MOUNTPOINTS\n",
      "loop0         7:0    0     4K  1 loop /snap/bare/5\n",
      "loop1         7:1    0  10.1M  1 loop /snap/canonical-livepatch/282\n",
      "loop2         7:2    0   104M  1 loop /snap/core/16928\n",
      "loop3         7:3    0  10.7M  1 loop /snap/canonical-livepatch/286\n",
      "loop4         7:4    0    64M  1 loop /snap/core20/2379\n",
      "loop5         7:5    0 104.2M  1 loop /snap/core/17200\n",
      "loop6         7:6    0  73.9M  1 loop /snap/core22/1663\n",
      "loop7         7:7    0  63.7M  1 loop /snap/core20/2434\n",
      "loop8         7:8    0  73.9M  1 loop /snap/core22/1722\n",
      "loop9         7:9    0   274M  1 loop /snap/firefox/5361\n",
      "loop10        7:10   0 273.7M  1 loop /snap/firefox/5437\n",
      "loop11        7:11   0 349.7M  1 loop /snap/gnome-3-38-2004/143\n",
      "loop12        7:12   0 504.2M  1 loop /snap/gnome-42-2204/172\n",
      "loop13        7:13   0 349.7M  1 loop /snap/gnome-3-38-2004/140\n",
      "loop14        7:14   0 505.1M  1 loop /snap/gnome-42-2204/176\n",
      "loop15        7:15   0  91.7M  1 loop /snap/gtk-common-themes/1535\n",
      "loop16        7:16   0   1.3M  1 loop /snap/nvtop/116\n",
      "loop17        7:17   0   1.3M  1 loop /snap/nvtop/171\n",
      "loop18        7:18   0  12.9M  1 loop /snap/snap-store/1113\n",
      "loop19        7:19   0  12.2M  1 loop /snap/snap-store/1216\n",
      "loop20        7:20   0  38.8M  1 loop /snap/snapd/21759\n",
      "loop21        7:21   0   564K  1 loop /snap/snapd-desktop-integration/247\n",
      "loop22        7:22   0   568K  1 loop /snap/snapd-desktop-integration/253\n",
      "loop23        7:23   0  44.3M  1 loop /snap/snapd/23258\n",
      "sda           8:0    0  14.6T  0 disk \n",
      "├─sda1        8:1    0    16M  0 part \n",
      "└─sda2        8:2    0  14.6T  0 part /data\n",
      "nvme0n1     259:0    0   1.8T  0 disk \n",
      "├─nvme0n1p1 259:1    0   100M  0 part /boot/efi\n",
      "├─nvme0n1p2 259:2    0    16M  0 part \n",
      "├─nvme0n1p3 259:3    0 937.1G  0 part /media/whaow\n",
      "├─nvme0n1p4 259:4    0   591M  0 part \n",
      "└─nvme0n1p5 259:5    0 925.2G  0 part /var/snap/firefox/common/host-hunspell\n",
      "                                      /\n"
     ]
    }
   ],
   "source": [
    "!lsblk"
   ]
  },
  {
   "cell_type": "code",
   "execution_count": null,
   "id": "26e587de-c621-40b3-b62c-1426d8a209eb",
   "metadata": {},
   "outputs": [],
   "source": []
  }
 ],
 "metadata": {
  "kernelspec": {
   "display_name": "Python 3 (ipykernel)",
   "language": "python",
   "name": "python3"
  },
  "language_info": {
   "codemirror_mode": {
    "name": "ipython",
    "version": 3
   },
   "file_extension": ".py",
   "mimetype": "text/x-python",
   "name": "python",
   "nbconvert_exporter": "python",
   "pygments_lexer": "ipython3",
   "version": "3.10.13"
  },
  "toc": {
   "base_numbering": 1,
   "nav_menu": {},
   "number_sections": true,
   "sideBar": true,
   "skip_h1_title": false,
   "title_cell": "Table of Contents",
   "title_sidebar": "Contents",
   "toc_cell": false,
   "toc_position": {},
   "toc_section_display": true,
   "toc_window_display": false
  }
 },
 "nbformat": 4,
 "nbformat_minor": 5
}
