{
 "cells": [
  {
   "cell_type": "markdown",
   "id": "96df1a75-8e51-4e49-9517-94a5b9c47f25",
   "metadata": {},
   "source": [
    "> torch 版本是跟 cudatoolkit 版本绑定的；\n",
    "\n",
    "- https://pytorch.org/get-started/previous-versions/\n",
    "    - cuda: 12.4\n",
    "        - `conda install pytorch==2.5.0 torchvision==0.20.0 torchaudio==2.5.0 pytorch-cuda=12.4 -c pytorch -c nvidia`\n",
    "- 老版本 torch 安装：https://pytorch.org/get-started/previous-versions/，以 torch=1.7.1 为例\n",
    "    - 可以通过 `conda`安装：`conda install pytorch==1.7.1 torchvision==0.8.2 torchaudio==0.7.2 cudatoolkit=11.0 -c pytorch`\n",
    "    - 也可以通过 `pip` 安装：`pip install torch==1.7.1+cu110 torchvision==0.8.2+cu110 torchaudio==0.7.2 -f https://download.pytorch.org/whl/torch_stable.html`\n",
    "        - 我本人尝试的 pip 安装的 torch 支持 cuda，而 conda 不支持 cuda？\n",
    "- `pip install torch torchvision torchaudio --index-url https://download.pytorch.org/whl/cu121`"
   ]
  },
  {
   "cell_type": "code",
   "execution_count": 1,
   "id": "1f4c7fb9-4725-41c2-a129-9b4050d7244e",
   "metadata": {
    "execution": {
     "iopub.execute_input": "2024-11-30T10:43:10.927302Z",
     "iopub.status.busy": "2024-11-30T10:43:10.926817Z",
     "iopub.status.idle": "2024-11-30T10:43:10.940106Z",
     "shell.execute_reply": "2024-11-30T10:43:10.939194Z",
     "shell.execute_reply.started": "2024-11-30T10:43:10.927282Z"
    },
    "scrolled": true
   },
   "outputs": [
    {
     "name": "stdout",
     "output_type": "stream",
     "text": [
      "PyTorch built with:\n",
      "  - GCC 9.3\n",
      "  - C++ Version: 201703\n",
      "  - Intel(R) oneAPI Math Kernel Library Version 2022.2-Product Build 20220804 for Intel(R) 64 architecture applications\n",
      "  - Intel(R) MKL-DNN v3.4.2 (Git Hash 1137e04ec0b5251ca2b4400a4fd3c667ce843d67)\n",
      "  - OpenMP 201511 (a.k.a. OpenMP 4.5)\n",
      "  - LAPACK is enabled (usually provided by MKL)\n",
      "  - NNPACK is enabled\n",
      "  - CPU capability usage: AVX512\n",
      "  - CUDA Runtime 12.1\n",
      "  - NVCC architecture flags: -gencode;arch=compute_50,code=sm_50;-gencode;arch=compute_60,code=sm_60;-gencode;arch=compute_70,code=sm_70;-gencode;arch=compute_75,code=sm_75;-gencode;arch=compute_80,code=sm_80;-gencode;arch=compute_86,code=sm_86;-gencode;arch=compute_90,code=sm_90\n",
      "  - CuDNN 90.1  (built against CUDA 12.4)\n",
      "  - Magma 2.6.1\n",
      "  - Build settings: BLAS_INFO=mkl, BUILD_TYPE=Release, CUDA_VERSION=12.1, CUDNN_VERSION=9.1.0, CXX_COMPILER=/opt/rh/devtoolset-9/root/usr/bin/c++, CXX_FLAGS= -D_GLIBCXX_USE_CXX11_ABI=0 -fabi-version=11 -fvisibility-inlines-hidden -DUSE_PTHREADPOOL -DNDEBUG -DUSE_KINETO -DLIBKINETO_NOROCTRACER -DUSE_FBGEMM -DUSE_PYTORCH_QNNPACK -DUSE_XNNPACK -DSYMBOLICATE_MOBILE_DEBUG_HANDLE -O2 -fPIC -Wall -Wextra -Werror=return-type -Werror=non-virtual-dtor -Werror=bool-operation -Wnarrowing -Wno-missing-field-initializers -Wno-type-limits -Wno-array-bounds -Wno-unknown-pragmas -Wno-unused-parameter -Wno-unused-function -Wno-unused-result -Wno-strict-overflow -Wno-strict-aliasing -Wno-stringop-overflow -Wsuggest-override -Wno-psabi -Wno-error=pedantic -Wno-error=old-style-cast -Wno-missing-braces -fdiagnostics-color=always -faligned-new -Wno-unused-but-set-variable -Wno-maybe-uninitialized -fno-math-errno -fno-trapping-math -Werror=format -Wno-stringop-overflow, LAPACK_INFO=mkl, PERF_WITH_AVX=1, PERF_WITH_AVX2=1, PERF_WITH_AVX512=1, TORCH_VERSION=2.4.0, USE_CUDA=ON, USE_CUDNN=ON, USE_CUSPARSELT=1, USE_EXCEPTION_PTR=1, USE_GFLAGS=OFF, USE_GLOG=OFF, USE_GLOO=ON, USE_MKL=ON, USE_MKLDNN=ON, USE_MPI=OFF, USE_NCCL=1, USE_NNPACK=ON, USE_OPENMP=ON, USE_ROCM=OFF, USE_ROCM_KERNEL_ASSERT=OFF, \n",
      "\n"
     ]
    }
   ],
   "source": [
    "import torch\n",
    "print(torch.__config__.show())"
   ]
  },
  {
   "cell_type": "markdown",
   "id": "c7e241c3-a733-4b9d-a4d3-84a9d84632cd",
   "metadata": {},
   "source": [
    "### lib 问题"
   ]
  },
  {
   "cell_type": "markdown",
   "id": "94d6a9e4-71da-4cd8-9d75-863849df28c1",
   "metadata": {},
   "source": [
    "- nvjitlink\n",
    "    - `ImportError: /home/whaow/anaconda3/lib/python3.10/site-packages/torch/lib/../../nvidia/cusparse/lib/libcusparse.so.12: undefined symbol: __nvJitLinkComplete_12_4, version libnvJitLink.so.12`"
   ]
  },
  {
   "cell_type": "markdown",
   "id": "13b33a88-c57f-47f5-b093-965be63a596f",
   "metadata": {},
   "source": [
    "```\n",
    "export LD_LIBRARY_PATH=/path/to/venv/lib/python3.10/site-packages/nvidia/nvjitlink/lib:$LD_LIBRARY_PATH\n",
    "```"
   ]
  }
 ],
 "metadata": {
  "kernelspec": {
   "display_name": "Python 3 (ipykernel)",
   "language": "python",
   "name": "python3"
  },
  "language_info": {
   "codemirror_mode": {
    "name": "ipython",
    "version": 3
   },
   "file_extension": ".py",
   "mimetype": "text/x-python",
   "name": "python",
   "nbconvert_exporter": "python",
   "pygments_lexer": "ipython3",
   "version": "3.10.13"
  }
 },
 "nbformat": 4,
 "nbformat_minor": 5
}
