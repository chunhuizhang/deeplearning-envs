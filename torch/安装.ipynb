{
 "cells": [
  {
   "cell_type": "markdown",
   "id": "96df1a75-8e51-4e49-9517-94a5b9c47f25",
   "metadata": {},
   "source": [
    "> torch 版本是跟 cudatoolkit 版本绑定的；\n",
    "\n",
    "- 老版本 torch 安装：https://pytorch.org/get-started/previous-versions/，以 torch=1.7.1 为例\n",
    "    - 可以通过 `conda`安装：`conda install pytorch==1.7.1 torchvision==0.8.2 torchaudio==0.7.2 cudatoolkit=11.0 -c pytorch`\n",
    "    - 也可以通过 `pip` 安装：`pip install torch==1.7.1+cu110 torchvision==0.8.2+cu110 torchaudio==0.7.2 -f https://download.pytorch.org/whl/torch_stable.html`\n",
    "        - 我本人尝试的 pip 安装的 torch 支持 cuda，而 conda 不支持 cuda？"
   ]
  }
 ],
 "metadata": {
  "kernelspec": {
   "display_name": "Python 3 (ipykernel)",
   "language": "python",
   "name": "python3"
  },
  "language_info": {
   "codemirror_mode": {
    "name": "ipython",
    "version": 3
   },
   "file_extension": ".py",
   "mimetype": "text/x-python",
   "name": "python",
   "nbconvert_exporter": "python",
   "pygments_lexer": "ipython3",
   "version": "3.10.13"
  }
 },
 "nbformat": 4,
 "nbformat_minor": 5
}
