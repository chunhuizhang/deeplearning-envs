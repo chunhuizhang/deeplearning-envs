{
 "cells": [
  {
   "cell_type": "markdown",
   "id": "fb3541b7",
   "metadata": {},
   "source": [
    "- 基本概念\n",
    "    - https://ihaoke.vip/vpn-jaron-ssr-v2ray/"
   ]
  },
  {
   "cell_type": "markdown",
   "id": "3602d222",
   "metadata": {},
   "source": [
    "- 终端窗口会话级别\n",
    "\n",
    "    ```\n",
    "    export https_proxy=http://127.0.0.1:7890\n",
    "    export http_proxy=http://127.0.0.1:7890\n",
    "    export all_proxy=socks5://127.0.0.1:7890\n",
    "    ```\n",
    "- 代码层面\n",
    "\n",
    "```\n",
    "import os\n",
    "\n",
    "os.environ['https_proxy'] = http://127.0.0.1:7890\n",
    "os.environ['http_proxy'] = http://127.0.0.1:7890\n",
    "```"
   ]
  },
  {
   "cell_type": "markdown",
   "id": "71174f1f",
   "metadata": {},
   "source": [
    "## Clash"
   ]
  },
  {
   "cell_type": "markdown",
   "id": "7406c53c",
   "metadata": {},
   "source": [
    "- Clash for windows（CFW）\n",
    "    - 注意 port，有时候会因为服务异常终止导致 7890 的端口号被占用，看下是不是变成了 0\n",
    "- Shadowrocket：俗称小火箭，ios app 上也可下载安装（2.99刀）\n",
    "- clash 配置平台\n",
    "    - 加速猫\n",
    "    - wgetcloud：\n",
    "        - https://3jkkvi9afjjln2yjwnbc.wgetcloud.org/user/subscribe\n",
    "        - https://kyp9p97fyfa6juyngbdg.wgetcloud.org/login"
   ]
  },
  {
   "cell_type": "markdown",
   "id": "02eaed76",
   "metadata": {},
   "source": [
    "- https://laomiao.site/2022-%E7%A7%91%E5%AD%A6%E4%B8%8A%E7%BD%91-ubuntu-cfw-%E5%AE%9E%E7%8E%B0%E9%80%8F%E6%98%8E%E4%BB%A3%E7%90%86"
   ]
  },
  {
   "cell_type": "markdown",
   "id": "bda3408c",
   "metadata": {},
   "source": [
    "## 协议"
   ]
  },
  {
   "cell_type": "markdown",
   "id": "5e9f12b4",
   "metadata": {},
   "source": [
    "- Shadowsocks\n",
    "- V2Ray"
   ]
  },
  {
   "cell_type": "markdown",
   "id": "5740d860",
   "metadata": {},
   "source": [
    "## 一些黑话"
   ]
  },
  {
   "cell_type": "markdown",
   "id": "3f5b6f26",
   "metadata": {
    "ExecuteTime": {
     "end_time": "2023-12-19T15:42:04.483420Z",
     "start_time": "2023-12-19T15:42:04.468457Z"
    }
   },
   "source": [
    "- 机场、跑道\n",
    "    - 机场：clash、Shadowrocket\n",
    "    - 跑道：wget，加速猫\n",
    "- 梯子\n",
    "    - lantern"
   ]
  }
 ],
 "metadata": {
  "kernelspec": {
   "display_name": "Python 3 (ipykernel)",
   "language": "python",
   "name": "python3"
  },
  "language_info": {
   "codemirror_mode": {
    "name": "ipython",
    "version": 3
   },
   "file_extension": ".py",
   "mimetype": "text/x-python",
   "name": "python",
   "nbconvert_exporter": "python",
   "pygments_lexer": "ipython3",
   "version": "3.10.13"
  },
  "toc": {
   "base_numbering": 1,
   "nav_menu": {},
   "number_sections": true,
   "sideBar": true,
   "skip_h1_title": false,
   "title_cell": "Table of Contents",
   "title_sidebar": "Contents",
   "toc_cell": false,
   "toc_position": {},
   "toc_section_display": true,
   "toc_window_display": false
  }
 },
 "nbformat": 4,
 "nbformat_minor": 5
}
