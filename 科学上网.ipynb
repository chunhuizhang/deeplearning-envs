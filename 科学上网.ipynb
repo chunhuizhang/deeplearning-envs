{
 "cells": [
  {
   "cell_type": "markdown",
   "id": "fb3541b7",
   "metadata": {},
   "source": [
    "- 基本概念\n",
    "    - https://ihaoke.vip/vpn-jaron-ssr-v2ray/"
   ]
  },
  {
   "cell_type": "markdown",
   "id": "71174f1f",
   "metadata": {},
   "source": [
    "## Clash"
   ]
  },
  {
   "cell_type": "markdown",
   "id": "7406c53c",
   "metadata": {},
   "source": [
    "- Clash for windows（CFW）\n",
    "    - 注意 port，有时候会因为服务异常终止导致 7890 的端口号被占用，看下是不是变成了 0\n",
    "- clash 配置平台\n",
    "    - 加速猫\n",
    "    - wgetcloud：https://3jkkvi9afjjln2yjwnbc.wgetcloud.org/user/subscribe"
   ]
  }
 ],
 "metadata": {
  "kernelspec": {
   "display_name": "Python 3 (ipykernel)",
   "language": "python",
   "name": "python3"
  },
  "language_info": {
   "codemirror_mode": {
    "name": "ipython",
    "version": 3
   },
   "file_extension": ".py",
   "mimetype": "text/x-python",
   "name": "python",
   "nbconvert_exporter": "python",
   "pygments_lexer": "ipython3",
   "version": "3.10.9"
  },
  "toc": {
   "base_numbering": 1,
   "nav_menu": {},
   "number_sections": true,
   "sideBar": true,
   "skip_h1_title": false,
   "title_cell": "Table of Contents",
   "title_sidebar": "Contents",
   "toc_cell": false,
   "toc_position": {},
   "toc_section_display": true,
   "toc_window_display": false
  }
 },
 "nbformat": 4,
 "nbformat_minor": 5
}
