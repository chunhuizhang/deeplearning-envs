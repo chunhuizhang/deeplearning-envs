{
 "cells": [
  {
   "cell_type": "markdown",
   "id": "a4246f29",
   "metadata": {},
   "source": [
    "## basics"
   ]
  },
  {
   "cell_type": "markdown",
   "id": "1e6b6584",
   "metadata": {},
   "source": [
    "- `TrainingArguments` & `Trainer`\n",
    "    - `TrainingArguments`中的 n_gpu 一般是 `self._n_gpu = torch.cuda.device_count()`"
   ]
  },
  {
   "cell_type": "markdown",
   "id": "74d88325",
   "metadata": {},
   "source": [
    "## `os.environ['CUDA_VISIBLE_DEVICES']`"
   ]
  },
  {
   "cell_type": "code",
   "execution_count": 7,
   "id": "972732ea",
   "metadata": {
    "ExecuteTime": {
     "end_time": "2023-08-01T12:50:12.762107Z",
     "start_time": "2023-08-01T12:50:12.757484Z"
    }
   },
   "outputs": [],
   "source": [
    "# 必须置于 import torch 之前\n",
    "# 准确地说在 torch.cuda 的调用之前\n",
    "import os\n",
    "os.environ['CUDA_VISIBLE_DEVICES'] = '0'"
   ]
  },
  {
   "cell_type": "code",
   "execution_count": 5,
   "id": "243bae8b",
   "metadata": {
    "ExecuteTime": {
     "end_time": "2023-08-01T12:42:20.848364Z",
     "start_time": "2023-08-01T12:42:20.842507Z"
    }
   },
   "outputs": [],
   "source": [
    "from device_utils import print_device_info"
   ]
  },
  {
   "cell_type": "code",
   "execution_count": 8,
   "id": "838e952c",
   "metadata": {
    "ExecuteTime": {
     "end_time": "2023-08-01T13:22:04.983045Z",
     "start_time": "2023-08-01T13:22:04.977567Z"
    }
   },
   "outputs": [
    {
     "name": "stdout",
     "output_type": "stream",
     "text": [
      "0 NVIDIA GeForce RTX 4090\n"
     ]
    }
   ],
   "source": [
    "print_device_info()"
   ]
  },
  {
   "cell_type": "markdown",
   "id": "2024f6f6",
   "metadata": {},
   "source": [
    "## 命令行"
   ]
  },
  {
   "cell_type": "code",
   "execution_count": 11,
   "id": "e84f23c0",
   "metadata": {
    "ExecuteTime": {
     "end_time": "2023-08-01T13:23:41.499638Z",
     "start_time": "2023-08-01T13:23:40.069030Z"
    }
   },
   "outputs": [
    {
     "name": "stdout",
     "output_type": "stream",
     "text": [
      "0 NVIDIA GeForce RTX 4090\r\n"
     ]
    }
   ],
   "source": [
    "!CUDA_VISIBLE_DEVICES=0 python device_utils.py"
   ]
  },
  {
   "cell_type": "code",
   "execution_count": 10,
   "id": "e362d88b",
   "metadata": {
    "ExecuteTime": {
     "end_time": "2023-08-01T13:23:33.541055Z",
     "start_time": "2023-08-01T13:23:32.081744Z"
    }
   },
   "outputs": [
    {
     "name": "stdout",
     "output_type": "stream",
     "text": [
      "0 NVIDIA GeForce RTX 4090\r\n",
      "1 NVIDIA GeForce RTX 4090\r\n"
     ]
    }
   ],
   "source": [
    "!CUDA_VISIBLE_DEVICES=0,1 python device_utils.py"
   ]
  },
  {
   "cell_type": "code",
   "execution_count": null,
   "id": "1d0ef6db",
   "metadata": {},
   "outputs": [],
   "source": []
  }
 ],
 "metadata": {
  "kernelspec": {
   "display_name": "Python 3 (ipykernel)",
   "language": "python",
   "name": "python3"
  },
  "language_info": {
   "codemirror_mode": {
    "name": "ipython",
    "version": 3
   },
   "file_extension": ".py",
   "mimetype": "text/x-python",
   "name": "python",
   "nbconvert_exporter": "python",
   "pygments_lexer": "ipython3",
   "version": "3.10.9"
  },
  "toc": {
   "base_numbering": 1,
   "nav_menu": {},
   "number_sections": true,
   "sideBar": true,
   "skip_h1_title": false,
   "title_cell": "Table of Contents",
   "title_sidebar": "Contents",
   "toc_cell": false,
   "toc_position": {},
   "toc_section_display": true,
   "toc_window_display": false
  }
 },
 "nbformat": 4,
 "nbformat_minor": 5
}
