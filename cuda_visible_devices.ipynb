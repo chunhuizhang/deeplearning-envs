{
 "cells": [
  {
   "cell_type": "markdown",
   "id": "884814a2",
   "metadata": {},
   "source": [
    "## basics"
   ]
  },
  {
   "cell_type": "markdown",
   "id": "c04636aa",
   "metadata": {},
   "source": [
    "- `TrainingArguments` & `Trainer`\n",
    "    - `TrainingArguments`中的 `n_gpu` 一般是 `self._n_gpu = torch.cuda.device_count()`"
   ]
  },
  {
   "cell_type": "markdown",
   "id": "f140921c",
   "metadata": {},
   "source": [
    "## `os.environ['CUDA_VISIBLE_DEVICES']`"
   ]
  },
  {
   "cell_type": "code",
   "execution_count": 1,
   "id": "efaf7659",
   "metadata": {
    "ExecuteTime": {
     "end_time": "2023-08-01T13:44:24.313022Z",
     "start_time": "2023-08-01T13:44:24.299140Z"
    }
   },
   "outputs": [],
   "source": [
    "# 必须置于 import torch 之前\n",
    "# 准确地说在 torch.cuda 的调用之前\n",
    "import os\n",
    "os.environ['CUDA_VISIBLE_DEVICES'] = '0'"
   ]
  },
  {
   "cell_type": "code",
   "execution_count": 2,
   "id": "dacbd433",
   "metadata": {
    "ExecuteTime": {
     "end_time": "2023-08-01T13:44:27.041260Z",
     "start_time": "2023-08-01T13:44:25.564157Z"
    }
   },
   "outputs": [],
   "source": [
    "from device_utils import print_device_info"
   ]
  },
  {
   "cell_type": "code",
   "execution_count": 3,
   "id": "5cca1b91",
   "metadata": {
    "ExecuteTime": {
     "end_time": "2023-08-01T13:44:27.813501Z",
     "start_time": "2023-08-01T13:44:27.785106Z"
    }
   },
   "outputs": [
    {
     "name": "stdout",
     "output_type": "stream",
     "text": [
      "0 NVIDIA GeForce RTX 4090\n"
     ]
    }
   ],
   "source": [
    "print_device_info()"
   ]
  },
  {
   "cell_type": "markdown",
   "id": "50b619cf",
   "metadata": {},
   "source": [
    "## 命令行"
   ]
  },
  {
   "cell_type": "code",
   "execution_count": 4,
   "id": "699e54d3",
   "metadata": {
    "ExecuteTime": {
     "end_time": "2023-08-01T13:44:49.386081Z",
     "start_time": "2023-08-01T13:44:47.557239Z"
    }
   },
   "outputs": [
    {
     "name": "stdout",
     "output_type": "stream",
     "text": [
      "0 NVIDIA GeForce RTX 4090\r\n"
     ]
    }
   ],
   "source": [
    "!CUDA_VISIBLE_DEVICES=0 python device_utils.py"
   ]
  },
  {
   "cell_type": "code",
   "execution_count": 5,
   "id": "27e7bd29",
   "metadata": {
    "ExecuteTime": {
     "end_time": "2023-08-01T13:44:52.772663Z",
     "start_time": "2023-08-01T13:44:51.384404Z"
    }
   },
   "outputs": [
    {
     "name": "stdout",
     "output_type": "stream",
     "text": [
      "0 NVIDIA GeForce RTX 4090\r\n",
      "1 NVIDIA GeForce RTX 4090\r\n"
     ]
    }
   ],
   "source": [
    "!CUDA_VISIBLE_DEVICES=0,1 python device_utils.py"
   ]
  },
  {
   "cell_type": "code",
   "execution_count": 1,
   "id": "2216019c",
   "metadata": {
    "ExecuteTime": {
     "end_time": "2023-12-20T14:28:07.842967Z",
     "start_time": "2023-12-20T14:28:06.105056Z"
    }
   },
   "outputs": [
    {
     "name": "stdout",
     "output_type": "stream",
     "text": [
      "(8, 9)\r\n"
     ]
    }
   ],
   "source": [
    "# update 1220\n",
    "!CUDA_VISIBLE_DEVICES=0 python -c 'import torch; print(torch.cuda.get_device_capability())'"
   ]
  },
  {
   "cell_type": "markdown",
   "id": "6b2dfe8a",
   "metadata": {},
   "source": [
    "## vscode"
   ]
  },
  {
   "cell_type": "markdown",
   "id": "5326e056",
   "metadata": {},
   "source": [
    "```\n",
    "     \"env\": {\n",
    "                \"CUDA_VISIBLE_DEVICES\": \"0\"\n",
    "            },\n",
    "```"
   ]
  },
  {
   "cell_type": "markdown",
   "id": "78f0a87e",
   "metadata": {},
   "source": [
    "```\n",
    "{\n",
    "    // Use IntelliSense to learn about possible attributes.\n",
    "    // Hover to view descriptions of existing attributes.\n",
    "    // For more information, visit: https://go.microsoft.com/fwlink/?linkid=830387\n",
    "    \"version\": \"0.2.0\",\n",
    "    \"configurations\": [\n",
    "        {\n",
    "            \"name\": \"Python: Run eval.py\",\n",
    "            \"type\": \"python\",\n",
    "            \"request\": \"launch\",\n",
    "            \"program\": \"${workspaceFolder}/eval.py\",\n",
    "            \"console\": \"integratedTerminal\",\n",
    "            \"env\": {\n",
    "                \"CUDA_VISIBLE_DEVICES\": \"0\"\n",
    "            },\n",
    "            \"args\": [\n",
    "                \"--env\", \"Rope\",\n",
    "                \"--pstep\", \"2\",\n",
    "                \"--g_dim\", \"32\",\n",
    "                \"--len_seq\", \"64\",\n",
    "                \"--I_factor\", \"10\",\n",
    "                \"--fit_type\", \"structured\",\n",
    "                \"--fit_num\", \"8\",\n",
    "                \"--eval_set\", \"demo\"\n",
    "            ]\n",
    "        }\n",
    "    ]\n",
    "}\n",
    "```"
   ]
  }
 ],
 "metadata": {
  "kernelspec": {
   "display_name": "Python 3 (ipykernel)",
   "language": "python",
   "name": "python3"
  },
  "language_info": {
   "codemirror_mode": {
    "name": "ipython",
    "version": 3
   },
   "file_extension": ".py",
   "mimetype": "text/x-python",
   "name": "python",
   "nbconvert_exporter": "python",
   "pygments_lexer": "ipython3",
   "version": "3.10.13"
  },
  "toc": {
   "base_numbering": 1,
   "nav_menu": {},
   "number_sections": true,
   "sideBar": true,
   "skip_h1_title": false,
   "title_cell": "Table of Contents",
   "title_sidebar": "Contents",
   "toc_cell": false,
   "toc_position": {},
   "toc_section_display": true,
   "toc_window_display": false
  }
 },
 "nbformat": 4,
 "nbformat_minor": 5
}
