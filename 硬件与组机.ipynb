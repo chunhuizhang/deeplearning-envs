{
 "cells": [
  {
   "cell_type": "markdown",
   "id": "344ad3ad",
   "metadata": {},
   "source": [
    "## cpu 与内存"
   ]
  },
  {
   "cell_type": "markdown",
   "id": "fcefdb8d",
   "metadata": {},
   "source": [
    "- HBM：high bandwidth memory"
   ]
  },
  {
   "cell_type": "markdown",
   "id": "65b87b9a",
   "metadata": {},
   "source": [
    "## 机箱"
   ]
  },
  {
   "cell_type": "markdown",
   "id": "69ddc04b",
   "metadata": {},
   "source": [
    "- Phanteks（追风者） Enthoo Pro Ⅱ\n"
   ]
  },
  {
   "cell_type": "markdown",
   "id": "0a1a8e3b",
   "metadata": {},
   "source": [
    "## 电源"
   ]
  },
  {
   "cell_type": "markdown",
   "id": "db43b2a0",
   "metadata": {},
   "source": [
    "- 家用转接头\n",
    "    - 10A => 20A ??"
   ]
  },
  {
   "cell_type": "code",
   "execution_count": null,
   "id": "2925598b",
   "metadata": {},
   "outputs": [],
   "source": []
  }
 ],
 "metadata": {
  "kernelspec": {
   "display_name": "Python 3 (ipykernel)",
   "language": "python",
   "name": "python3"
  },
  "language_info": {
   "codemirror_mode": {
    "name": "ipython",
    "version": 3
   },
   "file_extension": ".py",
   "mimetype": "text/x-python",
   "name": "python",
   "nbconvert_exporter": "python",
   "pygments_lexer": "ipython3",
   "version": "3.10.9"
  },
  "toc": {
   "base_numbering": 1,
   "nav_menu": {},
   "number_sections": true,
   "sideBar": true,
   "skip_h1_title": false,
   "title_cell": "Table of Contents",
   "title_sidebar": "Contents",
   "toc_cell": false,
   "toc_position": {},
   "toc_section_display": true,
   "toc_window_display": false
  }
 },
 "nbformat": 4,
 "nbformat_minor": 5
}
