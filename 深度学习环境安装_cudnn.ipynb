{
 "cells": [
  {
   "cell_type": "markdown",
   "id": "2c139751",
   "metadata": {},
   "source": [
    "- 参考\n",
    "    - https://blog.csdn.net/anmin8888/article/details/127910084"
   ]
  },
  {
   "cell_type": "markdown",
   "id": "23c3163f",
   "metadata": {},
   "source": [
    "## cudnn"
   ]
  },
  {
   "cell_type": "markdown",
   "id": "c2e6438d",
   "metadata": {},
   "source": [
    "- https://developer.nvidia.com/rdp/cudnn-download\n",
    "- 安装 https://docs.nvidia.com/deeplearning/cudnn/install-guide/index.html\n",
    "    - 校验\n",
    "\n",
    "```\n",
    "$ cp -r /usr/src/cudnn_samples_v8/ $HOME\n",
    "$ cd  $HOME/cudnn_samples_v8/mnistCUDNN\n",
    "$ make clean && make\n",
    "$ ./mnistCUDNN\n",
    "```\n",
    "\n",
    "- 头文件地址：\n",
    "    - `/usr/include/cudnn_version.h`\n",
    "    - `/usr/include/cudnn.h`\n",
    "    - `/usr/include/x86_64-linux-gnu/cudnn.h` ??\n",
    "    - 查询版本\n",
    "        - `cat /usr/include/cudnn_version.h | grep CUDNN_MAJOR -A 2`"
   ]
  }
 ],
 "metadata": {
  "kernelspec": {
   "display_name": "Python 3 (ipykernel)",
   "language": "python",
   "name": "python3"
  },
  "language_info": {
   "codemirror_mode": {
    "name": "ipython",
    "version": 3
   },
   "file_extension": ".py",
   "mimetype": "text/x-python",
   "name": "python",
   "nbconvert_exporter": "python",
   "pygments_lexer": "ipython3",
   "version": "3.10.9"
  },
  "toc": {
   "base_numbering": 1,
   "nav_menu": {},
   "number_sections": true,
   "sideBar": true,
   "skip_h1_title": false,
   "title_cell": "Table of Contents",
   "title_sidebar": "Contents",
   "toc_cell": false,
   "toc_position": {},
   "toc_section_display": true,
   "toc_window_display": false
  }
 },
 "nbformat": 4,
 "nbformat_minor": 5
}
