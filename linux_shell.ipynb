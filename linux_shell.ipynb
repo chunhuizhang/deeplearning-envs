{
 "cells": [
  {
   "cell_type": "markdown",
   "id": "b39ac2cb",
   "metadata": {},
   "source": [
    "## 脚本常用命令"
   ]
  },
  {
   "cell_type": "markdown",
   "id": "c060431a",
   "metadata": {},
   "source": [
    "- `pushd` 与 `popd`\n",
    "    - 目录/路径的压栈、出栈操作\n",
    "    - 可以多次 `pushd` 不同的路径，`pushd` 完了之后会进入到提供的路径"
   ]
  }
 ],
 "metadata": {
  "kernelspec": {
   "display_name": "Python 3 (ipykernel)",
   "language": "python",
   "name": "python3"
  },
  "language_info": {
   "codemirror_mode": {
    "name": "ipython",
    "version": 3
   },
   "file_extension": ".py",
   "mimetype": "text/x-python",
   "name": "python",
   "nbconvert_exporter": "python",
   "pygments_lexer": "ipython3",
   "version": "3.10.9"
  },
  "toc": {
   "base_numbering": 1,
   "nav_menu": {},
   "number_sections": true,
   "sideBar": true,
   "skip_h1_title": false,
   "title_cell": "Table of Contents",
   "title_sidebar": "Contents",
   "toc_cell": false,
   "toc_position": {},
   "toc_section_display": true,
   "toc_window_display": false
  }
 },
 "nbformat": 4,
 "nbformat_minor": 5
}
