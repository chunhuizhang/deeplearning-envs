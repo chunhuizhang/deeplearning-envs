{
 "cells": [
  {
   "cell_type": "markdown",
   "id": "ae2c3234",
   "metadata": {},
   "source": [
    "- 执行写/修改等操作的命令时，如果可以要尽可能先做查看（先读）"
   ]
  },
  {
   "cell_type": "markdown",
   "id": "cba582c4",
   "metadata": {},
   "source": [
    "## 基本信息查看"
   ]
  },
  {
   "cell_type": "markdown",
   "id": "f456bcfd",
   "metadata": {},
   "source": [
    "- `uname -s`\n",
    "    - ubuntu: `Linux`\n",
    "    - macos: `Darwin`\n",
    "- `uname -m`\n",
    "    - ubuntu: `x86_64`\n",
    "    - macos: `x86_64`\n",
    "\n",
    "- 关于 `x86_64` \n",
    "    - 是 Intel architecture，而 `aarch64` 是 ARM architecture."
   ]
  },
  {
   "cell_type": "markdown",
   "id": "123416bd",
   "metadata": {},
   "source": [
    "## 常用命令"
   ]
  },
  {
   "cell_type": "markdown",
   "id": "68c55636",
   "metadata": {},
   "source": [
    "- `ln`\n",
    "    - `ln -s`：软链接(符号链接)\n",
    "    - 不论是硬链接或软链接都不会将原本的档案复制一份，只会占用非常少量的磁碟空间。\n",
    "        - 软链接，以路径的形式存在。类似于Windows操作系统中的快捷方式\n",
    "        - 硬链接：以文件副本的形式存在。但不占用实际空间。\n",
    "            - 不允许给目录创建硬链接\n",
    "- 查询\n",
    "    - 查询命令 `which python`\n",
    "    - 查询文件 `whereis cudnn.h`\n",
    "    - 查询主机名 `hostname`\n",
    "    - 查询用户名 `whoami`\n",
    "- 命令执行\n",
    "    - ctrl + r：匹配历史命令，reverse-i-search\n",
    "        - ctrl + g：退出\n",
    "    - history：查看历史命令\n",
    "        "
   ]
  },
  {
   "cell_type": "markdown",
   "id": "a8fdc38d",
   "metadata": {},
   "source": [
    "## 命令行"
   ]
  },
  {
   "cell_type": "markdown",
   "id": "7c6ec3b3",
   "metadata": {},
   "source": [
    "LINUX SHELL 多个命令一起执行的几种方法（适用于几个命令逐个顺序执行的时候）\n",
    "- 用 `;` 隔开：`cd /home/PyTest/src; python suning.py`\n",
    "- 用 `&&` 隔开：`./stop.sh && ./start.sh`"
   ]
  },
  {
   "cell_type": "markdown",
   "id": "b39ac2cb",
   "metadata": {},
   "source": [
    "## 脚本常用命令"
   ]
  },
  {
   "cell_type": "markdown",
   "id": "c060431a",
   "metadata": {},
   "source": [
    "- `pushd` 与 `popd`\n",
    "    - 目录/路径的压栈、出栈操作\n",
    "    - 可以多次 `pushd` 不同的路径，`pushd` 完了之后会进入到提供的路径"
   ]
  },
  {
   "cell_type": "markdown",
   "id": "ea1f9d67",
   "metadata": {},
   "source": [
    "- 文件描述符（file descriptor）\n",
    "    - File descriptor `1` is the standard output (stdout).\n",
    "    - File descriptor `2` is the standard error (stderr).\n",
    "\n",
    "- At first, `2>1` may look like a good way to redirect stderr to stdout. However, it will actually be interpreted as \"redirect stderr to a file named 1\".\n",
    "\n",
    "- `&` indicates that what follows and precedes is a `file descriptor`, and not a filename. Thus, we use 2>&1. Consider >& to be a redirect merger operator."
   ]
  },
  {
   "cell_type": "markdown",
   "id": "320b47a0",
   "metadata": {},
   "source": [
    "## 实用"
   ]
  },
  {
   "cell_type": "markdown",
   "id": "15c23e2c",
   "metadata": {},
   "source": [
    "- 后台运行\n",
    "\n",
    "```\n",
    "# 日志到 jupyter.log 文件\n",
    "# >> 表示追加（append）\n",
    "jupyter notebook --no-browser --port=8080 > jupyter.log 2>&1 &\n",
    "# nohup 表示no hang up, 就是不挂起, 于是这个命令执行后即使终端退出, 也不会停止运行.\n",
    "nohup jupyter notebook --no-browser --port=8080 > jupyter.log 2>&1 &\n",
    "```"
   ]
  },
  {
   "cell_type": "markdown",
   "id": "4a6d364a",
   "metadata": {},
   "source": [
    "## grep"
   ]
  },
  {
   "cell_type": "markdown",
   "id": "2d66b030",
   "metadata": {},
   "source": [
    "> 日志搜索，定位问题（前提是代码运行过程中，需要打印足够多的运行/debug日志）"
   ]
  },
  {
   "cell_type": "markdown",
   "id": "73271591",
   "metadata": {},
   "source": [
    "- 参数\n",
    "    - `-i`：忽略大小写\n",
    "    - `-n`：显示相对行号\n",
    "    - `-r`：递归子文件下搜索\n",
    "    - `-e`：支持正则\n",
    "    - 上下文\n",
    "        - `-C`：center\n",
    "        - `-B`: below\n",
    "        - `-A`：after"
   ]
  },
  {
   "cell_type": "markdown",
   "id": "6fe1f2d4",
   "metadata": {},
   "source": [
    "## 压缩与解压缩"
   ]
  },
  {
   "cell_type": "markdown",
   "id": "6db4100c",
   "metadata": {},
   "source": [
    "### zip 与 unzip"
   ]
  },
  {
   "cell_type": "markdown",
   "id": "c67cdd02",
   "metadata": {},
   "source": [
    "- `zip -r my_model.zip ./my_model`\n",
    "- `unzip -n text.zip -d /tmp`\n",
    "    - 将压缩文件 text.zip 在指定目录 /tmp 下解压缩（`-d`：directory）\n",
    "    - 如果已有相同的文件存在,要求unzip命令不覆盖原先的文件（`-n`：new overwriting）。\n",
    "        - `-o`：overwrite"
   ]
  }
 ],
 "metadata": {
  "kernelspec": {
   "display_name": "Python 3 (ipykernel)",
   "language": "python",
   "name": "python3"
  },
  "language_info": {
   "codemirror_mode": {
    "name": "ipython",
    "version": 3
   },
   "file_extension": ".py",
   "mimetype": "text/x-python",
   "name": "python",
   "nbconvert_exporter": "python",
   "pygments_lexer": "ipython3",
   "version": "3.10.9"
  },
  "toc": {
   "base_numbering": 1,
   "nav_menu": {},
   "number_sections": true,
   "sideBar": true,
   "skip_h1_title": false,
   "title_cell": "Table of Contents",
   "title_sidebar": "Contents",
   "toc_cell": false,
   "toc_position": {},
   "toc_section_display": true,
   "toc_window_display": false
  }
 },
 "nbformat": 4,
 "nbformat_minor": 5
}
