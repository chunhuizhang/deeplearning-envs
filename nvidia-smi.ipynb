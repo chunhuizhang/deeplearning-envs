{
 "cells": [
  {
   "cell_type": "markdown",
   "id": "97880c4b",
   "metadata": {},
   "source": [
    "!pip install nvidia-ml-py3"
   ]
  },
  {
   "cell_type": "markdown",
   "id": "b56eb90c",
   "metadata": {},
   "source": [
    "## pynvml"
   ]
  },
  {
   "cell_type": "code",
   "execution_count": 1,
   "id": "bbfc58ec",
   "metadata": {
    "ExecuteTime": {
     "end_time": "2023-07-15T11:27:23.800124Z",
     "start_time": "2023-07-15T11:27:23.777283Z"
    }
   },
   "outputs": [],
   "source": [
    "from pynvml import *\n",
    "\n",
    "\n",
    "def print_gpu_utilization():\n",
    "    nvmlInit()\n",
    "    handle = nvmlDeviceGetHandleByIndex(0)\n",
    "    info = nvmlDeviceGetMemoryInfo(handle)\n",
    "    print(f\"GPU memory occupied: {info.used//1024**2} MB.\")\n"
   ]
  },
  {
   "cell_type": "code",
   "execution_count": 2,
   "id": "3bfc7408",
   "metadata": {
    "ExecuteTime": {
     "end_time": "2023-07-15T11:27:26.961914Z",
     "start_time": "2023-07-15T11:27:26.934204Z"
    }
   },
   "outputs": [
    {
     "name": "stdout",
     "output_type": "stream",
     "text": [
      "GPU memory occupied: 352 MB.\n"
     ]
    }
   ],
   "source": [
    "print_gpu_utilization()"
   ]
  }
 ],
 "metadata": {
  "kernelspec": {
   "display_name": "Python 3 (ipykernel)",
   "language": "python",
   "name": "python3"
  },
  "language_info": {
   "codemirror_mode": {
    "name": "ipython",
    "version": 3
   },
   "file_extension": ".py",
   "mimetype": "text/x-python",
   "name": "python",
   "nbconvert_exporter": "python",
   "pygments_lexer": "ipython3",
   "version": "3.10.9"
  },
  "toc": {
   "base_numbering": 1,
   "nav_menu": {},
   "number_sections": true,
   "sideBar": true,
   "skip_h1_title": false,
   "title_cell": "Table of Contents",
   "title_sidebar": "Contents",
   "toc_cell": false,
   "toc_position": {},
   "toc_section_display": true,
   "toc_window_display": false
  }
 },
 "nbformat": 4,
 "nbformat_minor": 5
}
