{
 "cells": [
  {
   "cell_type": "markdown",
   "id": "97880c4b",
   "metadata": {},
   "source": [
    "!pip install nvidia-ml-py3"
   ]
  },
  {
   "cell_type": "markdown",
   "id": "b56eb90c",
   "metadata": {},
   "source": [
    "## pynvml"
   ]
  },
  {
   "cell_type": "code",
   "execution_count": 1,
   "id": "bbfc58ec",
   "metadata": {
    "ExecuteTime": {
     "end_time": "2023-07-15T11:27:23.800124Z",
     "start_time": "2023-07-15T11:27:23.777283Z"
    }
   },
   "outputs": [],
   "source": [
    "from pynvml import *\n",
    "\n",
    "\n",
    "def print_gpu_utilization():\n",
    "    nvmlInit()\n",
    "    handle = nvmlDeviceGetHandleByIndex(0)\n",
    "    info = nvmlDeviceGetMemoryInfo(handle)\n",
    "    print(f\"GPU memory occupied: {info.used//1024**2} MB.\")\n"
   ]
  },
  {
   "cell_type": "code",
   "execution_count": 4,
   "id": "3bfc7408",
   "metadata": {
    "ExecuteTime": {
     "end_time": "2023-07-15T11:36:56.568743Z",
     "start_time": "2023-07-15T11:36:56.563747Z"
    }
   },
   "outputs": [
    {
     "name": "stdout",
     "output_type": "stream",
     "text": [
      "GPU memory occupied: 2663 MB.\n"
     ]
    }
   ],
   "source": [
    "# 初始状况下的 base 显存占用\n",
    "print_gpu_utilization()"
   ]
  },
  {
   "cell_type": "code",
   "execution_count": 5,
   "id": "4ca0f5c4",
   "metadata": {
    "ExecuteTime": {
     "end_time": "2023-07-15T11:37:36.925692Z",
     "start_time": "2023-07-15T11:37:36.912218Z"
    }
   },
   "outputs": [
    {
     "name": "stdout",
     "output_type": "stream",
     "text": [
      "GPU memory occupied: 2663 MB.\n"
     ]
    }
   ],
   "source": [
    "import torch\n",
    "# 此时 kernels 也会被 loaded\n",
    "torch.ones((1, 1)).to(\"cuda\")\n",
    "print_gpu_utilization()"
   ]
  }
 ],
 "metadata": {
  "kernelspec": {
   "display_name": "Python 3 (ipykernel)",
   "language": "python",
   "name": "python3"
  },
  "language_info": {
   "codemirror_mode": {
    "name": "ipython",
    "version": 3
   },
   "file_extension": ".py",
   "mimetype": "text/x-python",
   "name": "python",
   "nbconvert_exporter": "python",
   "pygments_lexer": "ipython3",
   "version": "3.10.9"
  },
  "toc": {
   "base_numbering": 1,
   "nav_menu": {},
   "number_sections": true,
   "sideBar": true,
   "skip_h1_title": false,
   "title_cell": "Table of Contents",
   "title_sidebar": "Contents",
   "toc_cell": false,
   "toc_position": {},
   "toc_section_display": true,
   "toc_window_display": false
  }
 },
 "nbformat": 4,
 "nbformat_minor": 5
}
