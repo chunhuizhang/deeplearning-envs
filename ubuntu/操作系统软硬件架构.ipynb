{
 "cells": [
  {
   "cell_type": "markdown",
   "id": "c40612fb",
   "metadata": {},
   "source": [
    "## x86、arm"
   ]
  },
  {
   "cell_type": "markdown",
   "id": "1fdbca31",
   "metadata": {},
   "source": [
    "- 都是 cpu 处理架构\n",
    "- 设计目标不同\n",
    "    - x86 架构：个人计算机，服务器的通用计算设备；\n",
    "        - intel/amd\n",
    "    - arm 架构：低功耗嵌入式系统或者移动设备（手机）；\n",
    "        - 注重的是能效，低成本和集成度高；\n",
    "- 处理器的复杂性\n",
    "    - x86：设计复杂，更多的指令集，支持更广泛的操作和功能；\n",
    "        - 也能更好地适应计算密集型任务，比如 hpc；\n",
    "    - arm：精简指令集，\n",
    "- 生态系统与软件支持\n",
    "    - x86架构：拥有成熟广泛的生态系统和软件支持\n",
    "        - os：windows/linux\n",
    "\n",
    "- 两者其实也在互相渗透\n",
    "    - 苹果的 m1/m2 芯片，也都是 arm 架构；"
   ]
  }
 ],
 "metadata": {
  "kernelspec": {
   "display_name": "Python 3 (ipykernel)",
   "language": "python",
   "name": "python3"
  },
  "language_info": {
   "codemirror_mode": {
    "name": "ipython",
    "version": 3
   },
   "file_extension": ".py",
   "mimetype": "text/x-python",
   "name": "python",
   "nbconvert_exporter": "python",
   "pygments_lexer": "ipython3",
   "version": "3.10.13"
  },
  "toc": {
   "base_numbering": 1,
   "nav_menu": {},
   "number_sections": true,
   "sideBar": true,
   "skip_h1_title": false,
   "title_cell": "Table of Contents",
   "title_sidebar": "Contents",
   "toc_cell": false,
   "toc_position": {},
   "toc_section_display": true,
   "toc_window_display": false
  }
 },
 "nbformat": 4,
 "nbformat_minor": 5
}
