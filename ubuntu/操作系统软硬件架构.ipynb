{
 "cells": [
  {
   "cell_type": "code",
   "execution_count": 6,
   "id": "ee5b72a2",
   "metadata": {
    "ExecuteTime": {
     "end_time": "2024-01-28T12:18:46.034896Z",
     "start_time": "2024-01-28T12:18:45.914981Z"
    }
   },
   "outputs": [
    {
     "name": "stdout",
     "output_type": "stream",
     "text": [
      "Linux version 6.5.0-14-generic (buildd@lcy02-amd64-110) (x86_64-linux-gnu-gcc-12 (Ubuntu 12.3.0-1ubuntu1~22.04) 12.3.0, GNU ld (GNU Binutils for Ubuntu) 2.38) #14~22.04.1-Ubuntu SMP PREEMPT_DYNAMIC Mon Nov 20 18:15:30 UTC 2\r\n"
     ]
    }
   ],
   "source": [
    "# amd64 => x64\n",
    "!cat /proc/version"
   ]
  },
  {
   "cell_type": "code",
   "execution_count": 4,
   "id": "2a7e6ede",
   "metadata": {
    "ExecuteTime": {
     "end_time": "2024-01-28T12:17:11.369105Z",
     "start_time": "2024-01-28T12:17:11.179426Z"
    }
   },
   "outputs": [
    {
     "name": "stdout",
     "output_type": "stream",
     "text": [
      "No LSB modules are available.\r\n",
      "Distributor ID:\tUbuntu\r\n",
      "Description:\tUbuntu 22.04.3 LTS\r\n",
      "Release:\t22.04\r\n",
      "Codename:\tjammy\r\n"
     ]
    }
   ],
   "source": [
    "!lsb_release -a"
   ]
  },
  {
   "cell_type": "code",
   "execution_count": 7,
   "id": "64ad4042",
   "metadata": {
    "ExecuteTime": {
     "end_time": "2024-01-28T12:19:10.672999Z",
     "start_time": "2024-01-28T12:19:10.548296Z"
    }
   },
   "outputs": [
    {
     "name": "stdout",
     "output_type": "stream",
     "text": [
      "amd64\r\n"
     ]
    }
   ],
   "source": [
    "!dpkg --print-architecture"
   ]
  },
  {
   "cell_type": "code",
   "execution_count": 8,
   "id": "de879dc7",
   "metadata": {
    "ExecuteTime": {
     "end_time": "2024-01-28T12:19:21.441745Z",
     "start_time": "2024-01-28T12:19:21.299236Z"
    }
   },
   "outputs": [
    {
     "name": "stdout",
     "output_type": "stream",
     "text": [
      "x86_64\r\n"
     ]
    }
   ],
   "source": [
    "!arch"
   ]
  },
  {
   "cell_type": "markdown",
   "id": "c40612fb",
   "metadata": {},
   "source": [
    "## x86、arm"
   ]
  },
  {
   "cell_type": "markdown",
   "id": "1fdbca31",
   "metadata": {},
   "source": [
    "- 都是 cpu 处理架构\n",
    "- 设计目标不同\n",
    "    - x86 架构：个人计算机，服务器的通用计算设备；\n",
    "        - intel/amd\n",
    "    - arm 架构：低功耗嵌入式系统或者移动设备（手机）；\n",
    "        - 注重的是能效，低成本和集成度高；\n",
    "- 处理器的复杂性\n",
    "    - x86：设计复杂，更多的指令集，支持更广泛的操作和功能；\n",
    "        - 也能更好地适应计算密集型任务，比如 hpc；\n",
    "    - arm：精简指令集，\n",
    "- 生态系统与软件支持\n",
    "    - x86架构：拥有成熟广泛的生态系统和软件支持\n",
    "        - os：windows/linux\n",
    "\n",
    "- 两者其实也在互相渗透\n",
    "    - 苹果的 m1/m2 芯片，也都是 arm 架构；"
   ]
  }
 ],
 "metadata": {
  "kernelspec": {
   "display_name": "Python 3 (ipykernel)",
   "language": "python",
   "name": "python3"
  },
  "language_info": {
   "codemirror_mode": {
    "name": "ipython",
    "version": 3
   },
   "file_extension": ".py",
   "mimetype": "text/x-python",
   "name": "python",
   "nbconvert_exporter": "python",
   "pygments_lexer": "ipython3",
   "version": "3.10.13"
  },
  "toc": {
   "base_numbering": 1,
   "nav_menu": {},
   "number_sections": true,
   "sideBar": true,
   "skip_h1_title": false,
   "title_cell": "Table of Contents",
   "title_sidebar": "Contents",
   "toc_cell": false,
   "toc_position": {},
   "toc_section_display": true,
   "toc_window_display": false
  }
 },
 "nbformat": 4,
 "nbformat_minor": 5
}
