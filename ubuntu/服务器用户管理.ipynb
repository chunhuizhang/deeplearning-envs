{
 "cells": [
  {
   "cell_type": "markdown",
   "id": "17ee2fa3",
   "metadata": {},
   "source": [
    "## basics"
   ]
  },
  {
   "cell_type": "markdown",
   "id": "b071c03a",
   "metadata": {},
   "source": [
    "- 硬件共享\n",
    "- 软件隔离"
   ]
  },
  {
   "cell_type": "markdown",
   "id": "4657e492-ddda-4461-8bed-435a398282ed",
   "metadata": {},
   "source": [
    "- `id`：print real and effective user and group IDs\n",
    "    - `id -u`: user id\n",
    "    - `id -g`: group id\n",
    "- `getent group`：查询得到所有的组\n",
    "    - `group_name:x:group_id:user1,user2,...`\n",
    "- `getent passwd`:查询得到所有的用户\n",
    "    - `username:x:UID:GID:full name:home directory:default shell`"
   ]
  }
 ],
 "metadata": {
  "kernelspec": {
   "display_name": "Python 3 (ipykernel)",
   "language": "python",
   "name": "python3"
  },
  "language_info": {
   "codemirror_mode": {
    "name": "ipython",
    "version": 3
   },
   "file_extension": ".py",
   "mimetype": "text/x-python",
   "name": "python",
   "nbconvert_exporter": "python",
   "pygments_lexer": "ipython3",
   "version": "3.10.13"
  },
  "toc": {
   "base_numbering": 1,
   "nav_menu": {},
   "number_sections": true,
   "sideBar": true,
   "skip_h1_title": false,
   "title_cell": "Table of Contents",
   "title_sidebar": "Contents",
   "toc_cell": false,
   "toc_position": {},
   "toc_section_display": true,
   "toc_window_display": false
  }
 },
 "nbformat": 4,
 "nbformat_minor": 5
}
