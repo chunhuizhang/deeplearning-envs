{
 "cells": [
  {
   "cell_type": "markdown",
   "id": "ba00bf24-abcd-414d-9bff-d45e0ecad764",
   "metadata": {},
   "source": [
    "- dstat: \n",
    "    - `sudo apt install dstat`\n",
    "    - cpu wait\n",
    "- 实用\n",
    "    - 排查大文件：`sudo du -h --max-depth=1 / | sort -rh | head -n 15`\n",
    "        - 然后逐级排查：`sudo du -h --max-depth=1 /root/ | sort -rh | head -n 15`"
   ]
  },
  {
   "cell_type": "markdown",
   "id": "9faa4fa4",
   "metadata": {},
   "source": [
    "## du 与 df"
   ]
  },
  {
   "cell_type": "markdown",
   "id": "912c7a4f-01bb-4325-8053-03114271af59",
   "metadata": {
    "editable": true,
    "slideshow": {
     "slide_type": ""
    },
    "tags": []
   },
   "source": [
    "> duf (sudo apt install duf)"
   ]
  },
  {
   "cell_type": "markdown",
   "id": "98d15cf4",
   "metadata": {},
   "source": [
    "- df：检查磁盘空间占用情况（并不能查看某个目录占用的磁盘大小）。\n",
    "- du：显示文件或目录所占的磁盘空间。\n",
    "\n",
    "```\n",
    "df -hl：查看磁盘剩余空间，且可以查看 Mounted on\n",
    "df -h：查看每个根路径的分区大小\n",
    "\n",
    "du -sh [目录名]：返回该目录的大小\n",
    "du -sm [文件夹]：返回该文件夹总M数\n",
    "du -h [目录名]：查看指定文件夹下的所有文件大小（包含子文件夹）\n",
    "du -h --max-depth=1：当前目录下各个子目录的总大小\n",
    "```\n",
    "\n",
    "- `du -h --max-depth=1 | sort -h`：并按大小排序\n",
    "    - `sort -hr`：按大小逆序排序\n",
    "- **`du -sh *`**（常用，经典）\n",
    "    - du：表示 \"disk usage\"（磁盘使用情况），用于查看文件或文件夹的磁盘占用情况。\n",
    "    - -s：表示 \"summary\"（汇总），仅显示每个指定文件或文件夹的总大小，而不会递归显示每个子文件或子文件夹的大小。\n",
    "    - -h：表示 \"human-readable\"（人类可读格式），会将大小以合适的单位（如 KB、MB、GB）显示，而不是直接显示以字节为单位的数字。\n",
    "    - `*`：通配符，表示当前目录下的所有文件和文件夹。* 会将当前目录中的所有内容作为参数传递给 du。"
   ]
  },
  {
   "cell_type": "markdown",
   "id": "077d3b9c",
   "metadata": {},
   "source": [
    "## 挂接双系统下 windows 磁盘"
   ]
  },
  {
   "cell_type": "markdown",
   "id": "b812c967",
   "metadata": {},
   "source": [
    "```\n",
    "$ cd /dev\n",
    "$ sudo fdisk -lu   # 找到对应的 windows 硬盘\n",
    "\n",
    "$ sudo mount /dev/nvme0n1p3 /media/username\n",
    "$ umount /media/username\n",
    "```"
   ]
  },
  {
   "cell_type": "markdown",
   "id": "5dc506fd",
   "metadata": {},
   "source": [
    "## 挂载U盘"
   ]
  },
  {
   "cell_type": "markdown",
   "id": "f5c66d8a",
   "metadata": {
    "ExecuteTime": {
     "end_time": "2024-02-21T13:40:27.630623Z",
     "start_time": "2024-02-21T13:40:27.611542Z"
    }
   },
   "source": [
    "- `lsblk`: list block devices\n",
    "- `sudo mount /dev/sdb1 /mnt/usb`\n",
    "- `sudo umount /mnt/usb`"
   ]
  },
  {
   "cell_type": "markdown",
   "id": "9f08488d",
   "metadata": {},
   "source": [
    "## U盘管理"
   ]
  },
  {
   "cell_type": "markdown",
   "id": "f2fe3ed3",
   "metadata": {},
   "source": [
    "- 查看挂载\n",
    "    - `df -hl`\n",
    "- 查看磁盘信息\n",
    "    - `fdisk -l`\n",
    "- U盘格式化\n",
    "    - `/dev/sdb1`\n",
    "    - 第一步，先解除挂载 `sudo umount /dev/sdb1`\n",
    "    - 格式化\n",
    "    \n",
    "    ```\n",
    "    sudo mkfs.ntfs /dev/sdb1 # 可能需要首先安装 ntfs-3g（`sudo apt-get install ntfs-3g`）\n",
    "    \n",
    "    sudo mkfs.ext4 /dev/sdb1\n",
    "    sudo mkfs.vfat -F 32 /dev/sdb1\n",
    "    ```"
   ]
  }
 ],
 "metadata": {
  "kernelspec": {
   "display_name": "Python 3 (ipykernel)",
   "language": "python",
   "name": "python3"
  },
  "language_info": {
   "codemirror_mode": {
    "name": "ipython",
    "version": 3
   },
   "file_extension": ".py",
   "mimetype": "text/x-python",
   "name": "python",
   "nbconvert_exporter": "python",
   "pygments_lexer": "ipython3",
   "version": "3.10.0"
  },
  "toc": {
   "base_numbering": 1,
   "nav_menu": {},
   "number_sections": true,
   "sideBar": true,
   "skip_h1_title": false,
   "title_cell": "Table of Contents",
   "title_sidebar": "Contents",
   "toc_cell": false,
   "toc_position": {},
   "toc_section_display": true,
   "toc_window_display": false
  }
 },
 "nbformat": 4,
 "nbformat_minor": 5
}
