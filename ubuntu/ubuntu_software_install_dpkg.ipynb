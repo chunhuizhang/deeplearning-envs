{
 "cells": [
  {
   "cell_type": "markdown",
   "id": "a5a6e71f",
   "metadata": {},
   "source": [
    "## dpkg: debian package"
   ]
  },
  {
   "cell_type": "markdown",
   "id": "5bf023c9",
   "metadata": {},
   "source": [
    "- `dpkg` (Debian Package) itself is a low-level tool. \n",
    "- `apt` (Advanced Package Tool), a higher-level tool, is more commonly used than dpkg as it can fetch packages from remote locations and deal with complex package relations, such as dependency resolution."
   ]
  },
  {
   "cell_type": "markdown",
   "id": "7b0dddb2",
   "metadata": {},
   "source": [
    "- `dpkg -i xx.deb`：安装\n",
    "- `dpkg -l`：list\n",
    "- `dpkg -l | grep -i xx`\n",
    "- `dpkg -r xx`：remove"
   ]
  }
 ],
 "metadata": {
  "kernelspec": {
   "display_name": "Python 3 (ipykernel)",
   "language": "python",
   "name": "python3"
  },
  "language_info": {
   "codemirror_mode": {
    "name": "ipython",
    "version": 3
   },
   "file_extension": ".py",
   "mimetype": "text/x-python",
   "name": "python",
   "nbconvert_exporter": "python",
   "pygments_lexer": "ipython3",
   "version": "3.10.13"
  },
  "toc": {
   "base_numbering": 1,
   "nav_menu": {},
   "number_sections": true,
   "sideBar": true,
   "skip_h1_title": false,
   "title_cell": "Table of Contents",
   "title_sidebar": "Contents",
   "toc_cell": false,
   "toc_position": {},
   "toc_section_display": true,
   "toc_window_display": false
  }
 },
 "nbformat": 4,
 "nbformat_minor": 5
}
