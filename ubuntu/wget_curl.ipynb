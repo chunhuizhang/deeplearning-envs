{
 "cells": [
  {
   "cell_type": "markdown",
   "id": "e26828d4",
   "metadata": {},
   "source": [
    "## curl"
   ]
  },
  {
   "cell_type": "markdown",
   "id": "17fb5398",
   "metadata": {},
   "source": [
    "- `curl -L xx.xx.xx -o `\n",
    "    - `-o`：另存为本地路径及文件名；\n",
    "    - `-O`: The -O (uppercase \"o\") option tells curl to save the file with its original filename.\n",
    "- 其他参数\n",
    "    - `-s, --silent`\n",
    "    - `-m, --max-time <seconds>`\n",
    "    - `-I, --head`："
   ]
  },
  {
   "cell_type": "markdown",
   "id": "500d62da-6c88-442b-b9a4-e8cf68e6f8d5",
   "metadata": {},
   "source": [
    "- `-v, -k`\n",
    "\n",
    "    ```\n",
    "    curl -v -k https://www.google.com\n",
    "    \n",
    "    export http_proxy=http://127.0.0.1:7890\n",
    "    export https_proxy=http://127.0.0.1:7890\n",
    "    curl -v -k https://www.google.com\n",
    "    ```"
   ]
  },
  {
   "cell_type": "markdown",
   "id": "1b06ea11",
   "metadata": {},
   "source": [
    "## wget"
   ]
  },
  {
   "cell_type": "markdown",
   "id": "ca45fb04",
   "metadata": {},
   "source": [
    "- 参数\n",
    "    - `-P`：`wget https://karpathy.ai/llama2c/model.bin -P out`\n",
    "        - -P prefix\n",
    "        - `--directory-prefix=prefix`\n",
    "    - `-O filename`：重命名\n",
    "    - `--content-disposition`: \n",
    "        - `wget --content-disposition https://arxiv.org/pdf/2408.00657`\n",
    "        - 自动保存为右键保存时的默认文件名\n",
    "        - `curl -I https://arxiv.org/pdf/2408.00657`"
   ]
  },
  {
   "cell_type": "code",
   "execution_count": 3,
   "id": "0187278f-ecd7-444b-9fd4-9d81795e305c",
   "metadata": {
    "execution": {
     "iopub.execute_input": "2024-12-24T13:44:42.059801Z",
     "iopub.status.busy": "2024-12-24T13:44:42.059143Z",
     "iopub.status.idle": "2024-12-24T13:44:42.604028Z",
     "shell.execute_reply": "2024-12-24T13:44:42.601928Z",
     "shell.execute_reply.started": "2024-12-24T13:44:42.059752Z"
    }
   },
   "outputs": [
    {
     "name": "stdout",
     "output_type": "stream",
     "text": [
      "HTTP/1.1 200 Connection established\n",
      "\n",
      "HTTP/2 200 \n",
      "\u001b[1mcontent-type\u001b[0m: application/pdf\n",
      "\u001b[1metag\u001b[0m: \"sha256:397ae70de5098b29a41982f7ac8997b221c2d2728e3d8ded1b192913d16e8fb2\"\n",
      "\u001b[1mlast-modified\u001b[0m: Tue, 06 Aug 2024 01:11:39 GMT\n",
      "\u001b[1maccess-control-allow-origin\u001b[0m: *\n",
      "\u001b[1mcontent-disposition\u001b[0m: inline; filename=\"2408.00657v2.pdf\"\n",
      "\u001b[1mlink\u001b[0m: <https://arxiv.org/pdf/2408.00657>; rel='canonical'\n",
      "\u001b[1mx-cloud-trace-context\u001b[0m: 8cfa63bafbe5720dc1e56b426365ce66\n",
      "\u001b[1mserver\u001b[0m: Google Frontend\n",
      "\u001b[1mvia\u001b[0m: 1.1 google, 1.1 varnish, 1.1 varnish\n",
      "\u001b[1maccept-ranges\u001b[0m: bytes\n",
      "\u001b[1mdate\u001b[0m: Tue, 24 Dec 2024 13:44:42 GMT\n",
      "\u001b[1mage\u001b[0m: 492199\n",
      "\u001b[1mx-served-by\u001b[0m: cache-lga21958-LGA, cache-nrt-rjtf7700059-NRT\n",
      "\u001b[1mx-cache\u001b[0m: HIT, HIT\n",
      "\u001b[1mx-timer\u001b[0m: S1735047882.432173,VS0,VE4\n",
      "\u001b[1mcontent-length\u001b[0m: 3646500\n",
      "\n"
     ]
    }
   ],
   "source": [
    "# content-disposition: inline; filename=\"2408.00657v2.pdf\"\n",
    "!curl -I https://arxiv.org/pdf/2408.00657"
   ]
  }
 ],
 "metadata": {
  "kernelspec": {
   "display_name": "Python 3 (ipykernel)",
   "language": "python",
   "name": "python3"
  },
  "language_info": {
   "codemirror_mode": {
    "name": "ipython",
    "version": 3
   },
   "file_extension": ".py",
   "mimetype": "text/x-python",
   "name": "python",
   "nbconvert_exporter": "python",
   "pygments_lexer": "ipython3",
   "version": "3.10.13"
  },
  "toc": {
   "base_numbering": 1,
   "nav_menu": {},
   "number_sections": true,
   "sideBar": true,
   "skip_h1_title": false,
   "title_cell": "Table of Contents",
   "title_sidebar": "Contents",
   "toc_cell": false,
   "toc_position": {},
   "toc_section_display": true,
   "toc_window_display": false
  }
 },
 "nbformat": 4,
 "nbformat_minor": 5
}
