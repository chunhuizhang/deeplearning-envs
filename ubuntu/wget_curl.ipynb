{
 "cells": [
  {
   "cell_type": "markdown",
   "id": "e26828d4",
   "metadata": {},
   "source": [
    "## curl"
   ]
  },
  {
   "cell_type": "markdown",
   "id": "17fb5398",
   "metadata": {},
   "source": [
    "- `curl -L xx.xx.xx -o `\n",
    "    - `-o`：另存为本地路径及文件名；\n",
    "    - `-O`: The -O (uppercase \"o\") option tells curl to save the file with its original filename.\n",
    "- 其他参数\n",
    "    - `-s, --silent`\n",
    "    - `-m, --max-time <seconds>`"
   ]
  },
  {
   "cell_type": "markdown",
   "id": "1b06ea11",
   "metadata": {},
   "source": [
    "## wget"
   ]
  },
  {
   "cell_type": "markdown",
   "id": "ca45fb04",
   "metadata": {},
   "source": [
    "- 参数\n",
    "    - `-P`：`wget https://karpathy.ai/llama2c/model.bin -P out`\n",
    "        - -P prefix\n",
    "        - `--directory-prefix=prefix`\n",
    "    - `-O filename`：重命名"
   ]
  }
 ],
 "metadata": {
  "kernelspec": {
   "display_name": "Python 3 (ipykernel)",
   "language": "python",
   "name": "python3"
  },
  "language_info": {
   "codemirror_mode": {
    "name": "ipython",
    "version": 3
   },
   "file_extension": ".py",
   "mimetype": "text/x-python",
   "name": "python",
   "nbconvert_exporter": "python",
   "pygments_lexer": "ipython3",
   "version": "3.10.13"
  },
  "toc": {
   "base_numbering": 1,
   "nav_menu": {},
   "number_sections": true,
   "sideBar": true,
   "skip_h1_title": false,
   "title_cell": "Table of Contents",
   "title_sidebar": "Contents",
   "toc_cell": false,
   "toc_position": {},
   "toc_section_display": true,
   "toc_window_display": false
  }
 },
 "nbformat": 4,
 "nbformat_minor": 5
}
