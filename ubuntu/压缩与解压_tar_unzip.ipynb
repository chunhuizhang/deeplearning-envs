{
 "cells": [
  {
   "cell_type": "markdown",
   "id": "517054dc",
   "metadata": {},
   "source": [
    "## unzip"
   ]
  },
  {
   "cell_type": "markdown",
   "id": "9b3ccf66",
   "metadata": {},
   "source": [
    "- 解压到指定文件夹：`unzip example.zip -d /home/username/destination`\n",
    "- `unzip -l xx.zip`：list，读操作"
   ]
  },
  {
   "cell_type": "markdown",
   "id": "af3c1ceb",
   "metadata": {},
   "source": [
    "## tar"
   ]
  },
  {
   "cell_type": "markdown",
   "id": "af250283",
   "metadata": {},
   "source": [
    "- 解压到指定文件夹：`tar -xzf file.tar.gz -C /path/to/directory`"
   ]
  }
 ],
 "metadata": {
  "kernelspec": {
   "display_name": "Python 3 (ipykernel)",
   "language": "python",
   "name": "python3"
  },
  "language_info": {
   "codemirror_mode": {
    "name": "ipython",
    "version": 3
   },
   "file_extension": ".py",
   "mimetype": "text/x-python",
   "name": "python",
   "nbconvert_exporter": "python",
   "pygments_lexer": "ipython3",
   "version": "3.10.13"
  },
  "toc": {
   "base_numbering": 1,
   "nav_menu": {},
   "number_sections": true,
   "sideBar": true,
   "skip_h1_title": false,
   "title_cell": "Table of Contents",
   "title_sidebar": "Contents",
   "toc_cell": false,
   "toc_position": {},
   "toc_section_display": true,
   "toc_window_display": false
  }
 },
 "nbformat": 4,
 "nbformat_minor": 5
}
