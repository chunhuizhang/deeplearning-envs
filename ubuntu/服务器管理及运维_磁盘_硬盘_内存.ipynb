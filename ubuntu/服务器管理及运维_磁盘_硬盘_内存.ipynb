{
 "cells": [
  {
   "cell_type": "markdown",
   "id": "0bd1562d",
   "metadata": {},
   "source": [
    "## 基本信息"
   ]
  },
  {
   "cell_type": "markdown",
   "id": "9bc092e5",
   "metadata": {},
   "source": [
    "- 服务器 linux 版本\n",
    "    - Ubuntu\n",
    "    - RHEL：Red Hat Enterprise Linux OS\n",
    "- os\n",
    "\n",
    "    ```\n",
    "    $ lsb_release -a\n",
    "    ```\n",
    "\n",
    "- 内存\n",
    "\n",
    "    ```\n",
    "    $ free -h\n",
    "    ```\n",
    "    \n",
    "- CPU\n",
    "\n",
    "    ```\n",
    "    $ lscpu\n",
    "    # Model name:                      Intel(R) Xeon(R) Platinum 8336C CPU @ 2.30GHz\n",
    "    # Core(s) per socket:  32（cpu 核心数）\n",
    "    # CPU(s):                  64（cpu 线程数）\n",
    "    # flag： instructions（指令集，avx2）\n",
    "    ```"
   ]
  },
  {
   "cell_type": "code",
   "execution_count": 1,
   "id": "b0b4c72b",
   "metadata": {
    "ExecuteTime": {
     "end_time": "2024-01-26T13:52:29.556417Z",
     "start_time": "2024-01-26T13:52:29.425231Z"
    }
   },
   "outputs": [
    {
     "name": "stdout",
     "output_type": "stream",
     "text": [
      "Linux whaow 6.5.0-15-generic #15~22.04.1-Ubuntu SMP PREEMPT_DYNAMIC Fri Jan 12 18:54:30 UTC 2 x86_64 x86_64 x86_64 GNU/Linux\r\n"
     ]
    }
   ],
   "source": [
    "!uname -a"
   ]
  },
  {
   "cell_type": "code",
   "execution_count": 5,
   "id": "270aa4da",
   "metadata": {
    "ExecuteTime": {
     "end_time": "2024-01-26T13:52:51.072111Z",
     "start_time": "2024-01-26T13:52:50.953359Z"
    }
   },
   "outputs": [
    {
     "name": "stdout",
     "output_type": "stream",
     "text": [
      "x86_64\r\n"
     ]
    }
   ],
   "source": [
    "# x64\n",
    "!uname -m"
   ]
  },
  {
   "cell_type": "code",
   "execution_count": 7,
   "id": "3216feb7",
   "metadata": {
    "ExecuteTime": {
     "end_time": "2024-01-26T14:00:39.988186Z",
     "start_time": "2024-01-26T14:00:39.865723Z"
    }
   },
   "outputs": [
    {
     "name": "stdout",
     "output_type": "stream",
     "text": [
      "6.5.0-15-generic\r\n"
     ]
    }
   ],
   "source": [
    "# --kernel-release\n",
    "!uname -r"
   ]
  },
  {
   "cell_type": "markdown",
   "id": "b7cef99b",
   "metadata": {},
   "source": [
    "## BMC 管理"
   ]
  },
  {
   "cell_type": "markdown",
   "id": "2836ec71",
   "metadata": {},
   "source": [
    "- https://blog.csdn.net/Neutionwei/article/details/109875556\n",
    "- 基板管理控制器（Baseboard Manager Controller，简称BMC）。\n",
    "- 控制 CPU 风扇转速；"
   ]
  },
  {
   "cell_type": "markdown",
   "id": "341b6de9",
   "metadata": {},
   "source": [
    "## 软件安装"
   ]
  },
  {
   "cell_type": "markdown",
   "id": "e37ae812",
   "metadata": {},
   "source": [
    "- `deb` file\n",
    "    - `dpkg -i xx.deb`"
   ]
  },
  {
   "cell_type": "markdown",
   "id": "b87ecac6",
   "metadata": {},
   "source": [
    "## 内存（memory）"
   ]
  },
  {
   "cell_type": "markdown",
   "id": "2b7fc401",
   "metadata": {},
   "source": [
    "- 内存\n",
    "\n",
    "    ```\n",
    "    $ free -h\n",
    "    ```"
   ]
  },
  {
   "cell_type": "markdown",
   "id": "2dcf26a5",
   "metadata": {},
   "source": [
    "## 磁盘管理"
   ]
  },
  {
   "cell_type": "markdown",
   "id": "712fd61f",
   "metadata": {},
   "source": [
    "### du 与 df"
   ]
  },
  {
   "cell_type": "markdown",
   "id": "e63c4dbb",
   "metadata": {},
   "source": [
    "\n",
    "- df：检查磁盘空间占用情况（并不能查看某个目录占用的磁盘大小）。\n",
    "- du：显示文件或目录所占的磁盘空间。\n",
    "\n",
    "```\n",
    "df -hl：查看磁盘剩余空间，且可以查看 Mounted on\n",
    "df -h：查看每个根路径的分区大小\n",
    "\n",
    "du -sh [目录名]：返回该目录的大小\n",
    "du -sm [文件夹]：返回该文件夹总M数\n",
    "du -h [目录名]：查看指定文件夹下的所有文件大小（包含子文件夹）\n",
    "du -h --max-depth=1\n",
    "```"
   ]
  },
  {
   "cell_type": "markdown",
   "id": "c8994536",
   "metadata": {},
   "source": [
    "### 挂接双系统下 windows 磁盘"
   ]
  },
  {
   "cell_type": "markdown",
   "id": "53784c61",
   "metadata": {},
   "source": [
    "```\n",
    "$ cd /dev\n",
    "$ sudo fdisk -lu   # 找到对应的 windows 硬盘\n",
    "\n",
    "$ sudo mount /dev/nvme0n1p3 /media/username\n",
    "$ umount /media/username\n",
    "```"
   ]
  },
  {
   "cell_type": "markdown",
   "id": "a1a3cbed",
   "metadata": {},
   "source": [
    "### 挂载U盘"
   ]
  },
  {
   "cell_type": "markdown",
   "id": "5f3f3d78",
   "metadata": {},
   "source": [
    "- `lsblk`: list block devices\n",
    "- `sudo mount /dev/sdb1 /mnt/usb`\n",
    "- `sudo umount /mnt/usb`"
   ]
  },
  {
   "cell_type": "markdown",
   "id": "6c529742",
   "metadata": {},
   "source": [
    "### 文件统计"
   ]
  },
  {
   "cell_type": "markdown",
   "id": "6bda4bcd",
   "metadata": {},
   "source": [
    "查看当前目录下的文件数量（不包含子目录中的文件）  \n",
    "`ls -l|grep \"^-\"| wc -l`\n",
    "\n",
    "查看当前目录下的文件数量（包含子目录中的文件） 注意：R，代表子目录  \n",
    "`ls -lR|grep \"^-\"| wc -l`\n",
    "\n",
    "查看当前目录下的文件夹目录个数（不包含子目录中的目录），同上述理，如果需要查看子目录的，加上R  \n",
    "`ls -l|grep \"^d\"| wc -l`\n"
   ]
  },
  {
   "cell_type": "markdown",
   "id": "a5c644b4",
   "metadata": {},
   "source": [
    "### U盘管理"
   ]
  },
  {
   "cell_type": "markdown",
   "id": "e47e687f",
   "metadata": {},
   "source": [
    "- 查看挂载\n",
    "    - `df -hl`\n",
    "- 查看磁盘信息\n",
    "    - `fdisk -l`\n",
    "- U盘格式化\n",
    "    - `/dev/sdb1`\n",
    "    - 第一步，先解除挂载 `sudo umount /dev/sdb1`\n",
    "    - 格式化\n",
    "    \n",
    "    ```\n",
    "    sudo mkfs.ntfs /dev/sdb1 # 可能需要首先安装 ntfs-3g（`sudo apt-get install ntfs-3g`）\n",
    "    \n",
    "    sudo mkfs.ext4 /dev/sdb1\n",
    "    sudo mkfs.vfat -F 32 /dev/sdb1\n",
    "    ```"
   ]
  },
  {
   "cell_type": "markdown",
   "id": "44be4a5f",
   "metadata": {},
   "source": [
    "## 查询负载"
   ]
  },
  {
   "cell_type": "markdown",
   "id": "0418ec2d",
   "metadata": {},
   "source": [
    "- cpu 负载\n",
    "    - top\n",
    "        - 按下数字 `1` 即可查询多核 cpus 的负载 \n",
    "            - running，sleeping，stopped，zombie\n",
    "- 查询 cp/mv 进度\n",
    "    - 安装 progress 工具：`sudo apt-get install progress`\n",
    "    - `progress -w`\n",
    "    - `progress -M -w`: 实时监控"
   ]
  },
  {
   "cell_type": "markdown",
   "id": "cb029200",
   "metadata": {},
   "source": [
    "## 网络及端口"
   ]
  },
  {
   "cell_type": "markdown",
   "id": "ea73d774",
   "metadata": {},
   "source": [
    "## 日志排查（grep）"
   ]
  }
 ],
 "metadata": {
  "kernelspec": {
   "display_name": "Python 3 (ipykernel)",
   "language": "python",
   "name": "python3"
  },
  "language_info": {
   "codemirror_mode": {
    "name": "ipython",
    "version": 3
   },
   "file_extension": ".py",
   "mimetype": "text/x-python",
   "name": "python",
   "nbconvert_exporter": "python",
   "pygments_lexer": "ipython3",
   "version": "3.10.13"
  },
  "toc": {
   "base_numbering": 1,
   "nav_menu": {},
   "number_sections": true,
   "sideBar": true,
   "skip_h1_title": false,
   "title_cell": "Table of Contents",
   "title_sidebar": "Contents",
   "toc_cell": false,
   "toc_position": {},
   "toc_section_display": true,
   "toc_window_display": false
  }
 },
 "nbformat": 4,
 "nbformat_minor": 5
}
