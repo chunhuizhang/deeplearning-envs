{
 "cells": [
  {
   "cell_type": "markdown",
   "id": "ed2a55d7",
   "metadata": {},
   "source": [
    "- 死机：\n",
    "    - 查看系统日志：`cat /var/log/syslog`，记录系统启动和关闭、服务启动和停止等重要事件。 \n",
    "    - /var/log/kern.log: 记录内核事件。"
   ]
  },
  {
   "cell_type": "markdown",
   "id": "0bd1562d",
   "metadata": {},
   "source": [
    "## 基本信息"
   ]
  },
  {
   "cell_type": "markdown",
   "id": "9bc092e5",
   "metadata": {},
   "source": [
    "- 服务器 linux 版本\n",
    "    - Ubuntu\n",
    "    - RHEL：Red Hat Enterprise Linux OS\n",
    "- os\n",
    "\n",
    "    ```\n",
    "    $ lsb_release -a\n",
    "    ```\n",
    "\n",
    "- 内存\n",
    "\n",
    "    ```\n",
    "    $ free -h\n",
    "    ```\n",
    "    \n",
    "- CPU\n",
    "\n",
    "    ```\n",
    "    $ lscpu\n",
    "    # Model name:                      Intel(R) Xeon(R) Platinum 8336C CPU @ 2.30GHz\n",
    "    # Core(s) per socket:  32（cpu 核心数）\n",
    "    # CPU(s):                  64（cpu 线程数）\n",
    "    # flag： instructions（指令集，avx2）\n",
    "    ```"
   ]
  },
  {
   "cell_type": "code",
   "execution_count": 1,
   "id": "b0b4c72b",
   "metadata": {
    "ExecuteTime": {
     "end_time": "2024-01-26T13:52:29.556417Z",
     "start_time": "2024-01-26T13:52:29.425231Z"
    }
   },
   "outputs": [
    {
     "name": "stdout",
     "output_type": "stream",
     "text": [
      "Linux whaow 6.5.0-15-generic #15~22.04.1-Ubuntu SMP PREEMPT_DYNAMIC Fri Jan 12 18:54:30 UTC 2 x86_64 x86_64 x86_64 GNU/Linux\r\n"
     ]
    }
   ],
   "source": [
    "!uname -a"
   ]
  },
  {
   "cell_type": "code",
   "execution_count": 5,
   "id": "270aa4da",
   "metadata": {
    "ExecuteTime": {
     "end_time": "2024-01-26T13:52:51.072111Z",
     "start_time": "2024-01-26T13:52:50.953359Z"
    }
   },
   "outputs": [
    {
     "name": "stdout",
     "output_type": "stream",
     "text": [
      "x86_64\r\n"
     ]
    }
   ],
   "source": [
    "# x64\n",
    "!uname -m"
   ]
  },
  {
   "cell_type": "code",
   "execution_count": 7,
   "id": "3216feb7",
   "metadata": {
    "ExecuteTime": {
     "end_time": "2024-01-26T14:00:39.988186Z",
     "start_time": "2024-01-26T14:00:39.865723Z"
    }
   },
   "outputs": [
    {
     "name": "stdout",
     "output_type": "stream",
     "text": [
      "6.5.0-15-generic\r\n"
     ]
    }
   ],
   "source": [
    "# --kernel-release\n",
    "!uname -r"
   ]
  },
  {
   "cell_type": "markdown",
   "id": "b7cef99b",
   "metadata": {},
   "source": [
    "## BMC 管理"
   ]
  },
  {
   "cell_type": "markdown",
   "id": "2836ec71",
   "metadata": {},
   "source": [
    "- https://blog.csdn.net/Neutionwei/article/details/109875556\n",
    "- 基板管理控制器（Baseboard Manager Controller，简称BMC）。\n",
    "- 控制 CPU 风扇转速；"
   ]
  },
  {
   "cell_type": "markdown",
   "id": "b87ecac6",
   "metadata": {},
   "source": [
    "## 内存（memory）"
   ]
  },
  {
   "cell_type": "markdown",
   "id": "2b7fc401",
   "metadata": {},
   "source": [
    "- 内存\n",
    "\n",
    "    ```\n",
    "    $ free -h\n",
    "    ```"
   ]
  },
  {
   "cell_type": "markdown",
   "id": "6c529742",
   "metadata": {},
   "source": [
    "### 文件统计"
   ]
  },
  {
   "cell_type": "markdown",
   "id": "6bda4bcd",
   "metadata": {},
   "source": [
    "查看当前目录下的文件数量（不包含子目录中的文件）  \n",
    "`ls -l|grep \"^-\"| wc -l`\n",
    "\n",
    "查看当前目录下的文件数量（包含子目录中的文件） 注意：R，代表子目录  \n",
    "`ls -lR|grep \"^-\"| wc -l`\n",
    "\n",
    "查看当前目录下的文件夹目录个数（不包含子目录中的目录），同上述理，如果需要查看子目录的，加上R  \n",
    "`ls -l|grep \"^d\"| wc -l`\n"
   ]
  },
  {
   "cell_type": "markdown",
   "id": "44be4a5f",
   "metadata": {},
   "source": [
    "## 查询负载"
   ]
  },
  {
   "cell_type": "markdown",
   "id": "0418ec2d",
   "metadata": {},
   "source": [
    "- cpu 负载\n",
    "    - top\n",
    "        - 按下数字 `1` 即可查询多核 cpus 的负载 \n",
    "            - running，sleeping，stopped，zombie\n",
    "- 查询 cp/mv 进度\n",
    "    - 安装 progress 工具：`sudo apt-get install progress`\n",
    "    - `progress -w`\n",
    "    - `progress -M -w`: 实时监控"
   ]
  },
  {
   "cell_type": "markdown",
   "id": "cb029200",
   "metadata": {},
   "source": [
    "## 网络及端口"
   ]
  },
  {
   "cell_type": "markdown",
   "id": "ea73d774",
   "metadata": {},
   "source": [
    "## 日志排查（grep）"
   ]
  }
 ],
 "metadata": {
  "kernelspec": {
   "display_name": "Python 3 (ipykernel)",
   "language": "python",
   "name": "python3"
  },
  "language_info": {
   "codemirror_mode": {
    "name": "ipython",
    "version": 3
   },
   "file_extension": ".py",
   "mimetype": "text/x-python",
   "name": "python",
   "nbconvert_exporter": "python",
   "pygments_lexer": "ipython3",
   "version": "3.10.13"
  },
  "toc": {
   "base_numbering": 1,
   "nav_menu": {},
   "number_sections": true,
   "sideBar": true,
   "skip_h1_title": false,
   "title_cell": "Table of Contents",
   "title_sidebar": "Contents",
   "toc_cell": false,
   "toc_position": {},
   "toc_section_display": true,
   "toc_window_display": false
  }
 },
 "nbformat": 4,
 "nbformat_minor": 5
}
