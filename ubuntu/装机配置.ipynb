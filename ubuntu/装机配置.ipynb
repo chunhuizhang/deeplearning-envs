{
 "cells": [
  {
   "cell_type": "markdown",
   "id": "f3220612-155c-4425-9cab-2ede249f98a4",
   "metadata": {
    "editable": true,
    "slideshow": {
     "slide_type": ""
    },
    "tags": []
   },
   "source": [
    "- homebrew install\n",
    "- iterm & zsh\n",
    "    - tmux\n",
    "- anaconda/miniconda\n",
    "    - https://www.anaconda.com/docs/getting-started/miniconda/install#mac-os"
   ]
  }
 ],
 "metadata": {
  "kernelspec": {
   "display_name": "Python 3 (ipykernel)",
   "language": "python",
   "name": "python3"
  },
  "language_info": {
   "codemirror_mode": {
    "name": "ipython",
    "version": 3
   },
   "file_extension": ".py",
   "mimetype": "text/x-python",
   "name": "python",
   "nbconvert_exporter": "python",
   "pygments_lexer": "ipython3",
   "version": "3.10.0"
  }
 },
 "nbformat": 4,
 "nbformat_minor": 5
}
