{
 "cells": [
  {
   "cell_type": "markdown",
   "id": "b65f821e",
   "metadata": {},
   "source": [
    "## 操作系统"
   ]
  },
  {
   "cell_type": "code",
   "execution_count": 1,
   "id": "c00ae163",
   "metadata": {
    "ExecuteTime": {
     "end_time": "2024-02-06T12:26:48.846268Z",
     "start_time": "2024-02-06T12:26:48.691055Z"
    }
   },
   "outputs": [
    {
     "name": "stdout",
     "output_type": "stream",
     "text": [
      "Linux version 6.5.0-14-generic (buildd@lcy02-amd64-110) (x86_64-linux-gnu-gcc-12 (Ubuntu 12.3.0-1ubuntu1~22.04) 12.3.0, GNU ld (GNU Binutils for Ubuntu) 2.38) #14~22.04.1-Ubuntu SMP PREEMPT_DYNAMIC Mon Nov 20 18:15:30 UTC 2\r\n"
     ]
    }
   ],
   "source": [
    "!cat /proc/version"
   ]
  },
  {
   "cell_type": "markdown",
   "id": "567c2ee6",
   "metadata": {},
   "source": [
    "- ubuntu\n",
    "    - Debian-based Linux systems, such as Ubuntu."
   ]
  },
  {
   "cell_type": "markdown",
   "id": "c98e496b",
   "metadata": {},
   "source": [
    "## apt "
   ]
  },
  {
   "cell_type": "markdown",
   "id": "879ad788",
   "metadata": {},
   "source": [
    "- 源\n",
    "    - `cat /etc/apt/sources.list`"
   ]
  },
  {
   "cell_type": "markdown",
   "id": "e9002422",
   "metadata": {},
   "source": [
    "- `apt update`\n",
    "- `apt upgrade`\n",
    "- `apt install -f`\n",
    "    - 包管理器会检查是否有任何包缺失或依赖损坏，并尝试通过下载和安装缺失的依赖来修复它们。这个命令不需要你指定一个包来修复；它会自动检查和修复当前系统上已安装包的问题。\n",
    "    - -f: `--fix-broken`，尝试修复系统上任何有损坏依赖的包；"
   ]
  }
 ],
 "metadata": {
  "kernelspec": {
   "display_name": "Python 3 (ipykernel)",
   "language": "python",
   "name": "python3"
  },
  "language_info": {
   "codemirror_mode": {
    "name": "ipython",
    "version": 3
   },
   "file_extension": ".py",
   "mimetype": "text/x-python",
   "name": "python",
   "nbconvert_exporter": "python",
   "pygments_lexer": "ipython3",
   "version": "3.10.13"
  },
  "toc": {
   "base_numbering": 1,
   "nav_menu": {},
   "number_sections": true,
   "sideBar": true,
   "skip_h1_title": false,
   "title_cell": "Table of Contents",
   "title_sidebar": "Contents",
   "toc_cell": false,
   "toc_position": {},
   "toc_section_display": true,
   "toc_window_display": false
  }
 },
 "nbformat": 4,
 "nbformat_minor": 5
}
