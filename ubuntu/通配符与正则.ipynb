{
 "cells": [
  {
   "cell_type": "markdown",
   "id": "57754ce9-5351-47b2-9d20-fbd9e6b8cc72",
   "metadata": {},
   "source": [
    "### 通配符（wildcard）"
   ]
  },
  {
   "cell_type": "markdown",
   "id": "9faadb8d-e150-497a-98d6-afa424a51793",
   "metadata": {},
   "source": [
    "- 通配符（wildcard）通常用于简单的`文件名匹配`，特别是在命令行中。它的作用是匹配文件系统中的文件或目录。\n",
    "    - *：匹配任意数量的字符（包括零个字符）\n",
    "    - ?：匹配单个字符\n",
    "    - []：匹配括号中的任意单个字符\n",
    "- ls、find"
   ]
  },
  {
   "cell_type": "markdown",
   "id": "4f8ca984-d48d-4cab-81cc-f4e8cfa22478",
   "metadata": {},
   "source": [
    "```\n",
    "file1.txt\n",
    "file2.txt\n",
    "file3.log\n",
    "file4.txt\n",
    "```\n",
    "\n",
    "- `*.txt`：匹配所有以 `.txt` 结尾的文件。\n",
    "- `file?.txt`：匹配文件名为 file 后面跟着一个字符再加 `.txt` 的文件。\n",
    "- `file[1-3].txt`：匹配 file1.txt、file2.txt 和 file3.txt。"
   ]
  },
  {
   "cell_type": "markdown",
   "id": "99964a50-c35f-46ad-bbf7-33fa14cd26d9",
   "metadata": {},
   "source": [
    "### 正则"
   ]
  },
  {
   "cell_type": "markdown",
   "id": "13c5345f-3aba-4224-aa41-08c0095d4daf",
   "metadata": {},
   "source": [
    "正则表达式是一种更复杂和灵活的模式匹配工具，不仅限于文件名，还可以用于**文本搜索、替换**等场景。正则表达式通常用于 grep、sed 等工具中。"
   ]
  }
 ],
 "metadata": {
  "kernelspec": {
   "display_name": "Python 3 (ipykernel)",
   "language": "python",
   "name": "python3"
  },
  "language_info": {
   "codemirror_mode": {
    "name": "ipython",
    "version": 3
   },
   "file_extension": ".py",
   "mimetype": "text/x-python",
   "name": "python",
   "nbconvert_exporter": "python",
   "pygments_lexer": "ipython3",
   "version": "3.10.13"
  }
 },
 "nbformat": 4,
 "nbformat_minor": 5
}
