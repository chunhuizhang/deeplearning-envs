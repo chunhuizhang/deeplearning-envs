{
 "cells": [
  {
   "cell_type": "markdown",
   "id": "bfb4d901-ac79-4c16-b373-e6c4eca3643c",
   "metadata": {},
   "source": [
    "### 后台运行"
   ]
  },
  {
   "cell_type": "markdown",
   "id": "2cbdcc62-8aa8-4913-8937-2c849c48119e",
   "metadata": {},
   "source": [
    "- nohup\n",
    "- tmux：服务挂起\n"
   ]
  }
 ],
 "metadata": {
  "kernelspec": {
   "display_name": "Python 3 (ipykernel)",
   "language": "python",
   "name": "python3"
  },
  "language_info": {
   "codemirror_mode": {
    "name": "ipython",
    "version": 3
   },
   "file_extension": ".py",
   "mimetype": "text/x-python",
   "name": "python",
   "nbconvert_exporter": "python",
   "pygments_lexer": "ipython3",
   "version": "3.10.13"
  }
 },
 "nbformat": 4,
 "nbformat_minor": 5
}
