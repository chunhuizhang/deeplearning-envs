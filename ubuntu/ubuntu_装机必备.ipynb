{
 "cells": [
  {
   "cell_type": "markdown",
   "id": "8a1ae189",
   "metadata": {},
   "source": [
    "- clash for windows"
   ]
  },
  {
   "cell_type": "markdown",
   "id": "dcf4c025",
   "metadata": {},
   "source": [
    "## anaconda python"
   ]
  },
  {
   "cell_type": "markdown",
   "id": "f6f126de",
   "metadata": {},
   "source": [
    "https://docs.anaconda.com/free/anaconda/install/linux/"
   ]
  },
  {
   "cell_type": "markdown",
   "id": "decdaaf9",
   "metadata": {},
   "source": [
    "`sudo apt install libgl1-mesa-glx libegl1-mesa libxrandr2 libxrandr2 libxss1 libxcursor1 libxcomposite1 libasound2 libxi6 libxtst6`"
   ]
  },
  {
   "cell_type": "markdown",
   "id": "70f9a9a4",
   "metadata": {},
   "source": [
    "- `curl -O https://repo.anaconda.com/archive/Anaconda3-<INSTALLER_VERSION>-Linux-x86_64.sh`\n",
    "- `bash ~/Downloads/Anaconda3-<INSTALLER_VERSION>-Linux-x86_64.sh`\n",
    "    - sudo 时会默认安装在 `/root/anacoda3`，否则安装在 `~/anaconda3`\n",
    "    - `conda init`\n",
    "        - `conda config --set auto_activate_base false`\n",
    "        - `conda init --reverse $SHELL`\n",
    "        "
   ]
  },
  {
   "cell_type": "markdown",
   "id": "f4c0ac5e",
   "metadata": {},
   "source": [
    "## zsh"
   ]
  }
 ],
 "metadata": {
  "kernelspec": {
   "display_name": "Python 3 (ipykernel)",
   "language": "python",
   "name": "python3"
  },
  "language_info": {
   "codemirror_mode": {
    "name": "ipython",
    "version": 3
   },
   "file_extension": ".py",
   "mimetype": "text/x-python",
   "name": "python",
   "nbconvert_exporter": "python",
   "pygments_lexer": "ipython3",
   "version": "3.9.13"
  },
  "toc": {
   "base_numbering": 1,
   "nav_menu": {},
   "number_sections": true,
   "sideBar": true,
   "skip_h1_title": false,
   "title_cell": "Table of Contents",
   "title_sidebar": "Contents",
   "toc_cell": false,
   "toc_position": {},
   "toc_section_display": true,
   "toc_window_display": false
  }
 },
 "nbformat": 4,
 "nbformat_minor": 5
}
