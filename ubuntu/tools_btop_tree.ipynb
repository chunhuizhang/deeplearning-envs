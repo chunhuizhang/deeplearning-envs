{
 "cells": [
  {
   "cell_type": "markdown",
   "id": "9d51c433",
   "metadata": {},
   "source": [
    "## monitor"
   ]
  },
  {
   "cell_type": "markdown",
   "id": "0fe854d6",
   "metadata": {},
   "source": [
    "- `btop`\n",
    "    ```\n",
    "    sudo apt install btop\n",
    "    btop\n",
    "    ```\n",
    "    \n",
    "    - 界面\n",
    "        - CPU：所有核心的利用率；\n",
    "        - MEM：内存的使用情况\n",
    "        - NET：download，upload；\n",
    "        - Proc：进程；"
   ]
  },
  {
   "cell_type": "markdown",
   "id": "5f421bfc",
   "metadata": {},
   "source": [
    "## tree"
   ]
  },
  {
   "cell_type": "markdown",
   "id": "fc1db8fc",
   "metadata": {},
   "source": [
    "- 展示树形文件结构\n",
    "    - `tree -d`：只显示目录；"
   ]
  }
 ],
 "metadata": {
  "kernelspec": {
   "display_name": "Python 3 (ipykernel)",
   "language": "python",
   "name": "python3"
  },
  "language_info": {
   "codemirror_mode": {
    "name": "ipython",
    "version": 3
   },
   "file_extension": ".py",
   "mimetype": "text/x-python",
   "name": "python",
   "nbconvert_exporter": "python",
   "pygments_lexer": "ipython3",
   "version": "3.10.13"
  },
  "toc": {
   "base_numbering": 1,
   "nav_menu": {},
   "number_sections": true,
   "sideBar": true,
   "skip_h1_title": false,
   "title_cell": "Table of Contents",
   "title_sidebar": "Contents",
   "toc_cell": false,
   "toc_position": {},
   "toc_section_display": true,
   "toc_window_display": false
  }
 },
 "nbformat": 4,
 "nbformat_minor": 5
}
