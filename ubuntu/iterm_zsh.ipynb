{
 "cells": [
  {
   "cell_type": "markdown",
   "id": "122868bb",
   "metadata": {},
   "source": [
    "- iterm：适用于 mac 终端"
   ]
  },
  {
   "cell_type": "markdown",
   "id": "126708a3",
   "metadata": {},
   "source": [
    "## zsh"
   ]
  },
  {
   "cell_type": "markdown",
   "id": "68ce6d62",
   "metadata": {},
   "source": [
    "### install"
   ]
  },
  {
   "cell_type": "markdown",
   "id": "76f7d680",
   "metadata": {},
   "source": [
    "```\n",
    "$ sudo apt install wget git curl vim -y\n",
    "$ sudo apt install zsh -y\n",
    "\n",
    "# Oh My Zsh\n",
    "$ sh -c \"$(curl -fsSL https://raw.githubusercontent.com/ohmyzsh/ohmyzsh/master/tools/install.sh)\"\n",
    "\n",
    "\n",
    "$ chsh -s $(which zsh)\n",
    "$ zsh\n",
    "\n",
    "$ echo $ZSH_CUSTOM\n",
    "~/.oh-my-zsh/custom\n",
    "```"
   ]
  },
  {
   "cell_type": "markdown",
   "id": "551474ab",
   "metadata": {},
   "source": [
    "### 适配之前的 bashrc"
   ]
  },
  {
   "cell_type": "markdown",
   "id": "e79588e2",
   "metadata": {},
   "source": [
    "- 将之前的 bashrc 中的 `# >>> conda initialize >>> ` 的内容拷贝进 `~/.zshrc`\n",
    "    - `source ~/.zshrc`"
   ]
  },
  {
   "cell_type": "markdown",
   "id": "6003162d",
   "metadata": {},
   "source": [
    "### 下载安装插件"
   ]
  },
  {
   "cell_type": "code",
   "execution_count": null,
   "id": "ded24d7a",
   "metadata": {},
   "outputs": [],
   "source": []
  }
 ],
 "metadata": {
  "kernelspec": {
   "display_name": "Python 3 (ipykernel)",
   "language": "python",
   "name": "python3"
  },
  "language_info": {
   "codemirror_mode": {
    "name": "ipython",
    "version": 3
   },
   "file_extension": ".py",
   "mimetype": "text/x-python",
   "name": "python",
   "nbconvert_exporter": "python",
   "pygments_lexer": "ipython3",
   "version": "3.10.13"
  },
  "toc": {
   "base_numbering": 1,
   "nav_menu": {},
   "number_sections": true,
   "sideBar": true,
   "skip_h1_title": false,
   "title_cell": "Table of Contents",
   "title_sidebar": "Contents",
   "toc_cell": false,
   "toc_position": {},
   "toc_section_display": true,
   "toc_window_display": false
  }
 },
 "nbformat": 4,
 "nbformat_minor": 5
}
