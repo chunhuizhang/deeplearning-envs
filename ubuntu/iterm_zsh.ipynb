{
 "cells": [
  {
   "cell_type": "markdown",
   "id": "122868bb",
   "metadata": {},
   "source": [
    "- iterm：适用于 mac 终端\n",
    "    - 设置透明度：Profiles -> Window (30 比较合适)"
   ]
  },
  {
   "cell_type": "markdown",
   "id": "08d354a8",
   "metadata": {},
   "source": [
    "- 关于 shell\n",
    "    - 查看所有可用 shell：`cat /etc/shells`"
   ]
  },
  {
   "cell_type": "markdown",
   "id": "126708a3",
   "metadata": {},
   "source": [
    "## zsh (Oh My Zsh)"
   ]
  },
  {
   "cell_type": "markdown",
   "id": "68ce6d62",
   "metadata": {},
   "source": [
    "### install"
   ]
  },
  {
   "cell_type": "markdown",
   "id": "76f7d680",
   "metadata": {},
   "source": [
    "```\n",
    "$ sudo apt install wget git curl vim -y\n",
    "$ sudo apt install zsh -y\n",
    "\n",
    "# Oh My Zsh\n",
    "$ sh -c \"$(curl -fsSL https://raw.githubusercontent.com/ohmyzsh/ohmyzsh/master/tools/install.sh)\"\n",
    "\n",
    "\n",
    "$ chsh -s $(which zsh)\n",
    "$ zsh\n",
    "\n",
    "$ echo $ZSH_CUSTOM\n",
    "~/.oh-my-zsh/custom\n",
    "```"
   ]
  },
  {
   "cell_type": "markdown",
   "id": "551474ab",
   "metadata": {},
   "source": [
    "### 适配之前的 bashrc"
   ]
  },
  {
   "cell_type": "markdown",
   "id": "e79588e2",
   "metadata": {},
   "source": [
    "- 将之前的 bashrc 中的 `# >>> conda initialize >>> ` 的内容拷贝进 `~/.zshrc`\n",
    "    - `source ~/.zshrc`"
   ]
  },
  {
   "cell_type": "markdown",
   "id": "6003162d",
   "metadata": {},
   "source": [
    "### 下载安装插件"
   ]
  },
  {
   "cell_type": "markdown",
   "id": "83636f38",
   "metadata": {},
   "source": [
    "https://x.com/eleliayub/status/1867619626605064600\n",
    "\n",
    "- 主题 powerlevel 10k\n",
    "    - `git clone https://github.com/romkatv/powerlevel10k.git $ZSH_CUSTOM/themes/powerlevel10k`\n",
    "- `git clone https://github.com/zsh-users/zsh-autosuggestions ${ZSH_CUSTOM:-~/.oh-my-zsh/custom}/plugins/zsh-autosuggestions`\n",
    "- `git clone https://github.com/agkozak/zsh-z $ZSH_CUSTOM/plugins/zsh-z`\n",
    "    - 允许您快速跳转到您经常或最近访问过的目录——但通常是两者的组合\n",
    "- `git clone https://github.com/zsh-users/zsh-syntax-highlighting.git $ZSH_CUSTOM/plugins/zsh-syntax-highlighting`\n",
    "\n",
    "```\n",
    "https://github.com/hlissner/zsh-autopair\n",
    "https://github.com/zsh-users/zsh-syntax-highlighting\n",
    "https://github.com/zsh-users/zsh-autosuggestions\n",
    "```"
   ]
  },
  {
   "cell_type": "markdown",
   "id": "d4192127",
   "metadata": {},
   "source": [
    "- 修改 `~/.zshrc` 已生效\n",
    "    - `ZSH_THEME=\"powerlevel10k/powerlevel10k\"`\n",
    "    - `plugins=(git zsh-autosuggestions zsh-syntax-highlighting zsh-z)`"
   ]
  },
  {
   "cell_type": "markdown",
   "id": "dd96e042",
   "metadata": {},
   "source": [
    "- 配置 powerlevel10k\n",
    "    - `p10k configure`"
   ]
  }
 ],
 "metadata": {
  "kernelspec": {
   "display_name": "Python 3 (ipykernel)",
   "language": "python",
   "name": "python3"
  },
  "language_info": {
   "codemirror_mode": {
    "name": "ipython",
    "version": 3
   },
   "file_extension": ".py",
   "mimetype": "text/x-python",
   "name": "python",
   "nbconvert_exporter": "python",
   "pygments_lexer": "ipython3",
   "version": "3.10.0"
  },
  "toc": {
   "base_numbering": 1,
   "nav_menu": {},
   "number_sections": true,
   "sideBar": true,
   "skip_h1_title": false,
   "title_cell": "Table of Contents",
   "title_sidebar": "Contents",
   "toc_cell": false,
   "toc_position": {},
   "toc_section_display": true,
   "toc_window_display": false
  }
 },
 "nbformat": 4,
 "nbformat_minor": 5
}
