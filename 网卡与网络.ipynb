{
 "cells": [
  {
   "cell_type": "markdown",
   "id": "e34c1f2e",
   "metadata": {},
   "source": [
    "## 服务器端常见的 3 种网卡"
   ]
  },
  {
   "cell_type": "markdown",
   "id": "81585739",
   "metadata": {},
   "source": [
    "- IB：Infinite Band"
   ]
  },
  {
   "cell_type": "markdown",
   "id": "53170ca1",
   "metadata": {},
   "source": [
    "## bascis"
   ]
  },
  {
   "cell_type": "markdown",
   "id": "513e13f9",
   "metadata": {},
   "source": [
    "- `ping`\n",
    "    - ping github.com, if ping failed. it is DNS error.\n",
    "- `dns`"
   ]
  },
  {
   "cell_type": "markdown",
   "id": "d0d7391c",
   "metadata": {},
   "source": [
    "## 监听ip与端口号"
   ]
  },
  {
   "cell_type": "markdown",
   "id": "55024599",
   "metadata": {},
   "source": [
    "- 除了把 jupyter notebook 的后台服务启起来，每启动一个具体的 notebook，都会占用一个 port（以及会启动一个 pid）；"
   ]
  },
  {
   "cell_type": "markdown",
   "id": "2562e047",
   "metadata": {},
   "source": [
    "```\n",
    "$ netstat -tulpn\n",
    "# listen 表示监听，最后一列为 PIP/Program name\n",
    "$ netstat -tulpn | grep LISTEN\n",
    "```"
   ]
  },
  {
   "cell_type": "markdown",
   "id": "568bb62d",
   "metadata": {},
   "source": [
    "## 端口转发（forward）"
   ]
  }
 ],
 "metadata": {
  "kernelspec": {
   "display_name": "Python 3 (ipykernel)",
   "language": "python",
   "name": "python3"
  },
  "language_info": {
   "codemirror_mode": {
    "name": "ipython",
    "version": 3
   },
   "file_extension": ".py",
   "mimetype": "text/x-python",
   "name": "python",
   "nbconvert_exporter": "python",
   "pygments_lexer": "ipython3",
   "version": "3.10.9"
  },
  "toc": {
   "base_numbering": 1,
   "nav_menu": {},
   "number_sections": true,
   "sideBar": true,
   "skip_h1_title": false,
   "title_cell": "Table of Contents",
   "title_sidebar": "Contents",
   "toc_cell": false,
   "toc_position": {},
   "toc_section_display": true,
   "toc_window_display": false
  }
 },
 "nbformat": 4,
 "nbformat_minor": 5
}
