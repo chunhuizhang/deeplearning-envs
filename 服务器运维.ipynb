{
 "cells": [
  {
   "cell_type": "markdown",
   "id": "0bd1562d",
   "metadata": {},
   "source": [
    "## 基本信息"
   ]
  },
  {
   "cell_type": "markdown",
   "id": "9bc092e5",
   "metadata": {},
   "source": [
    "- os\n",
    "\n",
    "    ```\n",
    "    $ lsb_release -a\n",
    "    ```\n",
    "\n",
    "- 内存\n",
    "\n",
    "    ```\n",
    "    $ free -h\n",
    "    ```\n",
    "    \n",
    "- CPU\n",
    "\n",
    "    ```\n",
    "    $ lscpu\n",
    "    # Model name:                      Intel(R) Xeon(R) Platinum 8336C CPU @ 2.30GHz\n",
    "    # Core(s) per socket:  32（cpu 核心数）\n",
    "    # CPU(s):                  64（cpu 线程数）\n",
    "    # flag： instructions（指令集，avx2）\n",
    "    ```"
   ]
  },
  {
   "cell_type": "markdown",
   "id": "2dcf26a5",
   "metadata": {},
   "source": [
    "## 磁盘管理"
   ]
  },
  {
   "cell_type": "markdown",
   "id": "712fd61f",
   "metadata": {},
   "source": [
    "### du 与 df"
   ]
  },
  {
   "cell_type": "markdown",
   "id": "e63c4dbb",
   "metadata": {},
   "source": [
    "\n",
    "- df：检查磁盘空间占用情况（并不能查看某个目录占用的磁盘大小）。\n",
    "- du：显示文件或目录所占的磁盘空间。\n",
    "\n",
    "```\n",
    "df -hl：查看磁盘剩余空间，且可以查看 Mounted on\n",
    "df -h：查看每个根路径的分区大小\n",
    "\n",
    "du -sh [目录名]：返回该目录的大小\n",
    "du -sm [文件夹]：返回该文件夹总M数\n",
    "du -h [目录名]：查看指定文件夹下的所有文件大小（包含子文件夹）\n",
    "du -h --max-depth=1\n",
    "```"
   ]
  },
  {
   "cell_type": "markdown",
   "id": "c8994536",
   "metadata": {},
   "source": [
    "### 挂接双系统下 windows 磁盘"
   ]
  },
  {
   "cell_type": "markdown",
   "id": "53784c61",
   "metadata": {},
   "source": [
    "```\n",
    "$ cd /dev\n",
    "$ sudo fdisk -lu   # 找到对应的 windows 硬盘\n",
    "\n",
    "$ sudo mount /dev/nvme0n1p3 /media/username\n",
    "$ umount /mediat/username\n",
    "```"
   ]
  },
  {
   "cell_type": "markdown",
   "id": "6c529742",
   "metadata": {},
   "source": [
    "### 文件统计"
   ]
  },
  {
   "cell_type": "markdown",
   "id": "6bda4bcd",
   "metadata": {},
   "source": [
    "查看当前目录下的文件数量（不包含子目录中的文件）  \n",
    "`ls -l|grep \"^-\"| wc -l`\n",
    "\n",
    "查看当前目录下的文件数量（包含子目录中的文件） 注意：R，代表子目录  \n",
    "`ls -lR|grep \"^-\"| wc -l`\n",
    "\n",
    "查看当前目录下的文件夹目录个数（不包含子目录中的目录），同上述理，如果需要查看子目录的，加上R  \n",
    "`ls -l|grep \"^d\"| wc -l`\n"
   ]
  },
  {
   "cell_type": "markdown",
   "id": "a5c644b4",
   "metadata": {},
   "source": [
    "### U盘管理"
   ]
  },
  {
   "cell_type": "markdown",
   "id": "e47e687f",
   "metadata": {},
   "source": [
    "- 查看挂载\n",
    "    - `df -hl`\n",
    "- 查看磁盘信息\n",
    "    - `fdisk -l`\n",
    "- U盘格式化\n",
    "    - `/dev/sdb1`\n",
    "    - 第一步，先解除挂载 `sudo umount /dev/sdb1`\n",
    "    - 格式化\n",
    "    \n",
    "    ```\n",
    "    sudo mkfs.ntfs /dev/sdb1 # 可能需要首先安装 ntfs-3g（`sudo apt-get install ntfs-3g`）\n",
    "    \n",
    "    sudo mkfs.ext4 /dev/sdb1\n",
    "    sudo mkfs.vfat -F 32 /dev/sdb1\n",
    "    ```"
   ]
  },
  {
   "cell_type": "markdown",
   "id": "44be4a5f",
   "metadata": {},
   "source": [
    "## 查询负载"
   ]
  },
  {
   "cell_type": "markdown",
   "id": "0418ec2d",
   "metadata": {},
   "source": [
    "- cpu 负载\n",
    "    - top\n",
    "        - 按下数字 `1` 即可查询多核 cpus 的负载 \n",
    "            - running，sleeping，stopped，zombie"
   ]
  },
  {
   "cell_type": "markdown",
   "id": "cb029200",
   "metadata": {},
   "source": [
    "## 网络及端口"
   ]
  },
  {
   "cell_type": "markdown",
   "id": "ea73d774",
   "metadata": {},
   "source": [
    "## 日志排查（grep）"
   ]
  }
 ],
 "metadata": {
  "kernelspec": {
   "display_name": "Python 3 (ipykernel)",
   "language": "python",
   "name": "python3"
  },
  "language_info": {
   "codemirror_mode": {
    "name": "ipython",
    "version": 3
   },
   "file_extension": ".py",
   "mimetype": "text/x-python",
   "name": "python",
   "nbconvert_exporter": "python",
   "pygments_lexer": "ipython3",
   "version": "3.10.9"
  },
  "toc": {
   "base_numbering": 1,
   "nav_menu": {},
   "number_sections": true,
   "sideBar": true,
   "skip_h1_title": false,
   "title_cell": "Table of Contents",
   "title_sidebar": "Contents",
   "toc_cell": false,
   "toc_position": {},
   "toc_section_display": true,
   "toc_window_display": false
  }
 },
 "nbformat": 4,
 "nbformat_minor": 5
}
