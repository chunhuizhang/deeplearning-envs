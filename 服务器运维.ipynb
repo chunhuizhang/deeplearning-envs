{
 "cells": [
  {
   "cell_type": "markdown",
   "id": "0bd1562d",
   "metadata": {},
   "source": [
    "## 基本信息"
   ]
  },
  {
   "cell_type": "markdown",
   "id": "9bc092e5",
   "metadata": {},
   "source": [
    "- os\n",
    "\n",
    "    ```\n",
    "    $ lsb_release -a\n",
    "    ```\n",
    "\n",
    "- 内存\n",
    "\n",
    "    ```\n",
    "    $ free -h\n",
    "    ```\n",
    "    \n",
    "- CPU\n",
    "\n",
    "    ```\n",
    "    $ lscpu\n",
    "    # Model name:                      Intel(R) Xeon(R) Platinum 8336C CPU @ 2.30GHz\n",
    "    # Core(s) per socket:  32（cpu 核心数）\n",
    "    # CPU(s):                  64（cpu 线程数）\n",
    "    ```"
   ]
  },
  {
   "cell_type": "markdown",
   "id": "2dcf26a5",
   "metadata": {},
   "source": [
    "## 磁盘管理"
   ]
  },
  {
   "cell_type": "markdown",
   "id": "712fd61f",
   "metadata": {},
   "source": [
    "### du"
   ]
  },
  {
   "cell_type": "markdown",
   "id": "e63c4dbb",
   "metadata": {},
   "source": [
    "```\n",
    "$ du -sh\n",
    "$ du -s --max-depth=1\n",
    "```"
   ]
  },
  {
   "cell_type": "markdown",
   "id": "cb029200",
   "metadata": {},
   "source": [
    "## 网络及端口"
   ]
  },
  {
   "cell_type": "markdown",
   "id": "ea73d774",
   "metadata": {},
   "source": [
    "## 日志排查（grep）"
   ]
  }
 ],
 "metadata": {
  "kernelspec": {
   "display_name": "Python 3 (ipykernel)",
   "language": "python",
   "name": "python3"
  },
  "language_info": {
   "codemirror_mode": {
    "name": "ipython",
    "version": 3
   },
   "file_extension": ".py",
   "mimetype": "text/x-python",
   "name": "python",
   "nbconvert_exporter": "python",
   "pygments_lexer": "ipython3",
   "version": "3.10.9"
  },
  "toc": {
   "base_numbering": 1,
   "nav_menu": {},
   "number_sections": true,
   "sideBar": true,
   "skip_h1_title": false,
   "title_cell": "Table of Contents",
   "title_sidebar": "Contents",
   "toc_cell": false,
   "toc_position": {},
   "toc_section_display": true,
   "toc_window_display": false
  }
 },
 "nbformat": 4,
 "nbformat_minor": 5
}
