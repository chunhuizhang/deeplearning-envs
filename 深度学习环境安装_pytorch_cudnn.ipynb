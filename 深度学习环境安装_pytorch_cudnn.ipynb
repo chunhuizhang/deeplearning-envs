{
 "cells": [
  {
   "cell_type": "markdown",
   "id": "2c139751",
   "metadata": {},
   "source": [
    "- 参考\n",
    "    - https://blog.csdn.net/anmin8888/article/details/127910084"
   ]
  },
  {
   "cell_type": "markdown",
   "id": "bf9e199b",
   "metadata": {},
   "source": [
    "## cuda"
   ]
  },
  {
   "cell_type": "markdown",
   "id": "e30367ff",
   "metadata": {},
   "source": [
    "- `libcuda.so/libcudart.so`\n",
    "    - `ll /usr/lib/x86_64-linux-gnu/libcuda.so.1` => 对应的 cuda driver 版本就是通过 `nvidia-smi` 查看显示的版本（`Driver Version: 525.105.17`）；"
   ]
  },
  {
   "cell_type": "code",
   "execution_count": 4,
   "id": "67d4e46b",
   "metadata": {
    "ExecuteTime": {
     "end_time": "2023-12-18T15:10:33.804506Z",
     "start_time": "2023-12-18T15:10:29.434499Z"
    }
   },
   "outputs": [
    {
     "name": "stdout",
     "output_type": "stream",
     "text": [
      "# packages in environment at /home/whaow/anaconda3:\r\n",
      "#\r\n",
      "# Name                    Version                   Build  Channel\r\n",
      "cudatoolkit               11.7.0              hd8887f6_10    nvidia\r\n"
     ]
    }
   ],
   "source": [
    "!conda list cudatoolkit"
   ]
  },
  {
   "cell_type": "code",
   "execution_count": 1,
   "id": "0be07e7f",
   "metadata": {
    "ExecuteTime": {
     "end_time": "2023-12-18T15:07:32.327706Z",
     "start_time": "2023-12-18T15:07:27.704493Z"
    }
   },
   "outputs": [
    {
     "name": "stdout",
     "output_type": "stream",
     "text": [
      "# packages in environment at /home/whaow/anaconda3:\r\n",
      "#\r\n",
      "# Name                    Version                   Build  Channel\r\n",
      "pytorch                   2.0.1           py3.10_cuda11.7_cudnn8.5.0_0    pytorch\r\n",
      "pytorch-cuda              11.7                 h778d358_5    pytorch\r\n",
      "pytorch-mutex             1.0                        cuda    pytorch\r\n"
     ]
    }
   ],
   "source": [
    "!conda list pytorch"
   ]
  },
  {
   "cell_type": "markdown",
   "id": "58c64c2e",
   "metadata": {},
   "source": [
    "- conda list cudatoolkit\n",
    "    - 也会有自己的 runtime；\n",
    "- conda list pytorch"
   ]
  },
  {
   "cell_type": "code",
   "execution_count": 2,
   "id": "ee57398c",
   "metadata": {
    "ExecuteTime": {
     "end_time": "2023-12-18T15:07:55.572403Z",
     "start_time": "2023-12-18T15:07:55.562321Z"
    }
   },
   "outputs": [
    {
     "data": {
      "text/plain": [
       "'11.7'"
      ]
     },
     "execution_count": 2,
     "metadata": {},
     "output_type": "execute_result"
    }
   ],
   "source": [
    "import torch\n",
    "torch.version.cuda"
   ]
  },
  {
   "cell_type": "code",
   "execution_count": 3,
   "id": "bf049920",
   "metadata": {
    "ExecuteTime": {
     "end_time": "2023-12-18T15:10:08.798123Z",
     "start_time": "2023-12-18T15:10:08.672899Z"
    }
   },
   "outputs": [
    {
     "name": "stdout",
     "output_type": "stream",
     "text": [
      "nvcc: NVIDIA (R) Cuda compiler driver\r\n",
      "Copyright (c) 2005-2022 NVIDIA Corporation\r\n",
      "Built on Wed_Jun__8_16:49:14_PDT_2022\r\n",
      "Cuda compilation tools, release 11.7, V11.7.99\r\n",
      "Build cuda_11.7.r11.7/compiler.31442593_0\r\n"
     ]
    }
   ],
   "source": [
    "!nvcc --version"
   ]
  },
  {
   "cell_type": "code",
   "execution_count": null,
   "id": "15216389",
   "metadata": {},
   "outputs": [],
   "source": []
  },
  {
   "cell_type": "markdown",
   "id": "23c3163f",
   "metadata": {},
   "source": [
    "## cudnn"
   ]
  },
  {
   "cell_type": "markdown",
   "id": "c2e6438d",
   "metadata": {},
   "source": [
    "- https://developer.nvidia.com/rdp/cudnn-download\n",
    "- 安装 https://docs.nvidia.com/deeplearning/cudnn/install-guide/index.html\n",
    "    - 校验\n",
    "\n",
    "```\n",
    "$ cp -r /usr/src/cudnn_samples_v8/ $HOME\n",
    "$ cd  $HOME/cudnn_samples_v8/mnistCUDNN\n",
    "$ make clean && make\n",
    "$ ./mnistCUDNN\n",
    "```\n",
    "\n",
    "- 头文件地址：\n",
    "    - `/usr/include/cudnn_version.h`\n",
    "    - `/usr/include/cudnn.h`\n",
    "    - `/usr/include/x86_64-linux-gnu/cudnn.h` ??\n",
    "    - 查询版本\n",
    "        - `cat /usr/include/cudnn_version.h | grep CUDNN_MAJOR -A 2`"
   ]
  }
 ],
 "metadata": {
  "kernelspec": {
   "display_name": "Python 3 (ipykernel)",
   "language": "python",
   "name": "python3"
  },
  "language_info": {
   "codemirror_mode": {
    "name": "ipython",
    "version": 3
   },
   "file_extension": ".py",
   "mimetype": "text/x-python",
   "name": "python",
   "nbconvert_exporter": "python",
   "pygments_lexer": "ipython3",
   "version": "3.10.13"
  },
  "toc": {
   "base_numbering": 1,
   "nav_menu": {},
   "number_sections": true,
   "sideBar": true,
   "skip_h1_title": false,
   "title_cell": "Table of Contents",
   "title_sidebar": "Contents",
   "toc_cell": false,
   "toc_position": {},
   "toc_section_display": true,
   "toc_window_display": false
  }
 },
 "nbformat": 4,
 "nbformat_minor": 5
}
