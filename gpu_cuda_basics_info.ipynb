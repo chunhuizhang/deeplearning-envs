{
 "cells": [
  {
   "cell_type": "code",
   "execution_count": 1,
   "id": "3443f092",
   "metadata": {
    "ExecuteTime": {
     "end_time": "2023-06-02T17:04:11.536854Z",
     "start_time": "2023-06-02T17:04:10.051564Z"
    }
   },
   "outputs": [],
   "source": [
    "import torch"
   ]
  },
  {
   "cell_type": "code",
   "execution_count": 5,
   "id": "1b437587",
   "metadata": {
    "ExecuteTime": {
     "end_time": "2023-06-02T17:05:16.566195Z",
     "start_time": "2023-06-02T17:05:16.557778Z"
    }
   },
   "outputs": [
    {
     "name": "stdout",
     "output_type": "stream",
     "text": [
      "2.0.1\n",
      "11.7\n"
     ]
    }
   ],
   "source": [
    "# 版本号\n",
    "print(torch.__version__)\n",
    "print(torch.version.cuda)"
   ]
  },
  {
   "cell_type": "code",
   "execution_count": 2,
   "id": "f80cfb18",
   "metadata": {
    "ExecuteTime": {
     "end_time": "2023-06-02T17:04:14.008462Z",
     "start_time": "2023-06-02T17:04:13.973035Z"
    }
   },
   "outputs": [
    {
     "data": {
      "text/plain": [
       "_CudaDeviceProperties(name='NVIDIA GeForce RTX 4090', major=8, minor=9, total_memory=24217MB, multi_processor_count=128)"
      ]
     },
     "execution_count": 2,
     "metadata": {},
     "output_type": "execute_result"
    }
   ],
   "source": [
    "# 设备基本属性\n",
    "torch.cuda.get_device_properties(torch.cuda.current_device())"
   ]
  },
  {
   "cell_type": "code",
   "execution_count": 3,
   "id": "4eaf66c2",
   "metadata": {
    "ExecuteTime": {
     "end_time": "2023-06-02T17:04:43.644780Z",
     "start_time": "2023-06-02T17:04:43.636583Z"
    }
   },
   "outputs": [
    {
     "data": {
      "text/plain": [
       "True"
      ]
     },
     "execution_count": 3,
     "metadata": {},
     "output_type": "execute_result"
    }
   ],
   "source": [
    "# bf16 支持\n",
    "torch.cuda.is_bf16_supported()"
   ]
  },
  {
   "cell_type": "markdown",
   "id": "9beeb035",
   "metadata": {},
   "source": [
    "## cuda arch list 或者 计算兼容性"
   ]
  },
  {
   "cell_type": "code",
   "execution_count": 1,
   "id": "98de6c0f",
   "metadata": {
    "ExecuteTime": {
     "end_time": "2023-12-20T14:29:19.247504Z",
     "start_time": "2023-12-20T14:29:17.502908Z"
    }
   },
   "outputs": [
    {
     "name": "stdout",
     "output_type": "stream",
     "text": [
      "(8, 9)\r\n"
     ]
    }
   ],
   "source": [
    "!CUDA_VISIBLE_DEVICES=0 python -c 'import torch; print(torch.cuda.get_device_capability())'"
   ]
  },
  {
   "cell_type": "code",
   "execution_count": 2,
   "id": "d577c679",
   "metadata": {
    "ExecuteTime": {
     "end_time": "2023-12-20T14:29:35.021180Z",
     "start_time": "2023-12-20T14:29:33.586085Z"
    }
   },
   "outputs": [
    {
     "data": {
      "text/plain": [
       "(8, 9)"
      ]
     },
     "execution_count": 2,
     "metadata": {},
     "output_type": "execute_result"
    }
   ],
   "source": [
    "import torch\n",
    "torch.cuda.get_device_capability()"
   ]
  },
  {
   "cell_type": "markdown",
   "id": "77108dfb",
   "metadata": {},
   "source": [
    "## cuda "
   ]
  },
  {
   "cell_type": "markdown",
   "id": "b790c04d",
   "metadata": {},
   "source": [
    "- cuda kernel 开发\n",
    "    - kernel 特指基于 cuda 的 function（函数），一般由 `__global__` 修饰；"
   ]
  }
 ],
 "metadata": {
  "kernelspec": {
   "display_name": "Python 3 (ipykernel)",
   "language": "python",
   "name": "python3"
  },
  "language_info": {
   "codemirror_mode": {
    "name": "ipython",
    "version": 3
   },
   "file_extension": ".py",
   "mimetype": "text/x-python",
   "name": "python",
   "nbconvert_exporter": "python",
   "pygments_lexer": "ipython3",
   "version": "3.10.13"
  },
  "toc": {
   "base_numbering": 1,
   "nav_menu": {},
   "number_sections": true,
   "sideBar": true,
   "skip_h1_title": false,
   "title_cell": "Table of Contents",
   "title_sidebar": "Contents",
   "toc_cell": false,
   "toc_position": {},
   "toc_section_display": true,
   "toc_window_display": false
  }
 },
 "nbformat": 4,
 "nbformat_minor": 5
}
