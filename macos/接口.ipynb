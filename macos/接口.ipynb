{
 "cells": [
  {
   "cell_type": "markdown",
   "id": "dde314fd-a891-42a8-9a25-93c0f5ae8b9f",
   "metadata": {},
   "source": [
    "### 内置接口类型"
   ]
  },
  {
   "cell_type": "markdown",
   "id": "95d65e3c-d584-4e77-9791-643e09095f35",
   "metadata": {},
   "source": [
    "> system report => Hardward => \n",
    "\n",
    "- 2018 intel\n",
    "    - Thunderbolt/USB4\n",
    "        - 2个\n",
    "    - USB\n",
    "- M3 pro\n",
    "    - Thunderbolt/USB4\n",
    "        - 3个"
   ]
  }
 ],
 "metadata": {
  "kernelspec": {
   "display_name": "Python 3 (ipykernel)",
   "language": "python",
   "name": "python3"
  },
  "language_info": {
   "codemirror_mode": {
    "name": "ipython",
    "version": 3
   },
   "file_extension": ".py",
   "mimetype": "text/x-python",
   "name": "python",
   "nbconvert_exporter": "python",
   "pygments_lexer": "ipython3",
   "version": "3.10.13"
  }
 },
 "nbformat": 4,
 "nbformat_minor": 5
}
