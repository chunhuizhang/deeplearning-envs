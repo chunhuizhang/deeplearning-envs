{
 "cells": [
  {
   "cell_type": "markdown",
   "id": "16079411-7df2-42c2-80ef-0df4ca302bb6",
   "metadata": {},
   "source": [
    "- MacBook Pro（特别是配备 M1 或 M2 芯片的型号）通常使用 Apple 的 Metal API 来支持 GPU 加速\n",
    "\n",
    "```\n",
    "import torch\n",
    "print(torch.backends.mps.is_available())  # True 表示 MPS（Metal Performance Shaders）可用\n",
    "print(torch.backends.mps.is_built())      # True 表示当前 PyTorch 包支持 MPS\n",
    "```"
   ]
  }
 ],
 "metadata": {
  "kernelspec": {
   "display_name": "Python 3 (ipykernel)",
   "language": "python",
   "name": "python3"
  },
  "language_info": {
   "codemirror_mode": {
    "name": "ipython",
    "version": 3
   },
   "file_extension": ".py",
   "mimetype": "text/x-python",
   "name": "python",
   "nbconvert_exporter": "python",
   "pygments_lexer": "ipython3",
   "version": "3.10.13"
  }
 },
 "nbformat": 4,
 "nbformat_minor": 5
}
