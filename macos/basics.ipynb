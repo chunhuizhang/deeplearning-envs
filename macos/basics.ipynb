{
 "cells": [
  {
   "cell_type": "markdown",
   "id": "149c14b5-18ea-4bae-b04b-5165588164db",
   "metadata": {},
   "source": [
    "### homebrew"
   ]
  },
  {
   "cell_type": "markdown",
   "id": "be1e97bb-2cc6-4549-b87f-4256ba1a3024",
   "metadata": {},
   "source": [
    "- uninstall\n",
    "    - `/bin/bash -c \"$(curl -fsSL https://raw.githubusercontent.com/Homebrew/install/HEAD/uninstall.sh)\"`\n",
    "        - 也许需要 sudo 权限\n",
    "- install\n",
    "    - `/bin/bash -c \"$(curl -fsSL https://raw.githubusercontent.com/Homebrew/install/HEAD/install.sh)\"`\n",
    "- `brew doctor`\n",
    "- `brew cleanup`"
   ]
  },
  {
   "cell_type": "markdown",
   "id": "798db804-78d0-40a8-9d79-0fc8a81bcfea",
   "metadata": {},
   "source": [
    "### app"
   ]
  },
  {
   "cell_type": "markdown",
   "id": "e50d3320-84a3-4bc5-bb21-04edd63902da",
   "metadata": {},
   "source": [
    "- Network Speed Monitor"
   ]
  }
 ],
 "metadata": {
  "kernelspec": {
   "display_name": "Python 3 (ipykernel)",
   "language": "python",
   "name": "python3"
  },
  "language_info": {
   "codemirror_mode": {
    "name": "ipython",
    "version": 3
   },
   "file_extension": ".py",
   "mimetype": "text/x-python",
   "name": "python",
   "nbconvert_exporter": "python",
   "pygments_lexer": "ipython3",
   "version": "3.10.13"
  }
 },
 "nbformat": 4,
 "nbformat_minor": 5
}
