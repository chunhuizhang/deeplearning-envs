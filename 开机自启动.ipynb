{
 "cells": [
  {
   "cell_type": "code",
   "execution_count": 1,
   "id": "30aec486",
   "metadata": {
    "ExecuteTime": {
     "end_time": "2024-01-21T10:55:23.411444Z",
     "start_time": "2024-01-21T10:55:23.279202Z"
    },
    "scrolled": true
   },
   "outputs": [
    {
     "name": "stdout",
     "output_type": "stream",
     "text": [
      "N 5\r\n"
     ]
    }
   ],
   "source": [
    "!runlevel"
   ]
  },
  {
   "cell_type": "markdown",
   "id": "b54ddf61",
   "metadata": {},
   "source": [
    "- `/etc/rc5.d`\n",
    "\n",
    "```\n",
    "    ID  Name                               Description\n",
    "    0   Halt                               Shuts down the system.\n",
    "    1   Single-user Mode                   Mode for administrative tasks.\n",
    "    2   Multi-user Mode                    Does not configure network interfaces and \n",
    "                                           does not export networks services.\n",
    "    3   Multi-user Mode with Networking    Starts the system normally.\n",
    "    4   Not used/User-definable            For special purposes.\n",
    "    5   Start the system normally with \n",
    "        with GUI                           As runlevel 3 + display manager.\n",
    "    6   Reboot                             Reboots the system.\n",
    "```"
   ]
  },
  {
   "cell_type": "markdown",
   "id": "2c6ccbd8",
   "metadata": {},
   "source": [
    "## 以 clash for windows（cfw）为例"
   ]
  },
  {
   "cell_type": "markdown",
   "id": "bad4649a",
   "metadata": {},
   "source": [
    "- `~/.config/autostart`\n",
    "    - 新建一个 `cfw.desktop`\n",
    "\n",
    "```\n",
    "[Desktop Entry]\n",
    "    Type=Application\n",
    "    Version=0.20.21\n",
    "    Name=Clash for Windows\n",
    "    Comment=Clash for Windows startup script\n",
    "    Exec=\"/home/whaow/Downloads/0904/Clash for Windows-0.20.21-x64-linux/cfw\"\n",
    "    StartupNotify=false\n",
    "    Terminal=false\n",
    "```"
   ]
  }
 ],
 "metadata": {
  "kernelspec": {
   "display_name": "Python 3 (ipykernel)",
   "language": "python",
   "name": "python3"
  },
  "language_info": {
   "codemirror_mode": {
    "name": "ipython",
    "version": 3
   },
   "file_extension": ".py",
   "mimetype": "text/x-python",
   "name": "python",
   "nbconvert_exporter": "python",
   "pygments_lexer": "ipython3",
   "version": "3.10.13"
  },
  "toc": {
   "base_numbering": 1,
   "nav_menu": {},
   "number_sections": true,
   "sideBar": true,
   "skip_h1_title": false,
   "title_cell": "Table of Contents",
   "title_sidebar": "Contents",
   "toc_cell": false,
   "toc_position": {},
   "toc_section_display": true,
   "toc_window_display": false
  }
 },
 "nbformat": 4,
 "nbformat_minor": 5
}
