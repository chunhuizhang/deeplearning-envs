{
 "cells": [
  {
   "cell_type": "markdown",
   "id": "ac1d254b",
   "metadata": {},
   "source": [
    "## basics"
   ]
  },
  {
   "cell_type": "markdown",
   "id": "6eefd624",
   "metadata": {},
   "source": [
    "- 集群管理工具\n",
    "    - SLURM"
   ]
  },
  {
   "cell_type": "markdown",
   "id": "0eeca82a",
   "metadata": {},
   "source": [
    "## SLURM"
   ]
  },
  {
   "cell_type": "markdown",
   "id": "413fccfe",
   "metadata": {},
   "source": [
    "- 常用命令\n",
    "    - sbatch\n",
    "    - salloc"
   ]
  }
 ],
 "metadata": {
  "kernelspec": {
   "display_name": "Python 3 (ipykernel)",
   "language": "python",
   "name": "python3"
  },
  "language_info": {
   "codemirror_mode": {
    "name": "ipython",
    "version": 3
   },
   "file_extension": ".py",
   "mimetype": "text/x-python",
   "name": "python",
   "nbconvert_exporter": "python",
   "pygments_lexer": "ipython3",
   "version": "3.10.9"
  },
  "toc": {
   "base_numbering": 1,
   "nav_menu": {},
   "number_sections": true,
   "sideBar": true,
   "skip_h1_title": false,
   "title_cell": "Table of Contents",
   "title_sidebar": "Contents",
   "toc_cell": false,
   "toc_position": {},
   "toc_section_display": true,
   "toc_window_display": false
  }
 },
 "nbformat": 4,
 "nbformat_minor": 5
}
