{
 "cells": [
  {
   "cell_type": "markdown",
   "id": "30652bcf",
   "metadata": {},
   "source": [
    "- https://www.youtube.com/watch?v=nL0-UZSW_24\n",
    "- https://blog.csdn.net/MONKEY3233/article/details/80240673\n",
    "- https://blog.csdn.net/qq_43566431/article/details/129823135\n",
    "- https://www.91ajs.com/information/public-ip.html"
   ]
  },
  {
   "cell_type": "markdown",
   "id": "6965e6b3",
   "metadata": {},
   "source": [
    "## ssl vpn"
   ]
  },
  {
   "cell_type": "markdown",
   "id": "93f209ae",
   "metadata": {},
   "source": [
    "## NAT"
   ]
  },
  {
   "cell_type": "markdown",
   "id": "c0ada67e",
   "metadata": {},
   "source": [
    "- network address translation"
   ]
  },
  {
   "cell_type": "markdown",
   "id": "52cd0562",
   "metadata": {},
   "source": [
    "## ZeroTier"
   ]
  },
  {
   "cell_type": "markdown",
   "id": "7f71b4f3",
   "metadata": {},
   "source": [
    "- 网页端，新建一个 network => 获取 network id 16位；\n",
    "    - `https://my.zerotier.com/`\n",
    "- 客户端安装：`curl -s https://install.zerotier.com | sudo bash`\n",
    "    - 机器A 安装 zerotier，`sudo zerotier-cli join 该networkid`\n",
    "    - 机器B 安装  zerotier，`sudo zerotier-cli join 该networkid`\n",
    "- 网页端对两个机器进行auth和name；"
   ]
  },
  {
   "cell_type": "markdown",
   "id": "16d1ef26",
   "metadata": {},
   "source": [
    "- 基本信息查看\n",
    "\n",
    "    ```\n",
    "    sudo zerotier-cli status\n",
    "    sudo zerotier-cli info\n",
    "    sudo zerotier-cli listnetworks\n",
    "    ```"
   ]
  },
  {
   "cell_type": "markdown",
   "id": "06ecaa96",
   "metadata": {},
   "source": [
    "## 内网穿透"
   ]
  }
 ],
 "metadata": {
  "kernelspec": {
   "display_name": "Python 3 (ipykernel)",
   "language": "python",
   "name": "python3"
  },
  "language_info": {
   "codemirror_mode": {
    "name": "ipython",
    "version": 3
   },
   "file_extension": ".py",
   "mimetype": "text/x-python",
   "name": "python",
   "nbconvert_exporter": "python",
   "pygments_lexer": "ipython3",
   "version": "3.10.13"
  },
  "toc": {
   "base_numbering": 1,
   "nav_menu": {},
   "number_sections": true,
   "sideBar": true,
   "skip_h1_title": false,
   "title_cell": "Table of Contents",
   "title_sidebar": "Contents",
   "toc_cell": false,
   "toc_position": {},
   "toc_section_display": true,
   "toc_window_display": false
  }
 },
 "nbformat": 4,
 "nbformat_minor": 5
}
