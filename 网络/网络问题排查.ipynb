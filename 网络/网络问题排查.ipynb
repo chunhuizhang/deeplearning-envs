{
 "cells": [
  {
   "cell_type": "markdown",
   "id": "c20c43eb-c088-4e8a-8f0a-638cfad8e363",
   "metadata": {},
   "source": [
    "- ping 10.1.120.187\n",
    "    - 当你的 Mac 想要 ping 10.1.120.187 时，它会先发送一个 ARP 请求：“谁是 10.1.120.187？请告诉我你的 MAC 地址。” 如果它没有收到响应，或者本地的 ARP 缓存条目是错误的/过期的，就会导致无法发送数据包。\n",
    "        - arp (Address Resolution Protocol) 请求: 在同一个局域网（Local Area Network, LAN）内，通过一个已知的 IP 地址，来查找对应的 MAC 地址。\n",
    "        - `arp -a`: 查看该目标 ip 的信息，如果提示 incomplete，意味着 ARP 解析失败了\n",
    "        - `sudo arp -d 10.1.120.187`：手动清除该 ip 的 arp 缓存；\n",
    "        - `ping 10.1.120.187`\n",
    "        - 或者关闭 wifi，重新连接，重试 ping"
   ]
  }
 ],
 "metadata": {
  "kernelspec": {
   "display_name": "Python 3 (ipykernel)",
   "language": "python",
   "name": "python3"
  },
  "language_info": {
   "codemirror_mode": {
    "name": "ipython",
    "version": 3
   },
   "file_extension": ".py",
   "mimetype": "text/x-python",
   "name": "python",
   "nbconvert_exporter": "python",
   "pygments_lexer": "ipython3",
   "version": "3.10.0"
  }
 },
 "nbformat": 4,
 "nbformat_minor": 5
}
