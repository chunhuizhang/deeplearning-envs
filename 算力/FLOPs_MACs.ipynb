{
 "cells": [
  {
   "cell_type": "markdown",
   "id": "16a2e77e-b386-4402-ae90-e82186d7c722",
   "metadata": {},
   "source": [
    "- FLOPs vs. MACs\n",
    "    - FLOPs: Floating point operations，乘法、加法都算；\n",
    "    - MACs: multiply–accumulate operations，一个乘法和加法算一个MAC\n",
    "        - FLOPS = 2MACs\n",
    "    - Most of modern hardware architectures uses FMA instructions for operations with tensors.\n",
    "FMA computes $a*x+b$ as one operation. Roughly GMACs = 0.5 * GFLOPs\n",
    "- FLOPs vs. FLOPS\n",
    "    - FLOPs 表示次数，末尾的 s 表示复数；\n",
    "    - FLOPS 表示速度，末尾的 s 表示 per second；\n",
    "        - Floating point operations per second\n",
    "- `thop`"
   ]
  },
  {
   "cell_type": "code",
   "execution_count": 2,
   "id": "8f424e61-8858-4d19-bd5d-d1bfbcd6be0f",
   "metadata": {
    "execution": {
     "iopub.execute_input": "2024-11-11T14:17:22.493266Z",
     "iopub.status.busy": "2024-11-11T14:17:22.492649Z",
     "iopub.status.idle": "2024-11-11T14:17:22.500406Z",
     "shell.execute_reply": "2024-11-11T14:17:22.498965Z",
     "shell.execute_reply.started": "2024-11-11T14:17:22.493218Z"
    }
   },
   "outputs": [],
   "source": [
    "# !pip install thop"
   ]
  },
  {
   "cell_type": "markdown",
   "id": "e0e4069e-5dfc-4332-a28f-2d15c8157ae1",
   "metadata": {},
   "source": [
    "### mlp & cnn"
   ]
  },
  {
   "cell_type": "markdown",
   "id": "c6db1ba9-3553-471a-8a3c-14e23b43f7ba",
   "metadata": {},
   "source": [
    "#### mlp"
   ]
  },
  {
   "cell_type": "markdown",
   "id": "30fc0438-938a-495d-b111-0bdcab92b3d3",
   "metadata": {},
   "source": [
    "- 对于一个具有 $N$ 个输入节点和 $M$ 个输出节点的全连接层，其 FLOPs 计算为：\n",
    "\n",
    "    $$\n",
    "    \\text{FLOPs}=2\\times N\\times M\n",
    "    $$"
   ]
  },
  {
   "cell_type": "code",
   "execution_count": 3,
   "id": "6cb4f1dd-c58c-496b-bc49-0437f9f15474",
   "metadata": {
    "execution": {
     "iopub.execute_input": "2024-11-11T14:21:53.693889Z",
     "iopub.status.busy": "2024-11-11T14:21:53.693194Z",
     "iopub.status.idle": "2024-11-11T14:21:55.606807Z",
     "shell.execute_reply": "2024-11-11T14:21:55.605970Z",
     "shell.execute_reply.started": "2024-11-11T14:21:53.693839Z"
    }
   },
   "outputs": [],
   "source": [
    "import torch\n",
    "import torch.nn as nn\n",
    "from thop import profile\n",
    "\n",
    "# 定义一个简单的 MLP 模型\n",
    "class SimpleMLP(nn.Module):\n",
    "    def __init__(self, input_size, hidden_size, output_size):\n",
    "        super(SimpleMLP, self).__init__()\n",
    "        self.fc1 = nn.Linear(input_size, hidden_size)\n",
    "        self.fc2 = nn.Linear(hidden_size, output_size)\n",
    "    \n",
    "    def forward(self, x):\n",
    "        x = self.fc1(x)\n",
    "        x = torch.relu(x)\n",
    "        x = self.fc2(x)\n",
    "        return x"
   ]
  },
  {
   "cell_type": "code",
   "execution_count": 9,
   "id": "b8be5051-b237-4370-99de-2ae2699c0f4b",
   "metadata": {
    "execution": {
     "iopub.execute_input": "2024-11-11T14:23:14.934859Z",
     "iopub.status.busy": "2024-11-11T14:23:14.934222Z",
     "iopub.status.idle": "2024-11-11T14:23:14.951201Z",
     "shell.execute_reply": "2024-11-11T14:23:14.949717Z",
     "shell.execute_reply.started": "2024-11-11T14:23:14.934814Z"
    }
   },
   "outputs": [
    {
     "name": "stdout",
     "output_type": "stream",
     "text": [
      "[INFO] Register count_linear() for <class 'torch.nn.modules.linear.Linear'>.\n",
      "MACs: 282624.0\n",
      "Parameters: 8906.0\n"
     ]
    }
   ],
   "source": [
    "# 定义输入参数\n",
    "input_size = 128  # 输入特征维度\n",
    "hidden_size = 64  # 隐藏层大小\n",
    "output_size = 10  # 输出特征维度\n",
    "batch_size = 32   # 批大小\n",
    "\n",
    "# 创建 MLP 模型和一个随机输入张量\n",
    "model = SimpleMLP(input_size, hidden_size, output_size)\n",
    "input_data = torch.randn(batch_size, input_size)\n",
    "\n",
    "# 使用 thop 计算 FLOPs 和参数量\n",
    "MACs, params = profile(model, inputs=(input_data,))\n",
    "\n",
    "# 展示结果\n",
    "print(f\"MACs: {MACs}\")\n",
    "print(f\"Parameters: {params}\")"
   ]
  },
  {
   "cell_type": "code",
   "execution_count": 10,
   "id": "0a3054bb-f974-4ea5-835c-f60a274feccd",
   "metadata": {
    "execution": {
     "iopub.execute_input": "2024-11-11T14:23:23.957315Z",
     "iopub.status.busy": "2024-11-11T14:23:23.956706Z",
     "iopub.status.idle": "2024-11-11T14:23:23.970575Z",
     "shell.execute_reply": "2024-11-11T14:23:23.968351Z",
     "shell.execute_reply.started": "2024-11-11T14:23:23.957270Z"
    }
   },
   "outputs": [
    {
     "data": {
      "text/plain": [
       "282624"
      ]
     },
     "execution_count": 10,
     "metadata": {},
     "output_type": "execute_result"
    }
   ],
   "source": [
    "(128 * 64 + 64 * 10) * 32"
   ]
  },
  {
   "cell_type": "code",
   "execution_count": 12,
   "id": "d4f65398-3b3e-4191-8cbf-c68fe067b038",
   "metadata": {
    "execution": {
     "iopub.execute_input": "2024-11-11T14:23:48.700419Z",
     "iopub.status.busy": "2024-11-11T14:23:48.699799Z",
     "iopub.status.idle": "2024-11-11T14:23:48.712837Z",
     "shell.execute_reply": "2024-11-11T14:23:48.710709Z",
     "shell.execute_reply.started": "2024-11-11T14:23:48.700374Z"
    }
   },
   "outputs": [
    {
     "data": {
      "text/plain": [
       "8906"
      ]
     },
     "execution_count": 12,
     "metadata": {},
     "output_type": "execute_result"
    }
   ],
   "source": [
    "(128 * 64 + 64) + (64 * 10 + 10)"
   ]
  },
  {
   "cell_type": "markdown",
   "id": "bb452366-2a27-47b8-8479-bfa4025d5e53",
   "metadata": {},
   "source": [
    "#### CNN"
   ]
  },
  {
   "cell_type": "markdown",
   "id": "24172406-df37-4c52-95c5-23c2bc2779ad",
   "metadata": {},
   "source": [
    "$$\n",
    "FLOPs=2\\cdot (out_w\\times out_h)\\cdot in_{channels} * k_{size}^2\\times out_{channels}\n",
    "$$"
   ]
  },
  {
   "cell_type": "code",
   "execution_count": 13,
   "id": "a46a663b-4144-48eb-99c1-3faf8572b9b0",
   "metadata": {
    "execution": {
     "iopub.execute_input": "2024-11-11T14:28:01.533526Z",
     "iopub.status.busy": "2024-11-11T14:28:01.532885Z",
     "iopub.status.idle": "2024-11-11T14:28:01.581054Z",
     "shell.execute_reply": "2024-11-11T14:28:01.579517Z",
     "shell.execute_reply.started": "2024-11-11T14:28:01.533468Z"
    }
   },
   "outputs": [],
   "source": [
    "model = nn.Conv2d(3, 32, kernel_size=3)\n",
    "inputs = torch.randn(1, 3, 128, 128)\n",
    "MACs, params = profile(model, inputs=(inputs, ), verbose=False)"
   ]
  },
  {
   "cell_type": "code",
   "execution_count": 15,
   "id": "6a14ec0e-9221-486c-99d7-bf4217750e53",
   "metadata": {
    "execution": {
     "iopub.execute_input": "2024-11-11T14:28:08.135514Z",
     "iopub.status.busy": "2024-11-11T14:28:08.134895Z",
     "iopub.status.idle": "2024-11-11T14:28:08.147004Z",
     "shell.execute_reply": "2024-11-11T14:28:08.145115Z",
     "shell.execute_reply.started": "2024-11-11T14:28:08.135457Z"
    }
   },
   "outputs": [
    {
     "data": {
      "text/plain": [
       "(13716864.0, 0)"
      ]
     },
     "execution_count": 15,
     "metadata": {},
     "output_type": "execute_result"
    }
   ],
   "source": [
    "MACs, params"
   ]
  },
  {
   "cell_type": "code",
   "execution_count": 18,
   "id": "296faca4-4ac8-4b7d-beab-18106533d330",
   "metadata": {
    "execution": {
     "iopub.execute_input": "2024-11-11T14:29:36.024571Z",
     "iopub.status.busy": "2024-11-11T14:29:36.023922Z",
     "iopub.status.idle": "2024-11-11T14:29:36.036927Z",
     "shell.execute_reply": "2024-11-11T14:29:36.035032Z",
     "shell.execute_reply.started": "2024-11-11T14:29:36.024525Z"
    }
   },
   "outputs": [
    {
     "data": {
      "text/plain": [
       "13716864"
      ]
     },
     "execution_count": 18,
     "metadata": {},
     "output_type": "execute_result"
    }
   ],
   "source": [
    "# 128 - 2: out width, out height\n",
    "((128 - 2)*(128 - 2)) * 3 * 3**2 * 32"
   ]
  },
  {
   "cell_type": "code",
   "execution_count": null,
   "id": "0f425ab2-d1b3-4dbd-86b7-f33d601850b4",
   "metadata": {},
   "outputs": [],
   "source": []
  }
 ],
 "metadata": {
  "kernelspec": {
   "display_name": "Python 3 (ipykernel)",
   "language": "python",
   "name": "python3"
  },
  "language_info": {
   "codemirror_mode": {
    "name": "ipython",
    "version": 3
   },
   "file_extension": ".py",
   "mimetype": "text/x-python",
   "name": "python",
   "nbconvert_exporter": "python",
   "pygments_lexer": "ipython3",
   "version": "3.10.13"
  }
 },
 "nbformat": 4,
 "nbformat_minor": 5
}
