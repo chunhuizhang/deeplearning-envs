{
 "cells": [
  {
   "cell_type": "markdown",
   "id": "6ce1a2f8",
   "metadata": {},
   "source": [
    "- mode\n",
    "    - normal"
   ]
  },
  {
   "cell_type": "markdown",
   "id": "0c39f577",
   "metadata": {},
   "source": [
    "## normal mode"
   ]
  },
  {
   "cell_type": "markdown",
   "id": "25d45139",
   "metadata": {},
   "source": [
    "- `dd`: 删除行\n",
    "- `u`: undo\n",
    "- `yy`：拷贝当前行，`p`：并拷贝（插入）到当前行后一行；\n",
    "    - `p`: paste"
   ]
  }
 ],
 "metadata": {
  "kernelspec": {
   "display_name": "Python 3 (ipykernel)",
   "language": "python",
   "name": "python3"
  },
  "language_info": {
   "codemirror_mode": {
    "name": "ipython",
    "version": 3
   },
   "file_extension": ".py",
   "mimetype": "text/x-python",
   "name": "python",
   "nbconvert_exporter": "python",
   "pygments_lexer": "ipython3",
   "version": "3.10.13"
  },
  "toc": {
   "base_numbering": 1,
   "nav_menu": {},
   "number_sections": true,
   "sideBar": true,
   "skip_h1_title": false,
   "title_cell": "Table of Contents",
   "title_sidebar": "Contents",
   "toc_cell": false,
   "toc_position": {},
   "toc_section_display": true,
   "toc_window_display": false
  }
 },
 "nbformat": 4,
 "nbformat_minor": 5
}
