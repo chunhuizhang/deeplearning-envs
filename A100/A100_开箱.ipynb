{
 "cells": [
  {
   "cell_type": "markdown",
   "id": "8c08e124",
   "metadata": {},
   "source": [
    "- references\n",
    "    - https://infohub.delltechnologies.com/static/media/client/7phukh/DAM_d6ac0280-3398-47e3-8ad8-075751746a0b.pdf\n",
    "    - https://nigelcannings.medium.com/unlocking-maximum-inference-capability-a-deep-dive-into-llama2-70b-on-an-80gb-a100-gpu-2ab1158d6b0b"
   ]
  },
  {
   "cell_type": "markdown",
   "id": "0d35ee7a",
   "metadata": {},
   "source": [
    "## gpus"
   ]
  },
  {
   "cell_type": "markdown",
   "id": "def72304",
   "metadata": {},
   "source": [
    "- `nvidia-smi`\n",
    "- `nvidia-smi topo -p2p p`\n",
    "- `nvidia-smi topo -m`"
   ]
  }
 ],
 "metadata": {
  "kernelspec": {
   "display_name": "Python 3 (ipykernel)",
   "language": "python",
   "name": "python3"
  },
  "language_info": {
   "codemirror_mode": {
    "name": "ipython",
    "version": 3
   },
   "file_extension": ".py",
   "mimetype": "text/x-python",
   "name": "python",
   "nbconvert_exporter": "python",
   "pygments_lexer": "ipython3",
   "version": "3.10.13"
  },
  "toc": {
   "base_numbering": 1,
   "nav_menu": {},
   "number_sections": true,
   "sideBar": true,
   "skip_h1_title": false,
   "title_cell": "Table of Contents",
   "title_sidebar": "Contents",
   "toc_cell": false,
   "toc_position": {},
   "toc_section_display": true,
   "toc_window_display": false
  }
 },
 "nbformat": 4,
 "nbformat_minor": 5
}
